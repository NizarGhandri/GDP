{
 "cells": [
  {
   "cell_type": "markdown",
   "metadata": {},
   "source": [
    "# GDP analysis for Tunisia"
   ]
  },
  {
   "cell_type": "markdown",
   "metadata": {},
   "source": [
    "## Imports "
   ]
  },
  {
   "cell_type": "code",
   "execution_count": 1,
   "metadata": {},
   "outputs": [],
   "source": [
    "import os\n",
    "import pandas as pd\n",
    "import matplotlib.pyplot as plt \n",
    "import seaborn as sns "
   ]
  },
  {
   "cell_type": "code",
   "execution_count": 2,
   "metadata": {
    "pycharm": {
     "name": "#%%\n"
    }
   },
   "outputs": [],
   "source": [
    "os.chdir('..')\n",
    "from src.regressions import *\n",
    "from src.helpers import *\n",
    "from src.statistical_analysis import *\n",
    "from src.evaluation_metrics import *\n",
    "from src.feature_engineering import *\n",
    "os.chdir('notebooks')"
   ]
  },
  {
   "cell_type": "markdown",
   "metadata": {},
   "source": [
    "## Loading and visualizing the dataset "
   ]
  },
  {
   "cell_type": "markdown",
   "metadata": {
    "pycharm": {
     "name": "#%% md\n"
    }
   },
   "source": [
    "Load the dataset in a pandas dataframe."
   ]
  },
  {
   "cell_type": "code",
   "execution_count": 3,
   "metadata": {},
   "outputs": [],
   "source": [
    "PATH = os.path.join(\"..\", \"data\", \"Tunisia2.csv\")\n",
    "\n",
    "dataset = pd.read_csv(PATH)"
   ]
  },
  {
   "cell_type": "markdown",
   "metadata": {},
   "source": [
    "Visualize the dataset."
   ]
  },
  {
   "cell_type": "code",
   "execution_count": 4,
   "metadata": {},
   "outputs": [
    {
     "data": {
      "text/html": [
       "<div>\n",
       "<style scoped>\n",
       "    .dataframe tbody tr th:only-of-type {\n",
       "        vertical-align: middle;\n",
       "    }\n",
       "\n",
       "    .dataframe tbody tr th {\n",
       "        vertical-align: top;\n",
       "    }\n",
       "\n",
       "    .dataframe thead th {\n",
       "        text-align: right;\n",
       "    }\n",
       "</style>\n",
       "<table border=\"1\" class=\"dataframe\">\n",
       "  <thead>\n",
       "    <tr style=\"text-align: right;\">\n",
       "      <th></th>\n",
       "      <th>YEAR</th>\n",
       "      <th>CGPD RELATIVE TO THE UNITED STATES (unit US=100)</th>\n",
       "      <th>CONSUMPTION SHARE OF CGPD (unit %)</th>\n",
       "      <th>CONSUMPTION SHARE OF RGDPL (unit %)</th>\n",
       "      <th>CURRENT SAVINGS (unit %)</th>\n",
       "      <th>EXCHANGE RATE (unit US=1)</th>\n",
       "      <th>GOVERNMENT SHARE OF CGDP (unit %)</th>\n",
       "      <th>GOVERNMENT SHARE OF RGDPL (unit %)</th>\n",
       "      <th>INVESTMENT SHARE OF CGDP (unit %)</th>\n",
       "      <th>INVESTMENT SHARE OF RGDPL (unit %)</th>\n",
       "      <th>OPENNESS IN CONSTANT PRICES (unit %)</th>\n",
       "      <th>OPENNESS IN CURRENT PRICES (unit %)</th>\n",
       "      <th>POPULATION (unit 000S)</th>\n",
       "      <th>PRICE LEVEL OF CONSUMPTION (unit PPP/XRATE)</th>\n",
       "      <th>PRICE LEVEL OF GOVERNMENT (unit PPP/XRATE)</th>\n",
       "      <th>PRICE LEVEL OF GROSS DOMESTIC PRODUCT (unit US=100)</th>\n",
       "      <th>PRICE LEVEL OF INVESTMENT (unit PPP/XRATE)</th>\n",
       "      <th>RATIO OF GNP TO GDP (CURRENT PRICES) (unit %)</th>\n",
       "      <th>REAL GROSS DOMESTIC PRODUCT PER CAPITA (CURRENT PRICES) (unit $ CURRENT)</th>\n",
       "    </tr>\n",
       "  </thead>\n",
       "  <tbody>\n",
       "    <tr>\n",
       "      <th>0</th>\n",
       "      <td>1950</td>\n",
       "      <td>NaN</td>\n",
       "      <td>NaN</td>\n",
       "      <td>NaN</td>\n",
       "      <td>NaN</td>\n",
       "      <td>NaN</td>\n",
       "      <td>NaN</td>\n",
       "      <td>NaN</td>\n",
       "      <td>NaN</td>\n",
       "      <td>NaN</td>\n",
       "      <td>NaN</td>\n",
       "      <td>NaN</td>\n",
       "      <td>NaN</td>\n",
       "      <td>NaN</td>\n",
       "      <td>NaN</td>\n",
       "      <td>NaN</td>\n",
       "      <td>NaN</td>\n",
       "      <td>NaN</td>\n",
       "      <td>NaN</td>\n",
       "    </tr>\n",
       "    <tr>\n",
       "      <th>1</th>\n",
       "      <td>1951</td>\n",
       "      <td>NaN</td>\n",
       "      <td>NaN</td>\n",
       "      <td>NaN</td>\n",
       "      <td>NaN</td>\n",
       "      <td>NaN</td>\n",
       "      <td>NaN</td>\n",
       "      <td>NaN</td>\n",
       "      <td>NaN</td>\n",
       "      <td>NaN</td>\n",
       "      <td>NaN</td>\n",
       "      <td>NaN</td>\n",
       "      <td>NaN</td>\n",
       "      <td>NaN</td>\n",
       "      <td>NaN</td>\n",
       "      <td>NaN</td>\n",
       "      <td>NaN</td>\n",
       "      <td>NaN</td>\n",
       "      <td>NaN</td>\n",
       "    </tr>\n",
       "    <tr>\n",
       "      <th>2</th>\n",
       "      <td>1952</td>\n",
       "      <td>NaN</td>\n",
       "      <td>NaN</td>\n",
       "      <td>NaN</td>\n",
       "      <td>NaN</td>\n",
       "      <td>NaN</td>\n",
       "      <td>NaN</td>\n",
       "      <td>NaN</td>\n",
       "      <td>NaN</td>\n",
       "      <td>NaN</td>\n",
       "      <td>NaN</td>\n",
       "      <td>NaN</td>\n",
       "      <td>NaN</td>\n",
       "      <td>NaN</td>\n",
       "      <td>NaN</td>\n",
       "      <td>NaN</td>\n",
       "      <td>NaN</td>\n",
       "      <td>NaN</td>\n",
       "      <td>NaN</td>\n",
       "    </tr>\n",
       "    <tr>\n",
       "      <th>3</th>\n",
       "      <td>1953</td>\n",
       "      <td>NaN</td>\n",
       "      <td>NaN</td>\n",
       "      <td>NaN</td>\n",
       "      <td>NaN</td>\n",
       "      <td>NaN</td>\n",
       "      <td>NaN</td>\n",
       "      <td>NaN</td>\n",
       "      <td>NaN</td>\n",
       "      <td>NaN</td>\n",
       "      <td>NaN</td>\n",
       "      <td>NaN</td>\n",
       "      <td>NaN</td>\n",
       "      <td>NaN</td>\n",
       "      <td>NaN</td>\n",
       "      <td>NaN</td>\n",
       "      <td>NaN</td>\n",
       "      <td>NaN</td>\n",
       "      <td>NaN</td>\n",
       "    </tr>\n",
       "    <tr>\n",
       "      <th>4</th>\n",
       "      <td>1954</td>\n",
       "      <td>NaN</td>\n",
       "      <td>NaN</td>\n",
       "      <td>NaN</td>\n",
       "      <td>NaN</td>\n",
       "      <td>NaN</td>\n",
       "      <td>NaN</td>\n",
       "      <td>NaN</td>\n",
       "      <td>NaN</td>\n",
       "      <td>NaN</td>\n",
       "      <td>NaN</td>\n",
       "      <td>NaN</td>\n",
       "      <td>NaN</td>\n",
       "      <td>NaN</td>\n",
       "      <td>NaN</td>\n",
       "      <td>NaN</td>\n",
       "      <td>NaN</td>\n",
       "      <td>NaN</td>\n",
       "      <td>NaN</td>\n",
       "    </tr>\n",
       "    <tr>\n",
       "      <th>5</th>\n",
       "      <td>1955</td>\n",
       "      <td>NaN</td>\n",
       "      <td>NaN</td>\n",
       "      <td>NaN</td>\n",
       "      <td>NaN</td>\n",
       "      <td>NaN</td>\n",
       "      <td>NaN</td>\n",
       "      <td>NaN</td>\n",
       "      <td>NaN</td>\n",
       "      <td>NaN</td>\n",
       "      <td>NaN</td>\n",
       "      <td>NaN</td>\n",
       "      <td>NaN</td>\n",
       "      <td>NaN</td>\n",
       "      <td>NaN</td>\n",
       "      <td>NaN</td>\n",
       "      <td>NaN</td>\n",
       "      <td>NaN</td>\n",
       "      <td>NaN</td>\n",
       "    </tr>\n",
       "    <tr>\n",
       "      <th>6</th>\n",
       "      <td>1956</td>\n",
       "      <td>NaN</td>\n",
       "      <td>NaN</td>\n",
       "      <td>NaN</td>\n",
       "      <td>NaN</td>\n",
       "      <td>NaN</td>\n",
       "      <td>NaN</td>\n",
       "      <td>NaN</td>\n",
       "      <td>NaN</td>\n",
       "      <td>NaN</td>\n",
       "      <td>NaN</td>\n",
       "      <td>NaN</td>\n",
       "      <td>NaN</td>\n",
       "      <td>NaN</td>\n",
       "      <td>NaN</td>\n",
       "      <td>NaN</td>\n",
       "      <td>NaN</td>\n",
       "      <td>NaN</td>\n",
       "      <td>NaN</td>\n",
       "    </tr>\n",
       "    <tr>\n",
       "      <th>7</th>\n",
       "      <td>1957</td>\n",
       "      <td>NaN</td>\n",
       "      <td>NaN</td>\n",
       "      <td>NaN</td>\n",
       "      <td>NaN</td>\n",
       "      <td>NaN</td>\n",
       "      <td>NaN</td>\n",
       "      <td>NaN</td>\n",
       "      <td>NaN</td>\n",
       "      <td>NaN</td>\n",
       "      <td>NaN</td>\n",
       "      <td>NaN</td>\n",
       "      <td>NaN</td>\n",
       "      <td>NaN</td>\n",
       "      <td>NaN</td>\n",
       "      <td>NaN</td>\n",
       "      <td>NaN</td>\n",
       "      <td>NaN</td>\n",
       "      <td>NaN</td>\n",
       "    </tr>\n",
       "    <tr>\n",
       "      <th>8</th>\n",
       "      <td>1958</td>\n",
       "      <td>NaN</td>\n",
       "      <td>NaN</td>\n",
       "      <td>NaN</td>\n",
       "      <td>NaN</td>\n",
       "      <td>NaN</td>\n",
       "      <td>NaN</td>\n",
       "      <td>NaN</td>\n",
       "      <td>NaN</td>\n",
       "      <td>NaN</td>\n",
       "      <td>NaN</td>\n",
       "      <td>NaN</td>\n",
       "      <td>NaN</td>\n",
       "      <td>NaN</td>\n",
       "      <td>NaN</td>\n",
       "      <td>NaN</td>\n",
       "      <td>NaN</td>\n",
       "      <td>NaN</td>\n",
       "      <td>NaN</td>\n",
       "    </tr>\n",
       "    <tr>\n",
       "      <th>9</th>\n",
       "      <td>1959</td>\n",
       "      <td>NaN</td>\n",
       "      <td>NaN</td>\n",
       "      <td>NaN</td>\n",
       "      <td>NaN</td>\n",
       "      <td>NaN</td>\n",
       "      <td>NaN</td>\n",
       "      <td>NaN</td>\n",
       "      <td>NaN</td>\n",
       "      <td>NaN</td>\n",
       "      <td>NaN</td>\n",
       "      <td>NaN</td>\n",
       "      <td>NaN</td>\n",
       "      <td>NaN</td>\n",
       "      <td>NaN</td>\n",
       "      <td>NaN</td>\n",
       "      <td>NaN</td>\n",
       "      <td>NaN</td>\n",
       "      <td>NaN</td>\n",
       "    </tr>\n",
       "    <tr>\n",
       "      <th>10</th>\n",
       "      <td>1960</td>\n",
       "      <td>NaN</td>\n",
       "      <td>NaN</td>\n",
       "      <td>NaN</td>\n",
       "      <td>NaN</td>\n",
       "      <td>NaN</td>\n",
       "      <td>NaN</td>\n",
       "      <td>NaN</td>\n",
       "      <td>NaN</td>\n",
       "      <td>NaN</td>\n",
       "      <td>NaN</td>\n",
       "      <td>NaN</td>\n",
       "      <td>NaN</td>\n",
       "      <td>NaN</td>\n",
       "      <td>NaN</td>\n",
       "      <td>NaN</td>\n",
       "      <td>NaN</td>\n",
       "      <td>NaN</td>\n",
       "      <td>NaN</td>\n",
       "    </tr>\n",
       "    <tr>\n",
       "      <th>11</th>\n",
       "      <td>1961</td>\n",
       "      <td>20.256020</td>\n",
       "      <td>65.968029</td>\n",
       "      <td>84.077038</td>\n",
       "      <td>25.056779</td>\n",
       "      <td>0.420000</td>\n",
       "      <td>8.975192</td>\n",
       "      <td>14.360423</td>\n",
       "      <td>18.187471</td>\n",
       "      <td>19.338501</td>\n",
       "      <td>73.139002</td>\n",
       "      <td>33.374211</td>\n",
       "      <td>4277.37</td>\n",
       "      <td>30.415570</td>\n",
       "      <td>64.070035</td>\n",
       "      <td>34.057920</td>\n",
       "      <td>32.458694</td>\n",
       "      <td>99.856768</td>\n",
       "      <td>594.567157</td>\n",
       "    </tr>\n",
       "    <tr>\n",
       "      <th>12</th>\n",
       "      <td>1962</td>\n",
       "      <td>18.838307</td>\n",
       "      <td>60.502391</td>\n",
       "      <td>78.355410</td>\n",
       "      <td>30.053931</td>\n",
       "      <td>0.420000</td>\n",
       "      <td>9.443678</td>\n",
       "      <td>15.113407</td>\n",
       "      <td>24.390946</td>\n",
       "      <td>27.087734</td>\n",
       "      <td>73.960634</td>\n",
       "      <td>32.376941</td>\n",
       "      <td>4350.81</td>\n",
       "      <td>30.445641</td>\n",
       "      <td>62.224994</td>\n",
       "      <td>34.574065</td>\n",
       "      <td>34.108856</td>\n",
       "      <td>99.193991</td>\n",
       "      <td>585.026866</td>\n",
       "    </tr>\n",
       "    <tr>\n",
       "      <th>13</th>\n",
       "      <td>1963</td>\n",
       "      <td>19.391908</td>\n",
       "      <td>59.905531</td>\n",
       "      <td>75.526166</td>\n",
       "      <td>31.314343</td>\n",
       "      <td>0.420000</td>\n",
       "      <td>8.780126</td>\n",
       "      <td>13.478514</td>\n",
       "      <td>25.410376</td>\n",
       "      <td>27.456574</td>\n",
       "      <td>68.334947</td>\n",
       "      <td>29.668713</td>\n",
       "      <td>4436.64</td>\n",
       "      <td>33.900222</td>\n",
       "      <td>63.101045</td>\n",
       "      <td>36.916491</td>\n",
       "      <td>34.979785</td>\n",
       "      <td>98.780559</td>\n",
       "      <td>626.880665</td>\n",
       "    </tr>\n",
       "    <tr>\n",
       "      <th>14</th>\n",
       "      <td>1964</td>\n",
       "      <td>18.467345</td>\n",
       "      <td>58.134828</td>\n",
       "      <td>72.610501</td>\n",
       "      <td>32.739818</td>\n",
       "      <td>0.446250</td>\n",
       "      <td>9.125354</td>\n",
       "      <td>13.726819</td>\n",
       "      <td>27.343548</td>\n",
       "      <td>29.294339</td>\n",
       "      <td>73.762142</td>\n",
       "      <td>31.694726</td>\n",
       "      <td>4530.84</td>\n",
       "      <td>33.184629</td>\n",
       "      <td>60.360868</td>\n",
       "      <td>35.761779</td>\n",
       "      <td>33.031584</td>\n",
       "      <td>98.588512</td>\n",
       "      <td>633.130358</td>\n",
       "    </tr>\n",
       "    <tr>\n",
       "      <th>15</th>\n",
       "      <td>1965</td>\n",
       "      <td>18.016734</td>\n",
       "      <td>60.007163</td>\n",
       "      <td>76.206713</td>\n",
       "      <td>30.800610</td>\n",
       "      <td>0.525000</td>\n",
       "      <td>9.192227</td>\n",
       "      <td>13.661409</td>\n",
       "      <td>26.149447</td>\n",
       "      <td>28.443677</td>\n",
       "      <td>73.179266</td>\n",
       "      <td>33.442245</td>\n",
       "      <td>4630.00</td>\n",
       "      <td>28.120064</td>\n",
       "      <td>53.335522</td>\n",
       "      <td>32.289701</td>\n",
       "      <td>34.459924</td>\n",
       "      <td>97.539881</td>\n",
       "      <td>662.902300</td>\n",
       "    </tr>\n",
       "    <tr>\n",
       "      <th>16</th>\n",
       "      <td>1966</td>\n",
       "      <td>17.349583</td>\n",
       "      <td>57.517317</td>\n",
       "      <td>72.735068</td>\n",
       "      <td>32.328167</td>\n",
       "      <td>0.525000</td>\n",
       "      <td>10.154515</td>\n",
       "      <td>14.743698</td>\n",
       "      <td>24.770985</td>\n",
       "      <td>27.003542</td>\n",
       "      <td>74.293899</td>\n",
       "      <td>34.528820</td>\n",
       "      <td>4731.40</td>\n",
       "      <td>29.180921</td>\n",
       "      <td>45.339113</td>\n",
       "      <td>31.848963</td>\n",
       "      <td>32.513963</td>\n",
       "      <td>97.438249</td>\n",
       "      <td>690.789798</td>\n",
       "    </tr>\n",
       "    <tr>\n",
       "      <th>17</th>\n",
       "      <td>1967</td>\n",
       "      <td>16.777991</td>\n",
       "      <td>56.550959</td>\n",
       "      <td>72.481715</td>\n",
       "      <td>32.419734</td>\n",
       "      <td>0.525000</td>\n",
       "      <td>11.029307</td>\n",
       "      <td>15.955845</td>\n",
       "      <td>25.735524</td>\n",
       "      <td>28.547345</td>\n",
       "      <td>78.763757</td>\n",
       "      <td>35.736842</td>\n",
       "      <td>4832.92</td>\n",
       "      <td>30.995852</td>\n",
       "      <td>40.592191</td>\n",
       "      <td>32.302675</td>\n",
       "      <td>31.621689</td>\n",
       "      <td>96.596491</td>\n",
       "      <td>695.452511</td>\n",
       "    </tr>\n",
       "    <tr>\n",
       "      <th>18</th>\n",
       "      <td>1968</td>\n",
       "      <td>16.583193</td>\n",
       "      <td>54.722002</td>\n",
       "      <td>65.541070</td>\n",
       "      <td>33.957403</td>\n",
       "      <td>0.525000</td>\n",
       "      <td>11.320596</td>\n",
       "      <td>15.040985</td>\n",
       "      <td>23.874291</td>\n",
       "      <td>25.011084</td>\n",
       "      <td>66.989652</td>\n",
       "      <td>31.786106</td>\n",
       "      <td>4933.13</td>\n",
       "      <td>30.168207</td>\n",
       "      <td>50.138557</td>\n",
       "      <td>33.115961</td>\n",
       "      <td>31.800784</td>\n",
       "      <td>95.891495</td>\n",
       "      <td>743.527791</td>\n",
       "    </tr>\n",
       "    <tr>\n",
       "      <th>19</th>\n",
       "      <td>1969</td>\n",
       "      <td>16.686103</td>\n",
       "      <td>57.231688</td>\n",
       "      <td>67.604602</td>\n",
       "      <td>31.827467</td>\n",
       "      <td>0.525000</td>\n",
       "      <td>10.940845</td>\n",
       "      <td>14.123541</td>\n",
       "      <td>22.362021</td>\n",
       "      <td>22.984502</td>\n",
       "      <td>64.621906</td>\n",
       "      <td>34.805080</td>\n",
       "      <td>5031.21</td>\n",
       "      <td>28.269322</td>\n",
       "      <td>50.916301</td>\n",
       "      <td>31.942932</td>\n",
       "      <td>32.061982</td>\n",
       "      <td>95.673366</td>\n",
       "      <td>802.620867</td>\n",
       "    </tr>\n",
       "    <tr>\n",
       "      <th>20</th>\n",
       "      <td>1970</td>\n",
       "      <td>16.013538</td>\n",
       "      <td>67.826071</td>\n",
       "      <td>72.520892</td>\n",
       "      <td>19.487610</td>\n",
       "      <td>0.525000</td>\n",
       "      <td>12.686319</td>\n",
       "      <td>14.395659</td>\n",
       "      <td>22.240389</td>\n",
       "      <td>20.767089</td>\n",
       "      <td>68.244879</td>\n",
       "      <td>46.744309</td>\n",
       "      <td>5127.00</td>\n",
       "      <td>33.464674</td>\n",
       "      <td>46.594066</td>\n",
       "      <td>35.058131</td>\n",
       "      <td>33.337359</td>\n",
       "      <td>95.897300</td>\n",
       "      <td>800.719849</td>\n",
       "    </tr>\n",
       "    <tr>\n",
       "      <th>21</th>\n",
       "      <td>1971</td>\n",
       "      <td>16.591692</td>\n",
       "      <td>66.660237</td>\n",
       "      <td>69.451663</td>\n",
       "      <td>20.953263</td>\n",
       "      <td>0.522917</td>\n",
       "      <td>12.386500</td>\n",
       "      <td>13.335611</td>\n",
       "      <td>21.282360</td>\n",
       "      <td>19.502827</td>\n",
       "      <td>72.152898</td>\n",
       "      <td>48.536089</td>\n",
       "      <td>5208.17</td>\n",
       "      <td>34.441779</td>\n",
       "      <td>45.963995</td>\n",
       "      <td>36.354799</td>\n",
       "      <td>36.754103</td>\n",
       "      <td>96.640944</td>\n",
       "      <td>890.010391</td>\n",
       "    </tr>\n",
       "    <tr>\n",
       "      <th>22</th>\n",
       "      <td>1972</td>\n",
       "      <td>18.219479</td>\n",
       "      <td>64.850460</td>\n",
       "      <td>68.411583</td>\n",
       "      <td>23.473672</td>\n",
       "      <td>0.477083</td>\n",
       "      <td>11.675867</td>\n",
       "      <td>12.466795</td>\n",
       "      <td>22.864773</td>\n",
       "      <td>21.432801</td>\n",
       "      <td>76.468898</td>\n",
       "      <td>50.088994</td>\n",
       "      <td>5294.36</td>\n",
       "      <td>38.076687</td>\n",
       "      <td>49.641473</td>\n",
       "      <td>39.764185</td>\n",
       "      <td>39.506546</td>\n",
       "      <td>96.627635</td>\n",
       "      <td>1062.840527</td>\n",
       "    </tr>\n",
       "    <tr>\n",
       "      <th>23</th>\n",
       "      <td>1973</td>\n",
       "      <td>17.876300</td>\n",
       "      <td>70.393103</td>\n",
       "      <td>75.236113</td>\n",
       "      <td>17.728468</td>\n",
       "      <td>0.421596</td>\n",
       "      <td>11.878429</td>\n",
       "      <td>12.691557</td>\n",
       "      <td>18.084587</td>\n",
       "      <td>17.081003</td>\n",
       "      <td>69.717812</td>\n",
       "      <td>52.471120</td>\n",
       "      <td>5388.74</td>\n",
       "      <td>39.847293</td>\n",
       "      <td>55.954958</td>\n",
       "      <td>43.877272</td>\n",
       "      <td>51.630771</td>\n",
       "      <td>95.596291</td>\n",
       "      <td>1154.955803</td>\n",
       "    </tr>\n",
       "    <tr>\n",
       "      <th>24</th>\n",
       "      <td>1974</td>\n",
       "      <td>19.866764</td>\n",
       "      <td>65.041027</td>\n",
       "      <td>74.146004</td>\n",
       "      <td>23.389227</td>\n",
       "      <td>0.436508</td>\n",
       "      <td>11.569746</td>\n",
       "      <td>12.971570</td>\n",
       "      <td>20.229904</td>\n",
       "      <td>20.050599</td>\n",
       "      <td>78.043927</td>\n",
       "      <td>67.573330</td>\n",
       "      <td>5493.74</td>\n",
       "      <td>41.610853</td>\n",
       "      <td>53.513339</td>\n",
       "      <td>46.814768</td>\n",
       "      <td>59.714841</td>\n",
       "      <td>96.446565</td>\n",
       "      <td>1378.705026</td>\n",
       "    </tr>\n",
       "    <tr>\n",
       "      <th>25</th>\n",
       "      <td>1975</td>\n",
       "      <td>21.269977</td>\n",
       "      <td>70.351205</td>\n",
       "      <td>78.364025</td>\n",
       "      <td>17.121898</td>\n",
       "      <td>0.402267</td>\n",
       "      <td>12.526898</td>\n",
       "      <td>13.674534</td>\n",
       "      <td>18.993954</td>\n",
       "      <td>18.093761</td>\n",
       "      <td>75.242492</td>\n",
       "      <td>63.960032</td>\n",
       "      <td>5611.00</td>\n",
       "      <td>40.776424</td>\n",
       "      <td>56.495467</td>\n",
       "      <td>48.424805</td>\n",
       "      <td>71.430677</td>\n",
       "      <td>96.864588</td>\n",
       "      <td>1593.222011</td>\n",
       "    </tr>\n",
       "    <tr>\n",
       "      <th>26</th>\n",
       "      <td>1976</td>\n",
       "      <td>20.236144</td>\n",
       "      <td>71.248280</td>\n",
       "      <td>76.132255</td>\n",
       "      <td>15.372250</td>\n",
       "      <td>0.428775</td>\n",
       "      <td>13.379471</td>\n",
       "      <td>14.020794</td>\n",
       "      <td>20.302412</td>\n",
       "      <td>18.688662</td>\n",
       "      <td>80.158475</td>\n",
       "      <td>63.098815</td>\n",
       "      <td>5742.30</td>\n",
       "      <td>38.882584</td>\n",
       "      <td>53.114389</td>\n",
       "      <td>46.866998</td>\n",
       "      <td>70.770020</td>\n",
       "      <td>95.747546</td>\n",
       "      <td>1675.133207</td>\n",
       "    </tr>\n",
       "    <tr>\n",
       "      <th>27</th>\n",
       "      <td>1977</td>\n",
       "      <td>19.713022</td>\n",
       "      <td>74.619076</td>\n",
       "      <td>79.748086</td>\n",
       "      <td>11.230257</td>\n",
       "      <td>0.428950</td>\n",
       "      <td>14.150667</td>\n",
       "      <td>14.521746</td>\n",
       "      <td>19.661299</td>\n",
       "      <td>18.274345</td>\n",
       "      <td>85.718587</td>\n",
       "      <td>67.594325</td>\n",
       "      <td>5889.60</td>\n",
       "      <td>39.853943</td>\n",
       "      <td>55.114795</td>\n",
       "      <td>48.195295</td>\n",
       "      <td>74.872496</td>\n",
       "      <td>96.103840</td>\n",
       "      <td>1800.211826</td>\n",
       "    </tr>\n",
       "    <tr>\n",
       "      <th>28</th>\n",
       "      <td>1978</td>\n",
       "      <td>19.563451</td>\n",
       "      <td>73.619567</td>\n",
       "      <td>79.737018</td>\n",
       "      <td>12.676501</td>\n",
       "      <td>0.416171</td>\n",
       "      <td>13.703932</td>\n",
       "      <td>14.300578</td>\n",
       "      <td>20.450565</td>\n",
       "      <td>19.161556</td>\n",
       "      <td>87.620134</td>\n",
       "      <td>69.700875</td>\n",
       "      <td>6049.40</td>\n",
       "      <td>40.668872</td>\n",
       "      <td>58.878775</td>\n",
       "      <td>49.352036</td>\n",
       "      <td>74.226507</td>\n",
       "      <td>96.384720</td>\n",
       "      <td>1999.148803</td>\n",
       "    </tr>\n",
       "    <tr>\n",
       "      <th>29</th>\n",
       "      <td>1979</td>\n",
       "      <td>20.569970</td>\n",
       "      <td>70.894607</td>\n",
       "      <td>79.347458</td>\n",
       "      <td>16.618670</td>\n",
       "      <td>0.406462</td>\n",
       "      <td>12.486723</td>\n",
       "      <td>13.561995</td>\n",
       "      <td>19.606349</td>\n",
       "      <td>19.092366</td>\n",
       "      <td>96.769704</td>\n",
       "      <td>80.947984</td>\n",
       "      <td>6215.57</td>\n",
       "      <td>40.941211</td>\n",
       "      <td>60.586389</td>\n",
       "      <td>49.742742</td>\n",
       "      <td>74.662195</td>\n",
       "      <td>96.293642</td>\n",
       "      <td>2325.139709</td>\n",
       "    </tr>\n",
       "    <tr>\n",
       "      <th>30</th>\n",
       "      <td>1980</td>\n",
       "      <td>21.943303</td>\n",
       "      <td>74.320326</td>\n",
       "      <td>81.918696</td>\n",
       "      <td>12.791213</td>\n",
       "      <td>0.404954</td>\n",
       "      <td>12.888461</td>\n",
       "      <td>13.647067</td>\n",
       "      <td>18.154859</td>\n",
       "      <td>17.639286</td>\n",
       "      <td>90.830218</td>\n",
       "      <td>85.838155</td>\n",
       "      <td>6384.00</td>\n",
       "      <td>42.460663</td>\n",
       "      <td>57.561945</td>\n",
       "      <td>51.281600</td>\n",
       "      <td>82.933229</td>\n",
       "      <td>96.644545</td>\n",
       "      <td>2670.571897</td>\n",
       "    </tr>\n",
       "    <tr>\n",
       "      <th>31</th>\n",
       "      <td>1981</td>\n",
       "      <td>22.177435</td>\n",
       "      <td>75.500446</td>\n",
       "      <td>84.214176</td>\n",
       "      <td>11.210796</td>\n",
       "      <td>0.493804</td>\n",
       "      <td>13.288758</td>\n",
       "      <td>14.186838</td>\n",
       "      <td>19.677879</td>\n",
       "      <td>19.474307</td>\n",
       "      <td>94.963740</td>\n",
       "      <td>91.210955</td>\n",
       "      <td>6555.38</td>\n",
       "      <td>34.899777</td>\n",
       "      <td>47.815869</td>\n",
       "      <td>42.952595</td>\n",
       "      <td>70.565552</td>\n",
       "      <td>96.412783</td>\n",
       "      <td>2993.367551</td>\n",
       "    </tr>\n",
       "    <tr>\n",
       "      <th>32</th>\n",
       "      <td>1982</td>\n",
       "      <td>22.622009</td>\n",
       "      <td>76.816236</td>\n",
       "      <td>86.453005</td>\n",
       "      <td>9.106094</td>\n",
       "      <td>0.590688</td>\n",
       "      <td>14.077670</td>\n",
       "      <td>15.268044</td>\n",
       "      <td>19.636026</td>\n",
       "      <td>19.375842</td>\n",
       "      <td>92.976491</td>\n",
       "      <td>84.349763</td>\n",
       "      <td>6729.64</td>\n",
       "      <td>31.156731</td>\n",
       "      <td>45.101877</td>\n",
       "      <td>38.428502</td>\n",
       "      <td>62.091360</td>\n",
       "      <td>96.380395</td>\n",
       "      <td>3145.111688</td>\n",
       "    </tr>\n",
       "    <tr>\n",
       "      <th>33</th>\n",
       "      <td>1983</td>\n",
       "      <td>22.454702</td>\n",
       "      <td>76.198939</td>\n",
       "      <td>85.222814</td>\n",
       "      <td>9.648043</td>\n",
       "      <td>0.678767</td>\n",
       "      <td>14.153018</td>\n",
       "      <td>15.281382</td>\n",
       "      <td>18.003577</td>\n",
       "      <td>17.916821</td>\n",
       "      <td>87.005046</td>\n",
       "      <td>77.084034</td>\n",
       "      <td>6905.90</td>\n",
       "      <td>27.399005</td>\n",
       "      <td>43.076148</td>\n",
       "      <td>36.033366</td>\n",
       "      <td>67.041232</td>\n",
       "      <td>96.797871</td>\n",
       "      <td>3355.767376</td>\n",
       "    </tr>\n",
       "    <tr>\n",
       "      <th>34</th>\n",
       "      <td>1984</td>\n",
       "      <td>21.227082</td>\n",
       "      <td>78.234039</td>\n",
       "      <td>85.596328</td>\n",
       "      <td>7.173473</td>\n",
       "      <td>0.776833</td>\n",
       "      <td>14.592488</td>\n",
       "      <td>15.366375</td>\n",
       "      <td>18.538955</td>\n",
       "      <td>18.497655</td>\n",
       "      <td>86.363146</td>\n",
       "      <td>77.290875</td>\n",
       "      <td>7043.93</td>\n",
       "      <td>25.084713</td>\n",
       "      <td>38.719976</td>\n",
       "      <td>33.491767</td>\n",
       "      <td>64.854118</td>\n",
       "      <td>96.920032</td>\n",
       "      <td>3498.965653</td>\n",
       "    </tr>\n",
       "    <tr>\n",
       "      <th>35</th>\n",
       "      <td>1985</td>\n",
       "      <td>21.062380</td>\n",
       "      <td>76.123770</td>\n",
       "      <td>80.833791</td>\n",
       "      <td>9.392798</td>\n",
       "      <td>0.834496</td>\n",
       "      <td>14.483432</td>\n",
       "      <td>14.803332</td>\n",
       "      <td>15.422749</td>\n",
       "      <td>14.950370</td>\n",
       "      <td>74.493924</td>\n",
       "      <td>70.236383</td>\n",
       "      <td>7261.79</td>\n",
       "      <td>24.274488</td>\n",
       "      <td>36.959599</td>\n",
       "      <td>31.412281</td>\n",
       "      <td>61.433619</td>\n",
       "      <td>95.818077</td>\n",
       "      <td>3686.927715</td>\n",
       "    </tr>\n",
       "    <tr>\n",
       "      <th>36</th>\n",
       "      <td>1986</td>\n",
       "      <td>19.497846</td>\n",
       "      <td>79.480983</td>\n",
       "      <td>81.204077</td>\n",
       "      <td>5.632619</td>\n",
       "      <td>0.794029</td>\n",
       "      <td>14.886398</td>\n",
       "      <td>14.734432</td>\n",
       "      <td>12.752332</td>\n",
       "      <td>12.005080</td>\n",
       "      <td>74.360694</td>\n",
       "      <td>67.485057</td>\n",
       "      <td>7494.10</td>\n",
       "      <td>26.577834</td>\n",
       "      <td>40.201839</td>\n",
       "      <td>33.667640</td>\n",
       "      <td>70.228335</td>\n",
       "      <td>95.324285</td>\n",
       "      <td>3574.116294</td>\n",
       "    </tr>\n",
       "    <tr>\n",
       "      <th>37</th>\n",
       "      <td>1987</td>\n",
       "      <td>19.906031</td>\n",
       "      <td>75.652061</td>\n",
       "      <td>77.045095</td>\n",
       "      <td>10.598159</td>\n",
       "      <td>0.828663</td>\n",
       "      <td>13.749780</td>\n",
       "      <td>13.876849</td>\n",
       "      <td>11.587544</td>\n",
       "      <td>11.025969</td>\n",
       "      <td>72.337048</td>\n",
       "      <td>70.642044</td>\n",
       "      <td>7686.26</td>\n",
       "      <td>26.218674</td>\n",
       "      <td>40.371693</td>\n",
       "      <td>32.753785</td>\n",
       "      <td>66.380410</td>\n",
       "      <td>94.987124</td>\n",
       "      <td>3851.659028</td>\n",
       "    </tr>\n",
       "    <tr>\n",
       "      <th>38</th>\n",
       "      <td>1988</td>\n",
       "      <td>19.065617</td>\n",
       "      <td>75.929344</td>\n",
       "      <td>77.158513</td>\n",
       "      <td>10.458686</td>\n",
       "      <td>0.857804</td>\n",
       "      <td>13.611970</td>\n",
       "      <td>13.694832</td>\n",
       "      <td>10.098434</td>\n",
       "      <td>9.538664</td>\n",
       "      <td>84.651245</td>\n",
       "      <td>83.675497</td>\n",
       "      <td>7859.16</td>\n",
       "      <td>26.784828</td>\n",
       "      <td>39.740273</td>\n",
       "      <td>32.620071</td>\n",
       "      <td>66.897284</td>\n",
       "      <td>95.069628</td>\n",
       "      <td>3938.209339</td>\n",
       "    </tr>\n",
       "    <tr>\n",
       "      <th>39</th>\n",
       "      <td>1989</td>\n",
       "      <td>18.206046</td>\n",
       "      <td>75.171161</td>\n",
       "      <td>77.037074</td>\n",
       "      <td>10.023805</td>\n",
       "      <td>0.949321</td>\n",
       "      <td>14.805034</td>\n",
       "      <td>14.779562</td>\n",
       "      <td>13.339792</td>\n",
       "      <td>12.737008</td>\n",
       "      <td>94.219154</td>\n",
       "      <td>92.007210</td>\n",
       "      <td>7960.26</td>\n",
       "      <td>26.205354</td>\n",
       "      <td>36.962883</td>\n",
       "      <td>31.700063</td>\n",
       "      <td>56.822452</td>\n",
       "      <td>95.263764</td>\n",
       "      <td>4003.259250</td>\n",
       "    </tr>\n",
       "    <tr>\n",
       "      <th>40</th>\n",
       "      <td>1990</td>\n",
       "      <td>18.723895</td>\n",
       "      <td>77.356104</td>\n",
       "      <td>78.676219</td>\n",
       "      <td>7.937431</td>\n",
       "      <td>0.878333</td>\n",
       "      <td>14.706466</td>\n",
       "      <td>14.200876</td>\n",
       "      <td>14.984594</td>\n",
       "      <td>14.488682</td>\n",
       "      <td>95.090483</td>\n",
       "      <td>94.161268</td>\n",
       "      <td>8156.00</td>\n",
       "      <td>26.367220</td>\n",
       "      <td>38.984330</td>\n",
       "      <td>35.051017</td>\n",
       "      <td>76.019733</td>\n",
       "      <td>96.678904</td>\n",
       "      <td>4307.422353</td>\n",
       "    </tr>\n",
       "    <tr>\n",
       "      <th>41</th>\n",
       "      <td>1991</td>\n",
       "      <td>19.303339</td>\n",
       "      <td>76.241679</td>\n",
       "      <td>76.534230</td>\n",
       "      <td>9.636258</td>\n",
       "      <td>0.924621</td>\n",
       "      <td>14.122063</td>\n",
       "      <td>14.313004</td>\n",
       "      <td>14.591036</td>\n",
       "      <td>13.828475</td>\n",
       "      <td>88.203649</td>\n",
       "      <td>85.686022</td>\n",
       "      <td>8341.13</td>\n",
       "      <td>25.432847</td>\n",
       "      <td>40.394349</td>\n",
       "      <td>34.424559</td>\n",
       "      <td>75.630505</td>\n",
       "      <td>96.110165</td>\n",
       "      <td>4530.700443</td>\n",
       "    </tr>\n",
       "    <tr>\n",
       "      <th>42</th>\n",
       "      <td>1992</td>\n",
       "      <td>19.662048</td>\n",
       "      <td>77.126072</td>\n",
       "      <td>76.923049</td>\n",
       "      <td>8.989474</td>\n",
       "      <td>0.884433</td>\n",
       "      <td>13.884454</td>\n",
       "      <td>13.877159</td>\n",
       "      <td>15.919336</td>\n",
       "      <td>15.581083</td>\n",
       "      <td>91.254371</td>\n",
       "      <td>85.999460</td>\n",
       "      <td>8514.70</td>\n",
       "      <td>27.720145</td>\n",
       "      <td>43.509720</td>\n",
       "      <td>37.754108</td>\n",
       "      <td>81.346793</td>\n",
       "      <td>95.399064</td>\n",
       "      <td>4820.686494</td>\n",
       "    </tr>\n",
       "    <tr>\n",
       "      <th>43</th>\n",
       "      <td>1993</td>\n",
       "      <td>19.336171</td>\n",
       "      <td>78.042870</td>\n",
       "      <td>77.214384</td>\n",
       "      <td>7.757991</td>\n",
       "      <td>1.003742</td>\n",
       "      <td>14.199138</td>\n",
       "      <td>14.101974</td>\n",
       "      <td>15.278332</td>\n",
       "      <td>14.793943</td>\n",
       "      <td>91.361726</td>\n",
       "      <td>88.411573</td>\n",
       "      <td>8675.83</td>\n",
       "      <td>27.129894</td>\n",
       "      <td>39.093536</td>\n",
       "      <td>34.142773</td>\n",
       "      <td>65.364024</td>\n",
       "      <td>94.145086</td>\n",
       "      <td>4931.601177</td>\n",
       "    </tr>\n",
       "    <tr>\n",
       "      <th>44</th>\n",
       "      <td>1994</td>\n",
       "      <td>19.431932</td>\n",
       "      <td>76.170996</td>\n",
       "      <td>75.711534</td>\n",
       "      <td>9.699915</td>\n",
       "      <td>1.011554</td>\n",
       "      <td>14.129089</td>\n",
       "      <td>13.977020</td>\n",
       "      <td>12.707445</td>\n",
       "      <td>12.453022</td>\n",
       "      <td>93.762962</td>\n",
       "      <td>92.731070</td>\n",
       "      <td>8823.69</td>\n",
       "      <td>27.649475</td>\n",
       "      <td>39.659828</td>\n",
       "      <td>33.963063</td>\n",
       "      <td>65.473896</td>\n",
       "      <td>94.346181</td>\n",
       "      <td>5214.387188</td>\n",
       "    </tr>\n",
       "    <tr>\n",
       "      <th>45</th>\n",
       "      <td>1995</td>\n",
       "      <td>19.157448</td>\n",
       "      <td>76.852099</td>\n",
       "      <td>76.187101</td>\n",
       "      <td>8.694270</td>\n",
       "      <td>0.945750</td>\n",
       "      <td>14.453631</td>\n",
       "      <td>14.064898</td>\n",
       "      <td>12.776657</td>\n",
       "      <td>12.512801</td>\n",
       "      <td>93.835678</td>\n",
       "      <td>93.384710</td>\n",
       "      <td>8957.50</td>\n",
       "      <td>30.530423</td>\n",
       "      <td>43.882443</td>\n",
       "      <td>37.577857</td>\n",
       "      <td>72.836369</td>\n",
       "      <td>95.132291</td>\n",
       "      <td>5343.954497</td>\n",
       "    </tr>\n",
       "    <tr>\n",
       "      <th>46</th>\n",
       "      <td>1996</td>\n",
       "      <td>19.970089</td>\n",
       "      <td>77.479717</td>\n",
       "      <td>77.479717</td>\n",
       "      <td>11.504338</td>\n",
       "      <td>0.973408</td>\n",
       "      <td>11.015944</td>\n",
       "      <td>11.015944</td>\n",
       "      <td>13.056840</td>\n",
       "      <td>13.056840</td>\n",
       "      <td>85.786216</td>\n",
       "      <td>85.786216</td>\n",
       "      <td>9089.30</td>\n",
       "      <td>30.406191</td>\n",
       "      <td>42.835227</td>\n",
       "      <td>36.962544</td>\n",
       "      <td>70.913431</td>\n",
       "      <td>94.732562</td>\n",
       "      <td>5830.049768</td>\n",
       "    </tr>\n",
       "    <tr>\n",
       "      <th>47</th>\n",
       "      <td>1997</td>\n",
       "      <td>19.734616</td>\n",
       "      <td>78.105445</td>\n",
       "      <td>76.912274</td>\n",
       "      <td>10.664866</td>\n",
       "      <td>1.105908</td>\n",
       "      <td>11.229689</td>\n",
       "      <td>11.111798</td>\n",
       "      <td>13.120696</td>\n",
       "      <td>13.038511</td>\n",
       "      <td>89.160626</td>\n",
       "      <td>89.978616</td>\n",
       "      <td>9215.00</td>\n",
       "      <td>26.026079</td>\n",
       "      <td>47.379482</td>\n",
       "      <td>33.745045</td>\n",
       "      <td>68.025454</td>\n",
       "      <td>95.224694</td>\n",
       "      <td>6077.835149</td>\n",
       "    </tr>\n",
       "    <tr>\n",
       "      <th>48</th>\n",
       "      <td>1998</td>\n",
       "      <td>19.710026</td>\n",
       "      <td>79.274137</td>\n",
       "      <td>77.474517</td>\n",
       "      <td>9.624375</td>\n",
       "      <td>1.138725</td>\n",
       "      <td>11.101488</td>\n",
       "      <td>11.004700</td>\n",
       "      <td>12.976099</td>\n",
       "      <td>13.118246</td>\n",
       "      <td>89.335180</td>\n",
       "      <td>89.285192</td>\n",
       "      <td>9333.30</td>\n",
       "      <td>25.621977</td>\n",
       "      <td>47.395434</td>\n",
       "      <td>33.478632</td>\n",
       "      <td>69.570548</td>\n",
       "      <td>95.631167</td>\n",
       "      <td>6352.578652</td>\n",
       "    </tr>\n",
       "    <tr>\n",
       "      <th>49</th>\n",
       "      <td>1999</td>\n",
       "      <td>20.126398</td>\n",
       "      <td>78.736261</td>\n",
       "      <td>77.113083</td>\n",
       "      <td>10.273884</td>\n",
       "      <td>1.186225</td>\n",
       "      <td>10.989854</td>\n",
       "      <td>10.797989</td>\n",
       "      <td>12.491005</td>\n",
       "      <td>12.941804</td>\n",
       "      <td>87.327827</td>\n",
       "      <td>86.644613</td>\n",
       "      <td>9455.90</td>\n",
       "      <td>24.854989</td>\n",
       "      <td>46.051417</td>\n",
       "      <td>32.670683</td>\n",
       "      <td>70.163757</td>\n",
       "      <td>95.688370</td>\n",
       "      <td>6787.782597</td>\n",
       "    </tr>\n",
       "    <tr>\n",
       "      <th>50</th>\n",
       "      <td>2000</td>\n",
       "      <td>20.018007</td>\n",
       "      <td>78.560539</td>\n",
       "      <td>77.784770</td>\n",
       "      <td>9.741253</td>\n",
       "      <td>1.370683</td>\n",
       "      <td>11.698209</td>\n",
       "      <td>10.840407</td>\n",
       "      <td>13.290416</td>\n",
       "      <td>13.533619</td>\n",
       "      <td>90.525939</td>\n",
       "      <td>91.575046</td>\n",
       "      <td>9563.50</td>\n",
       "      <td>21.976469</td>\n",
       "      <td>38.201671</td>\n",
       "      <td>28.541694</td>\n",
       "      <td>58.846481</td>\n",
       "      <td>95.427850</td>\n",
       "      <td>7130.147013</td>\n",
       "    </tr>\n",
       "  </tbody>\n",
       "</table>\n",
       "</div>"
      ],
      "text/plain": [
       "    YEAR  CGPD RELATIVE TO THE UNITED STATES (unit US=100)  \\\n",
       "0   1950                                               NaN   \n",
       "1   1951                                               NaN   \n",
       "2   1952                                               NaN   \n",
       "3   1953                                               NaN   \n",
       "4   1954                                               NaN   \n",
       "5   1955                                               NaN   \n",
       "6   1956                                               NaN   \n",
       "7   1957                                               NaN   \n",
       "8   1958                                               NaN   \n",
       "9   1959                                               NaN   \n",
       "10  1960                                               NaN   \n",
       "11  1961                                         20.256020   \n",
       "12  1962                                         18.838307   \n",
       "13  1963                                         19.391908   \n",
       "14  1964                                         18.467345   \n",
       "15  1965                                         18.016734   \n",
       "16  1966                                         17.349583   \n",
       "17  1967                                         16.777991   \n",
       "18  1968                                         16.583193   \n",
       "19  1969                                         16.686103   \n",
       "20  1970                                         16.013538   \n",
       "21  1971                                         16.591692   \n",
       "22  1972                                         18.219479   \n",
       "23  1973                                         17.876300   \n",
       "24  1974                                         19.866764   \n",
       "25  1975                                         21.269977   \n",
       "26  1976                                         20.236144   \n",
       "27  1977                                         19.713022   \n",
       "28  1978                                         19.563451   \n",
       "29  1979                                         20.569970   \n",
       "30  1980                                         21.943303   \n",
       "31  1981                                         22.177435   \n",
       "32  1982                                         22.622009   \n",
       "33  1983                                         22.454702   \n",
       "34  1984                                         21.227082   \n",
       "35  1985                                         21.062380   \n",
       "36  1986                                         19.497846   \n",
       "37  1987                                         19.906031   \n",
       "38  1988                                         19.065617   \n",
       "39  1989                                         18.206046   \n",
       "40  1990                                         18.723895   \n",
       "41  1991                                         19.303339   \n",
       "42  1992                                         19.662048   \n",
       "43  1993                                         19.336171   \n",
       "44  1994                                         19.431932   \n",
       "45  1995                                         19.157448   \n",
       "46  1996                                         19.970089   \n",
       "47  1997                                         19.734616   \n",
       "48  1998                                         19.710026   \n",
       "49  1999                                         20.126398   \n",
       "50  2000                                         20.018007   \n",
       "\n",
       "    CONSUMPTION SHARE OF CGPD (unit %)  CONSUMPTION SHARE OF RGDPL (unit %)  \\\n",
       "0                                  NaN                                  NaN   \n",
       "1                                  NaN                                  NaN   \n",
       "2                                  NaN                                  NaN   \n",
       "3                                  NaN                                  NaN   \n",
       "4                                  NaN                                  NaN   \n",
       "5                                  NaN                                  NaN   \n",
       "6                                  NaN                                  NaN   \n",
       "7                                  NaN                                  NaN   \n",
       "8                                  NaN                                  NaN   \n",
       "9                                  NaN                                  NaN   \n",
       "10                                 NaN                                  NaN   \n",
       "11                           65.968029                            84.077038   \n",
       "12                           60.502391                            78.355410   \n",
       "13                           59.905531                            75.526166   \n",
       "14                           58.134828                            72.610501   \n",
       "15                           60.007163                            76.206713   \n",
       "16                           57.517317                            72.735068   \n",
       "17                           56.550959                            72.481715   \n",
       "18                           54.722002                            65.541070   \n",
       "19                           57.231688                            67.604602   \n",
       "20                           67.826071                            72.520892   \n",
       "21                           66.660237                            69.451663   \n",
       "22                           64.850460                            68.411583   \n",
       "23                           70.393103                            75.236113   \n",
       "24                           65.041027                            74.146004   \n",
       "25                           70.351205                            78.364025   \n",
       "26                           71.248280                            76.132255   \n",
       "27                           74.619076                            79.748086   \n",
       "28                           73.619567                            79.737018   \n",
       "29                           70.894607                            79.347458   \n",
       "30                           74.320326                            81.918696   \n",
       "31                           75.500446                            84.214176   \n",
       "32                           76.816236                            86.453005   \n",
       "33                           76.198939                            85.222814   \n",
       "34                           78.234039                            85.596328   \n",
       "35                           76.123770                            80.833791   \n",
       "36                           79.480983                            81.204077   \n",
       "37                           75.652061                            77.045095   \n",
       "38                           75.929344                            77.158513   \n",
       "39                           75.171161                            77.037074   \n",
       "40                           77.356104                            78.676219   \n",
       "41                           76.241679                            76.534230   \n",
       "42                           77.126072                            76.923049   \n",
       "43                           78.042870                            77.214384   \n",
       "44                           76.170996                            75.711534   \n",
       "45                           76.852099                            76.187101   \n",
       "46                           77.479717                            77.479717   \n",
       "47                           78.105445                            76.912274   \n",
       "48                           79.274137                            77.474517   \n",
       "49                           78.736261                            77.113083   \n",
       "50                           78.560539                            77.784770   \n",
       "\n",
       "    CURRENT SAVINGS (unit %)  EXCHANGE RATE (unit US=1)  \\\n",
       "0                        NaN                        NaN   \n",
       "1                        NaN                        NaN   \n",
       "2                        NaN                        NaN   \n",
       "3                        NaN                        NaN   \n",
       "4                        NaN                        NaN   \n",
       "5                        NaN                        NaN   \n",
       "6                        NaN                        NaN   \n",
       "7                        NaN                        NaN   \n",
       "8                        NaN                        NaN   \n",
       "9                        NaN                        NaN   \n",
       "10                       NaN                        NaN   \n",
       "11                 25.056779                   0.420000   \n",
       "12                 30.053931                   0.420000   \n",
       "13                 31.314343                   0.420000   \n",
       "14                 32.739818                   0.446250   \n",
       "15                 30.800610                   0.525000   \n",
       "16                 32.328167                   0.525000   \n",
       "17                 32.419734                   0.525000   \n",
       "18                 33.957403                   0.525000   \n",
       "19                 31.827467                   0.525000   \n",
       "20                 19.487610                   0.525000   \n",
       "21                 20.953263                   0.522917   \n",
       "22                 23.473672                   0.477083   \n",
       "23                 17.728468                   0.421596   \n",
       "24                 23.389227                   0.436508   \n",
       "25                 17.121898                   0.402267   \n",
       "26                 15.372250                   0.428775   \n",
       "27                 11.230257                   0.428950   \n",
       "28                 12.676501                   0.416171   \n",
       "29                 16.618670                   0.406462   \n",
       "30                 12.791213                   0.404954   \n",
       "31                 11.210796                   0.493804   \n",
       "32                  9.106094                   0.590688   \n",
       "33                  9.648043                   0.678767   \n",
       "34                  7.173473                   0.776833   \n",
       "35                  9.392798                   0.834496   \n",
       "36                  5.632619                   0.794029   \n",
       "37                 10.598159                   0.828663   \n",
       "38                 10.458686                   0.857804   \n",
       "39                 10.023805                   0.949321   \n",
       "40                  7.937431                   0.878333   \n",
       "41                  9.636258                   0.924621   \n",
       "42                  8.989474                   0.884433   \n",
       "43                  7.757991                   1.003742   \n",
       "44                  9.699915                   1.011554   \n",
       "45                  8.694270                   0.945750   \n",
       "46                 11.504338                   0.973408   \n",
       "47                 10.664866                   1.105908   \n",
       "48                  9.624375                   1.138725   \n",
       "49                 10.273884                   1.186225   \n",
       "50                  9.741253                   1.370683   \n",
       "\n",
       "    GOVERNMENT SHARE OF CGDP (unit %)  GOVERNMENT SHARE OF RGDPL (unit %)  \\\n",
       "0                                 NaN                                 NaN   \n",
       "1                                 NaN                                 NaN   \n",
       "2                                 NaN                                 NaN   \n",
       "3                                 NaN                                 NaN   \n",
       "4                                 NaN                                 NaN   \n",
       "5                                 NaN                                 NaN   \n",
       "6                                 NaN                                 NaN   \n",
       "7                                 NaN                                 NaN   \n",
       "8                                 NaN                                 NaN   \n",
       "9                                 NaN                                 NaN   \n",
       "10                                NaN                                 NaN   \n",
       "11                           8.975192                           14.360423   \n",
       "12                           9.443678                           15.113407   \n",
       "13                           8.780126                           13.478514   \n",
       "14                           9.125354                           13.726819   \n",
       "15                           9.192227                           13.661409   \n",
       "16                          10.154515                           14.743698   \n",
       "17                          11.029307                           15.955845   \n",
       "18                          11.320596                           15.040985   \n",
       "19                          10.940845                           14.123541   \n",
       "20                          12.686319                           14.395659   \n",
       "21                          12.386500                           13.335611   \n",
       "22                          11.675867                           12.466795   \n",
       "23                          11.878429                           12.691557   \n",
       "24                          11.569746                           12.971570   \n",
       "25                          12.526898                           13.674534   \n",
       "26                          13.379471                           14.020794   \n",
       "27                          14.150667                           14.521746   \n",
       "28                          13.703932                           14.300578   \n",
       "29                          12.486723                           13.561995   \n",
       "30                          12.888461                           13.647067   \n",
       "31                          13.288758                           14.186838   \n",
       "32                          14.077670                           15.268044   \n",
       "33                          14.153018                           15.281382   \n",
       "34                          14.592488                           15.366375   \n",
       "35                          14.483432                           14.803332   \n",
       "36                          14.886398                           14.734432   \n",
       "37                          13.749780                           13.876849   \n",
       "38                          13.611970                           13.694832   \n",
       "39                          14.805034                           14.779562   \n",
       "40                          14.706466                           14.200876   \n",
       "41                          14.122063                           14.313004   \n",
       "42                          13.884454                           13.877159   \n",
       "43                          14.199138                           14.101974   \n",
       "44                          14.129089                           13.977020   \n",
       "45                          14.453631                           14.064898   \n",
       "46                          11.015944                           11.015944   \n",
       "47                          11.229689                           11.111798   \n",
       "48                          11.101488                           11.004700   \n",
       "49                          10.989854                           10.797989   \n",
       "50                          11.698209                           10.840407   \n",
       "\n",
       "    INVESTMENT SHARE OF CGDP (unit %)  INVESTMENT SHARE OF RGDPL (unit %)  \\\n",
       "0                                 NaN                                 NaN   \n",
       "1                                 NaN                                 NaN   \n",
       "2                                 NaN                                 NaN   \n",
       "3                                 NaN                                 NaN   \n",
       "4                                 NaN                                 NaN   \n",
       "5                                 NaN                                 NaN   \n",
       "6                                 NaN                                 NaN   \n",
       "7                                 NaN                                 NaN   \n",
       "8                                 NaN                                 NaN   \n",
       "9                                 NaN                                 NaN   \n",
       "10                                NaN                                 NaN   \n",
       "11                          18.187471                           19.338501   \n",
       "12                          24.390946                           27.087734   \n",
       "13                          25.410376                           27.456574   \n",
       "14                          27.343548                           29.294339   \n",
       "15                          26.149447                           28.443677   \n",
       "16                          24.770985                           27.003542   \n",
       "17                          25.735524                           28.547345   \n",
       "18                          23.874291                           25.011084   \n",
       "19                          22.362021                           22.984502   \n",
       "20                          22.240389                           20.767089   \n",
       "21                          21.282360                           19.502827   \n",
       "22                          22.864773                           21.432801   \n",
       "23                          18.084587                           17.081003   \n",
       "24                          20.229904                           20.050599   \n",
       "25                          18.993954                           18.093761   \n",
       "26                          20.302412                           18.688662   \n",
       "27                          19.661299                           18.274345   \n",
       "28                          20.450565                           19.161556   \n",
       "29                          19.606349                           19.092366   \n",
       "30                          18.154859                           17.639286   \n",
       "31                          19.677879                           19.474307   \n",
       "32                          19.636026                           19.375842   \n",
       "33                          18.003577                           17.916821   \n",
       "34                          18.538955                           18.497655   \n",
       "35                          15.422749                           14.950370   \n",
       "36                          12.752332                           12.005080   \n",
       "37                          11.587544                           11.025969   \n",
       "38                          10.098434                            9.538664   \n",
       "39                          13.339792                           12.737008   \n",
       "40                          14.984594                           14.488682   \n",
       "41                          14.591036                           13.828475   \n",
       "42                          15.919336                           15.581083   \n",
       "43                          15.278332                           14.793943   \n",
       "44                          12.707445                           12.453022   \n",
       "45                          12.776657                           12.512801   \n",
       "46                          13.056840                           13.056840   \n",
       "47                          13.120696                           13.038511   \n",
       "48                          12.976099                           13.118246   \n",
       "49                          12.491005                           12.941804   \n",
       "50                          13.290416                           13.533619   \n",
       "\n",
       "    OPENNESS IN CONSTANT PRICES (unit %)  OPENNESS IN CURRENT PRICES (unit %)  \\\n",
       "0                                    NaN                                  NaN   \n",
       "1                                    NaN                                  NaN   \n",
       "2                                    NaN                                  NaN   \n",
       "3                                    NaN                                  NaN   \n",
       "4                                    NaN                                  NaN   \n",
       "5                                    NaN                                  NaN   \n",
       "6                                    NaN                                  NaN   \n",
       "7                                    NaN                                  NaN   \n",
       "8                                    NaN                                  NaN   \n",
       "9                                    NaN                                  NaN   \n",
       "10                                   NaN                                  NaN   \n",
       "11                             73.139002                            33.374211   \n",
       "12                             73.960634                            32.376941   \n",
       "13                             68.334947                            29.668713   \n",
       "14                             73.762142                            31.694726   \n",
       "15                             73.179266                            33.442245   \n",
       "16                             74.293899                            34.528820   \n",
       "17                             78.763757                            35.736842   \n",
       "18                             66.989652                            31.786106   \n",
       "19                             64.621906                            34.805080   \n",
       "20                             68.244879                            46.744309   \n",
       "21                             72.152898                            48.536089   \n",
       "22                             76.468898                            50.088994   \n",
       "23                             69.717812                            52.471120   \n",
       "24                             78.043927                            67.573330   \n",
       "25                             75.242492                            63.960032   \n",
       "26                             80.158475                            63.098815   \n",
       "27                             85.718587                            67.594325   \n",
       "28                             87.620134                            69.700875   \n",
       "29                             96.769704                            80.947984   \n",
       "30                             90.830218                            85.838155   \n",
       "31                             94.963740                            91.210955   \n",
       "32                             92.976491                            84.349763   \n",
       "33                             87.005046                            77.084034   \n",
       "34                             86.363146                            77.290875   \n",
       "35                             74.493924                            70.236383   \n",
       "36                             74.360694                            67.485057   \n",
       "37                             72.337048                            70.642044   \n",
       "38                             84.651245                            83.675497   \n",
       "39                             94.219154                            92.007210   \n",
       "40                             95.090483                            94.161268   \n",
       "41                             88.203649                            85.686022   \n",
       "42                             91.254371                            85.999460   \n",
       "43                             91.361726                            88.411573   \n",
       "44                             93.762962                            92.731070   \n",
       "45                             93.835678                            93.384710   \n",
       "46                             85.786216                            85.786216   \n",
       "47                             89.160626                            89.978616   \n",
       "48                             89.335180                            89.285192   \n",
       "49                             87.327827                            86.644613   \n",
       "50                             90.525939                            91.575046   \n",
       "\n",
       "    POPULATION (unit 000S)  PRICE LEVEL OF CONSUMPTION (unit PPP/XRATE)  \\\n",
       "0                      NaN                                          NaN   \n",
       "1                      NaN                                          NaN   \n",
       "2                      NaN                                          NaN   \n",
       "3                      NaN                                          NaN   \n",
       "4                      NaN                                          NaN   \n",
       "5                      NaN                                          NaN   \n",
       "6                      NaN                                          NaN   \n",
       "7                      NaN                                          NaN   \n",
       "8                      NaN                                          NaN   \n",
       "9                      NaN                                          NaN   \n",
       "10                     NaN                                          NaN   \n",
       "11                 4277.37                                    30.415570   \n",
       "12                 4350.81                                    30.445641   \n",
       "13                 4436.64                                    33.900222   \n",
       "14                 4530.84                                    33.184629   \n",
       "15                 4630.00                                    28.120064   \n",
       "16                 4731.40                                    29.180921   \n",
       "17                 4832.92                                    30.995852   \n",
       "18                 4933.13                                    30.168207   \n",
       "19                 5031.21                                    28.269322   \n",
       "20                 5127.00                                    33.464674   \n",
       "21                 5208.17                                    34.441779   \n",
       "22                 5294.36                                    38.076687   \n",
       "23                 5388.74                                    39.847293   \n",
       "24                 5493.74                                    41.610853   \n",
       "25                 5611.00                                    40.776424   \n",
       "26                 5742.30                                    38.882584   \n",
       "27                 5889.60                                    39.853943   \n",
       "28                 6049.40                                    40.668872   \n",
       "29                 6215.57                                    40.941211   \n",
       "30                 6384.00                                    42.460663   \n",
       "31                 6555.38                                    34.899777   \n",
       "32                 6729.64                                    31.156731   \n",
       "33                 6905.90                                    27.399005   \n",
       "34                 7043.93                                    25.084713   \n",
       "35                 7261.79                                    24.274488   \n",
       "36                 7494.10                                    26.577834   \n",
       "37                 7686.26                                    26.218674   \n",
       "38                 7859.16                                    26.784828   \n",
       "39                 7960.26                                    26.205354   \n",
       "40                 8156.00                                    26.367220   \n",
       "41                 8341.13                                    25.432847   \n",
       "42                 8514.70                                    27.720145   \n",
       "43                 8675.83                                    27.129894   \n",
       "44                 8823.69                                    27.649475   \n",
       "45                 8957.50                                    30.530423   \n",
       "46                 9089.30                                    30.406191   \n",
       "47                 9215.00                                    26.026079   \n",
       "48                 9333.30                                    25.621977   \n",
       "49                 9455.90                                    24.854989   \n",
       "50                 9563.50                                    21.976469   \n",
       "\n",
       "    PRICE LEVEL OF GOVERNMENT (unit PPP/XRATE)  \\\n",
       "0                                          NaN   \n",
       "1                                          NaN   \n",
       "2                                          NaN   \n",
       "3                                          NaN   \n",
       "4                                          NaN   \n",
       "5                                          NaN   \n",
       "6                                          NaN   \n",
       "7                                          NaN   \n",
       "8                                          NaN   \n",
       "9                                          NaN   \n",
       "10                                         NaN   \n",
       "11                                   64.070035   \n",
       "12                                   62.224994   \n",
       "13                                   63.101045   \n",
       "14                                   60.360868   \n",
       "15                                   53.335522   \n",
       "16                                   45.339113   \n",
       "17                                   40.592191   \n",
       "18                                   50.138557   \n",
       "19                                   50.916301   \n",
       "20                                   46.594066   \n",
       "21                                   45.963995   \n",
       "22                                   49.641473   \n",
       "23                                   55.954958   \n",
       "24                                   53.513339   \n",
       "25                                   56.495467   \n",
       "26                                   53.114389   \n",
       "27                                   55.114795   \n",
       "28                                   58.878775   \n",
       "29                                   60.586389   \n",
       "30                                   57.561945   \n",
       "31                                   47.815869   \n",
       "32                                   45.101877   \n",
       "33                                   43.076148   \n",
       "34                                   38.719976   \n",
       "35                                   36.959599   \n",
       "36                                   40.201839   \n",
       "37                                   40.371693   \n",
       "38                                   39.740273   \n",
       "39                                   36.962883   \n",
       "40                                   38.984330   \n",
       "41                                   40.394349   \n",
       "42                                   43.509720   \n",
       "43                                   39.093536   \n",
       "44                                   39.659828   \n",
       "45                                   43.882443   \n",
       "46                                   42.835227   \n",
       "47                                   47.379482   \n",
       "48                                   47.395434   \n",
       "49                                   46.051417   \n",
       "50                                   38.201671   \n",
       "\n",
       "    PRICE LEVEL OF GROSS DOMESTIC PRODUCT (unit US=100)  \\\n",
       "0                                                 NaN     \n",
       "1                                                 NaN     \n",
       "2                                                 NaN     \n",
       "3                                                 NaN     \n",
       "4                                                 NaN     \n",
       "5                                                 NaN     \n",
       "6                                                 NaN     \n",
       "7                                                 NaN     \n",
       "8                                                 NaN     \n",
       "9                                                 NaN     \n",
       "10                                                NaN     \n",
       "11                                          34.057920     \n",
       "12                                          34.574065     \n",
       "13                                          36.916491     \n",
       "14                                          35.761779     \n",
       "15                                          32.289701     \n",
       "16                                          31.848963     \n",
       "17                                          32.302675     \n",
       "18                                          33.115961     \n",
       "19                                          31.942932     \n",
       "20                                          35.058131     \n",
       "21                                          36.354799     \n",
       "22                                          39.764185     \n",
       "23                                          43.877272     \n",
       "24                                          46.814768     \n",
       "25                                          48.424805     \n",
       "26                                          46.866998     \n",
       "27                                          48.195295     \n",
       "28                                          49.352036     \n",
       "29                                          49.742742     \n",
       "30                                          51.281600     \n",
       "31                                          42.952595     \n",
       "32                                          38.428502     \n",
       "33                                          36.033366     \n",
       "34                                          33.491767     \n",
       "35                                          31.412281     \n",
       "36                                          33.667640     \n",
       "37                                          32.753785     \n",
       "38                                          32.620071     \n",
       "39                                          31.700063     \n",
       "40                                          35.051017     \n",
       "41                                          34.424559     \n",
       "42                                          37.754108     \n",
       "43                                          34.142773     \n",
       "44                                          33.963063     \n",
       "45                                          37.577857     \n",
       "46                                          36.962544     \n",
       "47                                          33.745045     \n",
       "48                                          33.478632     \n",
       "49                                          32.670683     \n",
       "50                                          28.541694     \n",
       "\n",
       "    PRICE LEVEL OF INVESTMENT (unit PPP/XRATE)  \\\n",
       "0                                          NaN   \n",
       "1                                          NaN   \n",
       "2                                          NaN   \n",
       "3                                          NaN   \n",
       "4                                          NaN   \n",
       "5                                          NaN   \n",
       "6                                          NaN   \n",
       "7                                          NaN   \n",
       "8                                          NaN   \n",
       "9                                          NaN   \n",
       "10                                         NaN   \n",
       "11                                   32.458694   \n",
       "12                                   34.108856   \n",
       "13                                   34.979785   \n",
       "14                                   33.031584   \n",
       "15                                   34.459924   \n",
       "16                                   32.513963   \n",
       "17                                   31.621689   \n",
       "18                                   31.800784   \n",
       "19                                   32.061982   \n",
       "20                                   33.337359   \n",
       "21                                   36.754103   \n",
       "22                                   39.506546   \n",
       "23                                   51.630771   \n",
       "24                                   59.714841   \n",
       "25                                   71.430677   \n",
       "26                                   70.770020   \n",
       "27                                   74.872496   \n",
       "28                                   74.226507   \n",
       "29                                   74.662195   \n",
       "30                                   82.933229   \n",
       "31                                   70.565552   \n",
       "32                                   62.091360   \n",
       "33                                   67.041232   \n",
       "34                                   64.854118   \n",
       "35                                   61.433619   \n",
       "36                                   70.228335   \n",
       "37                                   66.380410   \n",
       "38                                   66.897284   \n",
       "39                                   56.822452   \n",
       "40                                   76.019733   \n",
       "41                                   75.630505   \n",
       "42                                   81.346793   \n",
       "43                                   65.364024   \n",
       "44                                   65.473896   \n",
       "45                                   72.836369   \n",
       "46                                   70.913431   \n",
       "47                                   68.025454   \n",
       "48                                   69.570548   \n",
       "49                                   70.163757   \n",
       "50                                   58.846481   \n",
       "\n",
       "    RATIO OF GNP TO GDP (CURRENT PRICES) (unit %)  \\\n",
       "0                                             NaN   \n",
       "1                                             NaN   \n",
       "2                                             NaN   \n",
       "3                                             NaN   \n",
       "4                                             NaN   \n",
       "5                                             NaN   \n",
       "6                                             NaN   \n",
       "7                                             NaN   \n",
       "8                                             NaN   \n",
       "9                                             NaN   \n",
       "10                                            NaN   \n",
       "11                                      99.856768   \n",
       "12                                      99.193991   \n",
       "13                                      98.780559   \n",
       "14                                      98.588512   \n",
       "15                                      97.539881   \n",
       "16                                      97.438249   \n",
       "17                                      96.596491   \n",
       "18                                      95.891495   \n",
       "19                                      95.673366   \n",
       "20                                      95.897300   \n",
       "21                                      96.640944   \n",
       "22                                      96.627635   \n",
       "23                                      95.596291   \n",
       "24                                      96.446565   \n",
       "25                                      96.864588   \n",
       "26                                      95.747546   \n",
       "27                                      96.103840   \n",
       "28                                      96.384720   \n",
       "29                                      96.293642   \n",
       "30                                      96.644545   \n",
       "31                                      96.412783   \n",
       "32                                      96.380395   \n",
       "33                                      96.797871   \n",
       "34                                      96.920032   \n",
       "35                                      95.818077   \n",
       "36                                      95.324285   \n",
       "37                                      94.987124   \n",
       "38                                      95.069628   \n",
       "39                                      95.263764   \n",
       "40                                      96.678904   \n",
       "41                                      96.110165   \n",
       "42                                      95.399064   \n",
       "43                                      94.145086   \n",
       "44                                      94.346181   \n",
       "45                                      95.132291   \n",
       "46                                      94.732562   \n",
       "47                                      95.224694   \n",
       "48                                      95.631167   \n",
       "49                                      95.688370   \n",
       "50                                      95.427850   \n",
       "\n",
       "    REAL GROSS DOMESTIC PRODUCT PER CAPITA (CURRENT PRICES) (unit $ CURRENT)  \n",
       "0                                                 NaN                         \n",
       "1                                                 NaN                         \n",
       "2                                                 NaN                         \n",
       "3                                                 NaN                         \n",
       "4                                                 NaN                         \n",
       "5                                                 NaN                         \n",
       "6                                                 NaN                         \n",
       "7                                                 NaN                         \n",
       "8                                                 NaN                         \n",
       "9                                                 NaN                         \n",
       "10                                                NaN                         \n",
       "11                                         594.567157                         \n",
       "12                                         585.026866                         \n",
       "13                                         626.880665                         \n",
       "14                                         633.130358                         \n",
       "15                                         662.902300                         \n",
       "16                                         690.789798                         \n",
       "17                                         695.452511                         \n",
       "18                                         743.527791                         \n",
       "19                                         802.620867                         \n",
       "20                                         800.719849                         \n",
       "21                                         890.010391                         \n",
       "22                                        1062.840527                         \n",
       "23                                        1154.955803                         \n",
       "24                                        1378.705026                         \n",
       "25                                        1593.222011                         \n",
       "26                                        1675.133207                         \n",
       "27                                        1800.211826                         \n",
       "28                                        1999.148803                         \n",
       "29                                        2325.139709                         \n",
       "30                                        2670.571897                         \n",
       "31                                        2993.367551                         \n",
       "32                                        3145.111688                         \n",
       "33                                        3355.767376                         \n",
       "34                                        3498.965653                         \n",
       "35                                        3686.927715                         \n",
       "36                                        3574.116294                         \n",
       "37                                        3851.659028                         \n",
       "38                                        3938.209339                         \n",
       "39                                        4003.259250                         \n",
       "40                                        4307.422353                         \n",
       "41                                        4530.700443                         \n",
       "42                                        4820.686494                         \n",
       "43                                        4931.601177                         \n",
       "44                                        5214.387188                         \n",
       "45                                        5343.954497                         \n",
       "46                                        5830.049768                         \n",
       "47                                        6077.835149                         \n",
       "48                                        6352.578652                         \n",
       "49                                        6787.782597                         \n",
       "50                                        7130.147013                         "
      ]
     },
     "execution_count": 4,
     "metadata": {},
     "output_type": "execute_result"
    }
   ],
   "source": [
    "dataset"
   ]
  },
  {
   "cell_type": "markdown",
   "metadata": {
    "pycharm": {
     "name": "#%% md\n"
    }
   },
   "source": [
    "Plot the GDP as a function of year."
   ]
  },
  {
   "cell_type": "code",
   "execution_count": 5,
   "metadata": {
    "pycharm": {
     "name": "#%%\n"
    }
   },
   "outputs": [
    {
     "data": {
      "image/png": "[encoded data removed]",
      "text/plain": [
       "<Figure size 432x288 with 1 Axes>"
      ]
     },
     "metadata": {
      "needs_background": "light"
     },
     "output_type": "display_data"
    }
   ],
   "source": [
    "plt.plot(dataset[\"YEAR\"], dataset[\"REAL GROSS DOMESTIC PRODUCT PER CAPITA (CURRENT PRICES) (unit $ CURRENT)\"])\n",
    "plt.xlabel(\"Year\")\n",
    "plt.ylabel(\"GDP\")\n",
    "plt.title(\"The evolution of the Tunisian GDP from the 60's to the 00's\")\n",
    "plt.show()"
   ]
  },
  {
   "cell_type": "markdown",
   "metadata": {
    "pycharm": {
     "name": "#%% md\n"
    }
   },
   "source": [
    "Split the dataset into a matrix `X` for the features and a vector `y` for the labels."
   ]
  },
  {
   "cell_type": "code",
   "execution_count": 6,
   "metadata": {},
   "outputs": [
    {
     "name": "stdout",
     "output_type": "stream",
     "text": [
      "We have 40 data points and 18 features\n"
     ]
    }
   ],
   "source": [
    "X, y = X_y_from_dataset(dataset)\n",
    "\n",
    "print(\"We have\", X.shape[0], \"data points and\", X.shape[1], \"features\")"
   ]
  },
  {
   "cell_type": "markdown",
   "metadata": {
    "pycharm": {
     "name": "#%% md\n"
    }
   },
   "source": [
    "Verify whether there are highly correlated features."
   ]
  },
  {
   "cell_type": "code",
   "execution_count": 7,
   "metadata": {},
   "outputs": [
    {
     "data": {
      "image/png": "[encoded data removed]",
      "text/plain": [
       "<Figure size 432x288 with 2 Axes>"
      ]
     },
     "metadata": {
      "needs_background": "light"
     },
     "output_type": "display_data"
    },
    {
     "name": "stdout",
     "output_type": "stream",
     "text": [
      "YEAR is highly correlated with:  CONSUMPTION SHARE OF CGPD (unit %), CURRENT SAVINGS (unit %), EXCHANGE RATE (unit US=1), INVESTMENT SHARE OF CGDP (unit %), INVESTMENT SHARE OF RGDPL (unit %), OPENNESS IN CURRENT PRICES (unit %), POPULATION (unit 000S) \n",
      "\n",
      "CGPD RELATIVE TO THE UNITED STATES (unit US=100) is highly correlated with:  CONSUMPTION SHARE OF RGDPL (unit %) \n",
      "\n",
      "CONSUMPTION SHARE OF CGPD (unit %) is highly correlated with:  YEAR, CURRENT SAVINGS (unit %), INVESTMENT SHARE OF CGDP (unit %), INVESTMENT SHARE OF RGDPL (unit %), OPENNESS IN CURRENT PRICES (unit %), POPULATION (unit 000S), PRICE LEVEL OF INVESTMENT (unit PPP/XRATE) \n",
      "\n",
      "CONSUMPTION SHARE OF RGDPL (unit %) is highly correlated with:  CGPD RELATIVE TO THE UNITED STATES (unit US=100) \n",
      "\n",
      "CURRENT SAVINGS (unit %) is highly correlated with:  YEAR, CONSUMPTION SHARE OF CGPD (unit %), INVESTMENT SHARE OF CGDP (unit %), INVESTMENT SHARE OF RGDPL (unit %), OPENNESS IN CURRENT PRICES (unit %), POPULATION (unit 000S), PRICE LEVEL OF INVESTMENT (unit PPP/XRATE) \n",
      "\n",
      "EXCHANGE RATE (unit US=1) is highly correlated with:  YEAR, POPULATION (unit 000S) \n",
      "\n",
      "INVESTMENT SHARE OF CGDP (unit %) is highly correlated with:  YEAR, CONSUMPTION SHARE OF CGPD (unit %), CURRENT SAVINGS (unit %), INVESTMENT SHARE OF RGDPL (unit %), OPENNESS IN CURRENT PRICES (unit %), POPULATION (unit 000S) \n",
      "\n",
      "INVESTMENT SHARE OF RGDPL (unit %) is highly correlated with:  YEAR, CONSUMPTION SHARE OF CGPD (unit %), CURRENT SAVINGS (unit %), INVESTMENT SHARE OF CGDP (unit %), OPENNESS IN CURRENT PRICES (unit %), POPULATION (unit 000S) \n",
      "\n",
      "OPENNESS IN CONSTANT PRICES (unit %) is highly correlated with:  OPENNESS IN CURRENT PRICES (unit %) \n",
      "\n",
      "OPENNESS IN CURRENT PRICES (unit %) is highly correlated with:  YEAR, CONSUMPTION SHARE OF CGPD (unit %), CURRENT SAVINGS (unit %), INVESTMENT SHARE OF CGDP (unit %), INVESTMENT SHARE OF RGDPL (unit %), OPENNESS IN CONSTANT PRICES (unit %), POPULATION (unit 000S), PRICE LEVEL OF INVESTMENT (unit PPP/XRATE) \n",
      "\n",
      "POPULATION (unit 000S) is highly correlated with:  YEAR, CONSUMPTION SHARE OF CGPD (unit %), CURRENT SAVINGS (unit %), EXCHANGE RATE (unit US=1), INVESTMENT SHARE OF CGDP (unit %), INVESTMENT SHARE OF RGDPL (unit %), OPENNESS IN CURRENT PRICES (unit %) \n",
      "\n",
      "PRICE LEVEL OF CONSUMPTION (unit PPP/XRATE) is highly correlated with:  PRICE LEVEL OF GROSS DOMESTIC PRODUCT (unit US=100) \n",
      "\n",
      "PRICE LEVEL OF GROSS DOMESTIC PRODUCT (unit US=100) is highly correlated with:  PRICE LEVEL OF CONSUMPTION (unit PPP/XRATE) \n",
      "\n",
      "PRICE LEVEL OF INVESTMENT (unit PPP/XRATE) is highly correlated with:  CONSUMPTION SHARE OF CGPD (unit %), CURRENT SAVINGS (unit %), OPENNESS IN CURRENT PRICES (unit %) \n",
      "\n"
     ]
    }
   ],
   "source": [
    "correlation_matrix = np.abs(np.corrcoef(X, rowvar=False))\n",
    "\n",
    "sns.heatmap(correlation_matrix)\n",
    "plt.title(\"correlation matrix\")\n",
    "plt.show()\n",
    "\n",
    "mask = correlation_matrix > 0.8\n",
    "np.fill_diagonal(mask, False)\n",
    "for i, m in enumerate(mask): \n",
    "    if (sum(m) != 0):\n",
    "        print(dataset.columns[i], \"is highly correlated with: \",\n",
    "              \", \".join(dataset.columns[np.append(m, False)]), \"\\n\")"
   ]
  },
  {
   "cell_type": "markdown",
   "metadata": {},
   "source": [
    "Plot the population evolution through time. It's clear they're highly correlated features."
   ]
  },
  {
   "cell_type": "code",
   "execution_count": 8,
   "metadata": {
    "pycharm": {
     "name": "#%%\n"
    }
   },
   "outputs": [
    {
     "data": {
      "text/plain": [
       "<matplotlib.axes._subplots.AxesSubplot at 0x7fea98151bd0>"
      ]
     },
     "execution_count": 8,
     "metadata": {},
     "output_type": "execute_result"
    },
    {
     "data": {
      "image/png": "[encoded data removed]",
      "text/plain": [
       "<Figure size 432x288 with 1 Axes>"
      ]
     },
     "metadata": {
      "needs_background": "light"
     },
     "output_type": "display_data"
    }
   ],
   "source": [
    "sns.lineplot(x=\"YEAR\", y=\"POPULATION (unit 000S)\", data=dataset)"
   ]
  },
  {
   "cell_type": "code",
   "execution_count": 9,
   "metadata": {
    "pycharm": {
     "name": "#%%\n"
    }
   },
   "outputs": [
    {
     "name": "stdout",
     "output_type": "stream",
     "text": [
      "The condition number is 721299.9786209331\n"
     ]
    }
   ],
   "source": [
    "print(\"The condition number is\", condition_number(X))"
   ]
  },
  {
   "cell_type": "code",
   "execution_count": 10,
   "metadata": {
    "pycharm": {
     "name": "#%%\n"
    }
   },
   "outputs": [
    {
     "name": "stdout",
     "output_type": "stream",
     "text": [
      "The VIF is: [1.11645535e+03 1.00383625e+01 1.85640902e+05 1.04041459e+02\n",
      " 2.61782827e+05 1.09828808e+02 1.19242677e+04 5.62882948e+01\n",
      " 9.63289494e+02 1.01722758e+03 1.84383514e+01 7.79283378e+01\n",
      " 1.11149562e+03 3.97871957e+02 3.30620479e+01 7.80897523e+02\n",
      " 2.36946099e+02 1.14280386e+01] \n",
      " The column with the highest VIF is CURRENT SAVINGS (unit %)\n"
     ]
    }
   ],
   "source": [
    "VIF_X = VIF(X)\n",
    "print(\"The VIF is:\", VIF_X, \"\\n The column with the highest VIF is\", dataset.columns[np.argmax(VIF_X)])"
   ]
  },
  {
   "cell_type": "markdown",
   "metadata": {
    "pycharm": {
     "name": "#%% md\n"
    }
   },
   "source": [
    "The condition number, VIF and correlation matrix all tend to indicate that our data is kind off ill conditionned. We have to perform at least either some model selection, or filter out some predictors."
   ]
  },
  {
   "cell_type": "markdown",
   "metadata": {},
   "source": [
    "Now let us verify homoskedasticity with the Breusch–Pagan test. "
   ]
  },
  {
   "cell_type": "code",
   "execution_count": 11,
   "metadata": {},
   "outputs": [
    {
     "name": "stdout",
     "output_type": "stream",
     "text": [
      "No significant heteroskedasticity. because the p-value is:  0.08009690831228904\n"
     ]
    }
   ],
   "source": [
    "_, p_value, s = breusch_pagan_test(X, y)\n",
    "print(s, \"because the p-value is: \", p_value)"
   ]
  },
  {
   "cell_type": "markdown",
   "metadata": {
    "pycharm": {
     "name": "#%% md\n"
    }
   },
   "source": [
    "## The models"
   ]
  },
  {
   "cell_type": "markdown",
   "metadata": {
    "pycharm": {
     "name": "#%% md\n"
    }
   },
   "source": [
    "Split the data into 80% training and 20% testing sets."
   ]
  },
  {
   "cell_type": "code",
   "execution_count": 12,
   "metadata": {},
   "outputs": [],
   "source": [
    "X_train, X_test, y_train, y_test = train_test_split(X, y)"
   ]
  },
  {
   "cell_type": "markdown",
   "metadata": {
    "pycharm": {
     "name": "#%% md\n"
    }
   },
   "source": [
    "### Least Squares"
   ]
  },
  {
   "cell_type": "markdown",
   "metadata": {
    "pycharm": {
     "name": "#%% md\n"
    },
    "scrolled": true
   },
   "source": [
    "Train with the least squares estimator."
   ]
  },
  {
   "cell_type": "code",
   "execution_count": 13,
   "metadata": {
    "pycharm": {
     "name": "#%%\n"
    }
   },
   "outputs": [
    {
     "data": {
      "text/plain": [
       "1"
      ]
     },
     "execution_count": 13,
     "metadata": {},
     "output_type": "execute_result"
    },
    {
     "data": {
      "image/png": "[encoded data removed]",
      "text/plain": [
       "<Figure size 432x288 with 1 Axes>"
      ]
     },
     "metadata": {
      "needs_background": "light"
     },
     "output_type": "display_data"
    }
   ],
   "source": [
    "# Degree of zero means we leave the data set the way it is degree of 1 means we simply add a bias degree > 1\n",
    "# We compute the polynomial expansion associated with that degree.\n",
    "d = degree_cross_val(X_train, y_train, 10)\n",
    "d"
   ]
  },
  {
   "cell_type": "markdown",
   "metadata": {
    "pycharm": {
     "name": "#%% md\n"
    }
   },
   "source": [
    "Augment the dataset."
   ]
  },
  {
   "cell_type": "code",
   "execution_count": 14,
   "metadata": {},
   "outputs": [],
   "source": [
    "# We split the dataset as instructed: the first 80% as train and the next 20% as test.\n",
    "X_ls = build_poly(X, d)\n",
    "X_train_ls, X_test_ls, _, _ = train_test_split(X_ls, y)"
   ]
  },
  {
   "cell_type": "code",
   "execution_count": 15,
   "metadata": {},
   "outputs": [],
   "source": [
    "LS_w = least_squares(X_train_ls, y_train)\n",
    "\n",
    "LS_prediction_data = predict(X_ls, LS_w)\n",
    "LS_prediction_test = predict(X_test_ls, LS_w)"
   ]
  },
  {
   "cell_type": "code",
   "execution_count": 16,
   "metadata": {},
   "outputs": [
    {
     "name": "stdout",
     "output_type": "stream",
     "text": [
      "Testing R^2:  0.2570474393185005 \n",
      "Full data R^2: 0.9800708465799605\n"
     ]
    }
   ],
   "source": [
    "print(\"Testing R^2: \", R_squared(y_test, LS_prediction_test),\n",
    "      \"\\nFull data R^2:\", R_squared(y, LS_prediction_data))"
   ]
  },
  {
   "cell_type": "code",
   "execution_count": 17,
   "metadata": {
    "pycharm": {
     "name": "#%%\n"
    }
   },
   "outputs": [
    {
     "name": "stdout",
     "output_type": "stream",
     "text": [
      "Full data adjusted R^2: 0.9629887150770694\n"
     ]
    }
   ],
   "source": [
    "print(\"Full data adjusted R^2:\", adjusted_R_squared(y, LS_prediction_data, X.shape[1]))"
   ]
  },
  {
   "cell_type": "markdown",
   "metadata": {},
   "source": [
    "Compute the CI for the coefficients."
   ]
  },
  {
   "cell_type": "code",
   "execution_count": 18,
   "metadata": {
    "pycharm": {
     "name": "#%%\n"
    }
   },
   "outputs": [],
   "source": [
    "X_for_var, w_for_var = (X_ls[:, 1:], LS_w[1:]) if d > 0 else (X, LS_w)\n",
    "var = variance_least_squares_weights(X_for_var, y, LS_prediction_data)\n",
    "lower_CI, upper_CI = confidence_interval(X_for_var.shape[0], X_for_var.shape[1], w_for_var, var)"
   ]
  },
  {
   "cell_type": "markdown",
   "metadata": {
    "pycharm": {
     "name": "#%% md\n"
    }
   },
   "source": [
    "Plot the coefficients with their CI intervals."
   ]
  },
  {
   "cell_type": "code",
   "execution_count": 19,
   "metadata": {},
   "outputs": [
    {
     "data": {
      "image/png": "[encoded data removed]",
      "text/plain": [
       "<Figure size 1080x576 with 1 Axes>"
      ]
     },
     "metadata": {
      "needs_background": "light"
     },
     "output_type": "display_data"
    }
   ],
   "source": [
    "plt.figure(figsize=(15,8))\n",
    "plt.errorbar(np.arange(X_for_var.shape[1]), w_for_var,\n",
    "             yerr=np.vstack([np.squeeze(w_for_var-lower_CI), np.squeeze(upper_CI-w_for_var)]),\n",
    "             fmt=\".\", ecolor='orange', lolims=True, uplims=True, label=\"Coefficients\")\n",
    "plt.xticks(np.arange(X.shape[1]), [\"β\"+str(i) for i in np.arange(X_for_var.shape[1])])\n",
    "plt.title(\"95% CI around the regression coefficients\")\n",
    "plt.xlabel(\"The model coefficients\")\n",
    "plt.legend()\n",
    "plt.grid(which='both', linestyle='-.', linewidth=0.5)\n",
    "plt.show()"
   ]
  },
  {
   "cell_type": "markdown",
   "metadata": {
    "pycharm": {
     "name": "#%% md\n"
    }
   },
   "source": [
    "Compute the CI for the predictions."
   ]
  },
  {
   "cell_type": "code",
   "execution_count": 20,
   "metadata": {
    "scrolled": false
   },
   "outputs": [],
   "source": [
    "var_ = variance_least_squares_line(X_for_var, y, LS_prediction_data)\n",
    "lower_CI_line, upper_CI_line = confidence_interval(X_for_var.shape[0], X_for_var.shape[1], LS_prediction_data,\n",
    "                                                   var_)"
   ]
  },
  {
   "cell_type": "markdown",
   "metadata": {},
   "source": [
    "Plot the CI for the predictions."
   ]
  },
  {
   "cell_type": "code",
   "execution_count": 21,
   "metadata": {},
   "outputs": [
    {
     "data": {
      "image/png": "[encoded data removed]",
      "text/plain": [
       "<Figure size 1080x576 with 1 Axes>"
      ]
     },
     "metadata": {
      "needs_background": "light"
     },
     "output_type": "display_data"
    }
   ],
   "source": [
    "plt.figure(figsize=(15,8))\n",
    "plt.scatter(X[:, 0], y, label=\"GDP\")\n",
    "plt.plot(X[:, 0], LS_prediction_data, color=\"g\", lw=1, ls='--', label=\"Prediction using least squares\")\n",
    "plt.gca().fill_between(X[:, 0], np.squeeze(lower_CI_line), np.squeeze(upper_CI_line),\n",
    "                       label=\"95% CI\",\n",
    "                       #color=\"#b9cfe7\",\n",
    "                       color=\"orange\",\n",
    "                       alpha=0.5,\n",
    "                       edgecolor=None)\n",
    "plt.xlabel(\"Year\")\n",
    "plt.ylabel(\"GDP\")\n",
    "plt.title(\"GDP prediction as a function of Year\")\n",
    "plt.legend()\n",
    "plt.show()"
   ]
  },
  {
   "cell_type": "markdown",
   "metadata": {
    "pycharm": {
     "name": "#%% md\n"
    }
   },
   "source": [
    "### Ridge Regression"
   ]
  },
  {
   "cell_type": "markdown",
   "metadata": {
    "pycharm": {
     "name": "#%% md\n"
    }
   },
   "source": [
    "Train the ridge regression model."
   ]
  },
  {
   "cell_type": "code",
   "execution_count": 22,
   "metadata": {},
   "outputs": [
    {
     "name": "stdout",
     "output_type": "stream",
     "text": [
      "The optimal hyper-parameters for the polynomial expansion and l2 regularization term are respectively: 0.01 1\n"
     ]
    }
   ],
   "source": [
    "lambda_r, d_r = cross_val_ridge(X_train, y_train, plot=False)\n",
    "X_rr = build_poly(X, d_r)\n",
    "X_train_rr, X_test_rr, _, _ = train_test_split(X_rr, y)\n",
    "print(\"The optimal hyper-parameters for the polynomial expansion and l2 regularization term are respectively:\",\n",
    "      lambda_r, d_r)"
   ]
  },
  {
   "cell_type": "code",
   "execution_count": 23,
   "metadata": {
    "pycharm": {
     "name": "#%%\n"
    }
   },
   "outputs": [],
   "source": [
    "Ridge_w = ridge_regression(X_train_rr, y_train, lambda_r)\n",
    "Ridge_prediction_data = predict(X_rr, Ridge_w)\n",
    "Ridge_prediction_test = predict(X_test_rr, Ridge_w)"
   ]
  },
  {
   "cell_type": "code",
   "execution_count": 24,
   "metadata": {
    "pycharm": {
     "name": "#%%\n"
    }
   },
   "outputs": [
    {
     "name": "stdout",
     "output_type": "stream",
     "text": [
      "Testing R^2:  0.32472068902117357 \n",
      "Full data R^2: 0.9818579825921516\n"
     ]
    }
   ],
   "source": [
    "print(\"Testing R^2: \", R_squared(y_test, Ridge_prediction_test),\n",
    "      \"\\nFull data R^2:\", R_squared(y, Ridge_prediction_data))"
   ]
  },
  {
   "cell_type": "code",
   "execution_count": 25,
   "metadata": {
    "pycharm": {
     "name": "#%%\n"
    }
   },
   "outputs": [
    {
     "name": "stdout",
     "output_type": "stream",
     "text": [
      "Full data adjusted R^2: 0.9646230660546957\n"
     ]
    }
   ],
   "source": [
    "print(\"Full data adjusted R^2:\", adjusted_R_squared(y, Ridge_prediction_data, X_rr.shape[1]))"
   ]
  },
  {
   "cell_type": "code",
   "execution_count": 26,
   "metadata": {
    "pycharm": {
     "name": "#%%\n"
    }
   },
   "outputs": [],
   "source": [
    "X_for_var_rr, w_for_var_rr = (X_rr[:, 1:], Ridge_w[1:]) if d_r > 0 else (X, Ridge_w)\n",
    "var = variance_least_squares_weights(X_for_var_rr, y, Ridge_prediction_data)\n",
    "lower_CI_r, upper_CI_r = confidence_interval(X_for_var_rr.shape[0], X_for_var_rr.shape[1], w_for_var_rr, var)"
   ]
  },
  {
   "cell_type": "markdown",
   "metadata": {
    "pycharm": {
     "name": "#%% md\n"
    }
   },
   "source": [
    "Plot the coefficients with their CI intervals."
   ]
  },
  {
   "cell_type": "code",
   "execution_count": 27,
   "metadata": {},
   "outputs": [
    {
     "data": {
      "image/png": "[encoded data removed]",
      "text/plain": [
       "<Figure size 1080x576 with 1 Axes>"
      ]
     },
     "metadata": {
      "needs_background": "light"
     },
     "output_type": "display_data"
    }
   ],
   "source": [
    "plt.figure(figsize=(15,8))\n",
    "\n",
    "plt.errorbar(np.arange(X_for_var_rr.shape[1]), w_for_var_rr,\n",
    "             yerr=np.vstack([np.squeeze(w_for_var_rr-lower_CI_r), np.squeeze(upper_CI_r-w_for_var_rr)]),\n",
    "             fmt=\".\", ecolor='orange', lolims=True, uplims=True, label=\"Coefficients\")\n",
    "\n",
    "plt.xticks(np.arange(X_for_var_rr.shape[1]), [\"β\"+str(i) for i in np.arange(X_for_var_rr.shape[1])])\n",
    "\n",
    "plt.title(\"95% CI around the regression coefficients\")\n",
    "plt.xlabel(\"The model coefficients\")\n",
    "plt.legend()\n",
    "plt.grid(which='both', linestyle='-.', linewidth=0.5)\n",
    "plt.show()"
   ]
  },
  {
   "cell_type": "markdown",
   "metadata": {
    "pycharm": {
     "name": "#%% md\n"
    }
   },
   "source": [
    "Compute the CI for the predictions."
   ]
  },
  {
   "cell_type": "code",
   "execution_count": 28,
   "metadata": {},
   "outputs": [],
   "source": [
    "var_ = variance_least_squares_line(X_for_var_rr, y, Ridge_prediction_data)\n",
    "lower_CI_line_r, upper_CI_line_r = confidence_interval(X_for_var_rr.shape[0], X_for_var_rr.shape[1], Ridge_prediction_data, var_)"
   ]
  },
  {
   "cell_type": "markdown",
   "metadata": {
    "pycharm": {
     "name": "#%% md\n"
    },
    "scrolled": true
   },
   "source": [
    "Plot the CI for the predictions."
   ]
  },
  {
   "cell_type": "code",
   "execution_count": 29,
   "metadata": {},
   "outputs": [
    {
     "data": {
      "image/png": "[encoded data removed]",
      "text/plain": [
       "<Figure size 1080x576 with 1 Axes>"
      ]
     },
     "metadata": {
      "needs_background": "light"
     },
     "output_type": "display_data"
    }
   ],
   "source": [
    "plt.figure(figsize=(15,8))\n",
    "plt.scatter(X[:, 0], y, label=\"GDP\")\n",
    "plt.plot(X[:, 0], Ridge_prediction_data, color=\"g\", lw=1, ls='--', label=\"Prediction using ridge regression\")\n",
    "plt.gca().fill_between(X[:, 0], np.squeeze(lower_CI_line_r), np.squeeze(upper_CI_line_r),\n",
    "                       label=\"95% CI\",\n",
    "                       #color=\"#b9cfe7\",\n",
    "                       color=\"orange\",\n",
    "                       alpha=0.5,\n",
    "                       edgecolor=None)\n",
    "plt.xlabel(\"Year\")\n",
    "plt.ylabel(\"GDP\")\n",
    "plt.title(\"GDP prediction as a function of Year\")\n",
    "plt.legend()\n",
    "plt.show()"
   ]
  },
  {
   "cell_type": "markdown",
   "metadata": {
    "pycharm": {
     "name": "#%% md\n"
    }
   },
   "source": [
    "### Subset selection"
   ]
  },
  {
   "cell_type": "markdown",
   "metadata": {},
   "source": [
    "Find the optimal combination of features in terms of $r^2$."
   ]
  },
  {
   "cell_type": "code",
   "execution_count": 30,
   "metadata": {
    "pycharm": {
     "name": "#%%\n"
    }
   },
   "outputs": [],
   "source": [
    "scores, subsets = best_subset_ls(X_train, y_train)"
   ]
  },
  {
   "cell_type": "code",
   "execution_count": 31,
   "metadata": {
    "pycharm": {
     "name": "#%%\n"
    }
   },
   "outputs": [
    {
     "name": "stdout",
     "output_type": "stream",
     "text": [
      "Best performance on the test:  0.9997542085583582 the subset is:  (3, 5, 6, 12, 13, 14, 15, 16, 17)\n",
      "This corresponds to the following variables:\n",
      "\t- CONSUMPTION SHARE OF RGDPL (unit %)\n",
      "\t- EXCHANGE RATE (unit US=1)\n",
      "\t- GOVERNMENT SHARE OF CGDP (unit %)\n",
      "\t- POPULATION (unit 000S)\n",
      "\t- PRICE LEVEL OF CONSUMPTION (unit PPP/XRATE)\n",
      "\t- PRICE LEVEL OF GOVERNMENT (unit PPP/XRATE)\n",
      "\t- PRICE LEVEL OF GROSS DOMESTIC PRODUCT (unit US=100)\n",
      "\t- PRICE LEVEL OF INVESTMENT (unit PPP/XRATE)\n",
      "\t- RATIO OF GNP TO GDP (CURRENT PRICES) (unit %)\n"
     ]
    }
   ],
   "source": [
    "i = np.argmax(scores)\n",
    "sub = subsets[i]\n",
    "variables = \"\\n\\t- \".join(dataset.columns[list(sub)])\n",
    "print(\"Best performance on the test: \", scores[i], \"the subset is: \", sub)\n",
    "print(\"This corresponds to the following variables:\\n\\t- \" + variables)"
   ]
  },
  {
   "cell_type": "code",
   "execution_count": 32,
   "metadata": {
    "pycharm": {
     "name": "#%%\n"
    }
   },
   "outputs": [],
   "source": [
    "X_ss = X[:, sub]\n",
    "X_train_ss, X_test_ss, _, _ = train_test_split(X_ss, y)"
   ]
  },
  {
   "cell_type": "markdown",
   "metadata": {},
   "source": [
    "Compute lest squares estimator using subset of features."
   ]
  },
  {
   "cell_type": "code",
   "execution_count": 33,
   "metadata": {
    "pycharm": {
     "name": "#%%\n"
    }
   },
   "outputs": [
    {
     "data": {
      "image/png": "[encoded data removed]",
      "text/plain": [
       "<Figure size 432x288 with 1 Axes>"
      ]
     },
     "metadata": {
      "needs_background": "light"
     },
     "output_type": "display_data"
    }
   ],
   "source": [
    "d_ss = degree_cross_val(X_train_ss, y_train, 10)\n",
    "X_ls_ss = build_poly(X_ss, d_ss)\n",
    "X_train_ls_ss, X_test_ls_ss, _, _ = train_test_split(X_ls_ss, y)"
   ]
  },
  {
   "cell_type": "code",
   "execution_count": 34,
   "metadata": {
    "pycharm": {
     "name": "#%%\n"
    }
   },
   "outputs": [],
   "source": [
    "LS_w_ss = least_squares(X_train_ls_ss, y_train)\n",
    "\n",
    "LS_ss_prediction_data = predict(X_ls_ss, LS_w_ss)\n",
    "LS_ss_prediction_test = predict(X_test_ls_ss, LS_w_ss)"
   ]
  },
  {
   "cell_type": "code",
   "execution_count": 35,
   "metadata": {
    "pycharm": {
     "name": "#%%\n"
    }
   },
   "outputs": [
    {
     "name": "stdout",
     "output_type": "stream",
     "text": [
      "Testing R^2:   0.13905252989392514 \n",
      "Full data R^2: 0.9761324267837447\n"
     ]
    }
   ],
   "source": [
    "print(\"Testing R^2:  \", R_squared(y_test, LS_ss_prediction_test),\n",
    "      \"\\nFull data R^2:\", R_squared(y, LS_ss_prediction_data))"
   ]
  },
  {
   "cell_type": "code",
   "execution_count": 36,
   "metadata": {
    "pycharm": {
     "name": "#%%\n"
    }
   },
   "outputs": [
    {
     "name": "stdout",
     "output_type": "stream",
     "text": [
      "Full data adjusted R^2: 0.9556745068840973\n"
     ]
    }
   ],
   "source": [
    "print(\"Full data adjusted R^2:\", adjusted_R_squared(y, LS_ss_prediction_data, X.shape[1]))"
   ]
  },
  {
   "cell_type": "code",
   "execution_count": 37,
   "metadata": {},
   "outputs": [
    {
     "data": {
      "image/png": "[encoded data removed]",
      "text/plain": [
       "<Figure size 1080x576 with 1 Axes>"
      ]
     },
     "metadata": {
      "needs_background": "light"
     },
     "output_type": "display_data"
    }
   ],
   "source": [
    "X_for_var_ls_ss, w_for_var_ls_ss = (X_ls_ss[:, 1:], LS_w_ss[1:]) if d_ss > 0 else (X_ls_ss, LS_w_ss)\n",
    "var_ = variance_least_squares_line(X_for_var_ls_ss, y, LS_ss_prediction_data)\n",
    "lower_CI_line_ls_ss, upper_CI_line_ls_ss = confidence_interval(X_for_var_ls_ss.shape[0], X_for_var_ls_ss.shape[1], LS_ss_prediction_data, var_)\n",
    "plt.figure(figsize=(15,8))\n",
    "plt.scatter(X[:, 0], y, label=\"GDP\")\n",
    "plt.plot(X[:, 0], LS_ss_prediction_data, color=\"g\", lw=1, ls='--', label=\"Prediction using ridge regression\")\n",
    "plt.gca().fill_between(X[:, 0], np.squeeze(lower_CI_line_ls_ss), np.squeeze(upper_CI_line_ls_ss),\n",
    "                       label=\"95% CI\",\n",
    "                       #color=\"#b9cfe7\",\n",
    "                       color=\"orange\",\n",
    "                       alpha=0.5,\n",
    "                       edgecolor=None)\n",
    "plt.xlabel(\"Year\")\n",
    "plt.ylabel(\"GDP\")\n",
    "plt.title(\"GDP prediction as a function of Year\")\n",
    "plt.legend()\n",
    "plt.show()"
   ]
  },
  {
   "cell_type": "code",
   "execution_count": 38,
   "metadata": {
    "pycharm": {
     "name": "#%%\n"
    }
   },
   "outputs": [
    {
     "name": "stdout",
     "output_type": "stream",
     "text": [
      "The optimal hyper-parameters for the polynomial expansion and l2 regularization term are respectively: 0.66 3\n"
     ]
    }
   ],
   "source": [
    "lambda_r_ss, d_r_ss = cross_val_ridge(X_train_ss, y_train, max_lambda=2, plot=False)\n",
    "print(\"The optimal hyper-parameters for the polynomial expansion and l2 regularization term are respectively:\",\n",
    "      lambda_r_ss, d_r_ss)"
   ]
  },
  {
   "cell_type": "code",
   "execution_count": 39,
   "metadata": {
    "pycharm": {
     "name": "#%%\n"
    }
   },
   "outputs": [],
   "source": [
    "X_r_ss = build_poly(X_ss, d_ss)\n",
    "X_train_r_ss, X_test_r_ss, _, _ = train_test_split(X_r_ss, y)"
   ]
  },
  {
   "cell_type": "code",
   "execution_count": 40,
   "metadata": {
    "pycharm": {
     "name": "#%%\n"
    }
   },
   "outputs": [],
   "source": [
    "Ridge_w_lambda_ss = ridge_regression(X_train_r_ss, y_train, lambda_r_ss)\n",
    "\n",
    "Ridge_prediction_lambda_ss_data = predict(X_r_ss, Ridge_w_lambda_ss)\n",
    "Ridge_prediction_lambda_ss_test = predict(X_test_r_ss, Ridge_w_lambda_ss)"
   ]
  },
  {
   "cell_type": "code",
   "execution_count": 41,
   "metadata": {
    "pycharm": {
     "name": "#%%\n"
    }
   },
   "outputs": [
    {
     "name": "stdout",
     "output_type": "stream",
     "text": [
      "Testing R^2:  0.5799469243743859 \n",
      "Full data R^2: 0.987023207356908\n"
     ]
    }
   ],
   "source": [
    "print(\"Testing R^2: \", R_squared(y_test, Ridge_prediction_lambda_ss_test),\n",
    "      \"\\nFull data R^2:\", R_squared(y, Ridge_prediction_lambda_ss_data))"
   ]
  },
  {
   "cell_type": "code",
   "execution_count": 42,
   "metadata": {
    "pycharm": {
     "name": "#%%\n"
    }
   },
   "outputs": [
    {
     "name": "stdout",
     "output_type": "stream",
     "text": [
      "Full data adjusted R^2: 0.9759002422342576\n"
     ]
    }
   ],
   "source": [
    "print(\"Full data adjusted R^2:\", adjusted_R_squared(y, Ridge_prediction_lambda_ss_data, X.shape[1]))"
   ]
  },
  {
   "cell_type": "code",
   "execution_count": 43,
   "metadata": {},
   "outputs": [
    {
     "data": {
      "image/png": "[encoded data removed]",
      "text/plain": [
       "<Figure size 1080x576 with 1 Axes>"
      ]
     },
     "metadata": {
      "needs_background": "light"
     },
     "output_type": "display_data"
    }
   ],
   "source": [
    "X_for_var_r_ss, w_for_var_r_ss = (X_r_ss[:, 1:], Ridge_w_lambda_ss[1:]) if d_r_ss > 0 else (X_r_ss, Ridge_w_lambda_ss)\n",
    "var_ = variance_least_squares_line(X_for_var_r_ss, y, Ridge_prediction_lambda_ss_data)\n",
    "lower_CI_line_r_ss, upper_CI_line_r_ss = confidence_interval(X_for_var_r_ss.shape[0], X_for_var_r_ss.shape[1], Ridge_prediction_lambda_ss_data, var_)\n",
    "plt.figure(figsize=(15,8))\n",
    "plt.scatter(X[:, 0], y, label=\"GDP\")\n",
    "plt.plot(X[:, 0], Ridge_prediction_lambda_ss_data, color=\"g\", lw=1, ls='--', label=\"Prediction using ridge regression\")\n",
    "plt.gca().fill_between(X[:, 0], np.squeeze(lower_CI_line_r_ss), np.squeeze(upper_CI_line_r_ss),\n",
    "                       label=\"95% CI\",\n",
    "                       #color=\"#b9cfe7\",\n",
    "                       color=\"orange\",\n",
    "                       alpha=0.5,\n",
    "                       edgecolor=None)\n",
    "plt.xlabel(\"Year\")\n",
    "plt.ylabel(\"GDP\")\n",
    "plt.title(\"GDP prediction as a function of Year\")\n",
    "plt.legend()\n",
    "plt.show()"
   ]
  },
  {
   "cell_type": "markdown",
   "metadata": {},
   "source": [
    "### General to simple"
   ]
  },
  {
   "cell_type": "code",
   "execution_count": 44,
   "metadata": {},
   "outputs": [],
   "source": [
    "idx = general_to_simple(X_train, y_train)"
   ]
  },
  {
   "cell_type": "code",
   "execution_count": 45,
   "metadata": {},
   "outputs": [],
   "source": [
    "X_g2s = X[:, idx]\n",
    "X_train_g2s, X_test_g2s, _, _ = train_test_split(X_ss, y)"
   ]
  },
  {
   "cell_type": "code",
   "execution_count": 46,
   "metadata": {},
   "outputs": [
    {
     "data": {
      "image/png": "[encoded data removed]",
      "text/plain": [
       "<Figure size 432x288 with 1 Axes>"
      ]
     },
     "metadata": {
      "needs_background": "light"
     },
     "output_type": "display_data"
    }
   ],
   "source": [
    "d_g2s = degree_cross_val(X_train_g2s, y_train, 10)\n",
    "X_ls_g2s = build_poly(X_g2s, d_g2s)\n",
    "X_train_ls_g2s, X_test_ls_g2s, _, _ = train_test_split(X_ls_g2s, y)"
   ]
  },
  {
   "cell_type": "code",
   "execution_count": 47,
   "metadata": {},
   "outputs": [],
   "source": [
    "LS_w_g2s = least_squares(X_train_ls_g2s, y_train)\n",
    "\n",
    "LS_g2s_prediction_data = predict(X_ls_g2s, LS_w_g2s)\n",
    "LS_g2s_prediction_test = predict(X_test_ls_g2s, LS_w_g2s)"
   ]
  },
  {
   "cell_type": "code",
   "execution_count": 48,
   "metadata": {},
   "outputs": [
    {
     "name": "stdout",
     "output_type": "stream",
     "text": [
      "Testing R^2:   0.30834106173469256 \n",
      "Full data R^2: 0.9812772028809013\n"
     ]
    }
   ],
   "source": [
    "print(\"Testing R^2:  \", R_squared(y_test, LS_g2s_prediction_test),\n",
    "      \"\\nFull data R^2:\", R_squared(y, LS_g2s_prediction_data))"
   ]
  },
  {
   "cell_type": "code",
   "execution_count": 49,
   "metadata": {},
   "outputs": [
    {
     "name": "stdout",
     "output_type": "stream",
     "text": [
      "Full data adjusted R^2: 0.9652290910645309\n"
     ]
    }
   ],
   "source": [
    "print(\"Full data adjusted R^2:\", adjusted_R_squared(y, LS_g2s_prediction_data, X.shape[1]))"
   ]
  },
  {
   "cell_type": "code",
   "execution_count": 50,
   "metadata": {
    "pycharm": {
     "name": "#%%\n"
    }
   },
   "outputs": [
    {
     "name": "stdout",
     "output_type": "stream",
     "text": [
      "The optimal hyper-parameters for the polynomial expansion and l2 regularization term are respectively: 0.87 3\n"
     ]
    }
   ],
   "source": [
    "lambda_r_g2s, d_r_g2s = cross_val_ridge(X_train_g2s, y_train, plot=False)\n",
    "print(\"The optimal hyper-parameters for the polynomial expansion and l2 regularization term are respectively:\",\n",
    "      lambda_r_g2s, d_r_g2s)"
   ]
  },
  {
   "cell_type": "code",
   "execution_count": 51,
   "metadata": {
    "pycharm": {
     "name": "#%%\n"
    }
   },
   "outputs": [],
   "source": [
    "X_r_g2s = build_poly(X_g2s, d_g2s)\n",
    "X_train_r_g2s, X_test_r_g2s, _, _ = train_test_split(X_r_g2s, y)"
   ]
  },
  {
   "cell_type": "code",
   "execution_count": 52,
   "metadata": {
    "pycharm": {
     "name": "#%%\n"
    }
   },
   "outputs": [],
   "source": [
    "Ridge_w_lambda_g2s = ridge_regression(X_train_r_g2s, y_train, lambda_r_g2s)\n",
    "\n",
    "Ridge_prediction_lambda_g2s_data = predict(X_r_g2s, Ridge_w_lambda_g2s)\n",
    "Ridge_prediction_lambda_g2s_test = predict(X_test_r_g2s, Ridge_w_lambda_g2s)"
   ]
  },
  {
   "cell_type": "code",
   "execution_count": 53,
   "metadata": {
    "pycharm": {
     "name": "#%%\n"
    }
   },
   "outputs": [
    {
     "name": "stdout",
     "output_type": "stream",
     "text": [
      "Testing R^2:  0.3809904110221658 \n",
      "Full data R^2: 0.9831788966573166\n"
     ]
    }
   ],
   "source": [
    "print(\"Testing R^2: \", R_squared(y_test, Ridge_prediction_lambda_g2s_test),\n",
    "      \"\\nFull data R^2:\", R_squared(y, Ridge_prediction_lambda_g2s_data))"
   ]
  },
  {
   "cell_type": "code",
   "execution_count": 54,
   "metadata": {
    "pycharm": {
     "name": "#%%\n"
    }
   },
   "outputs": [
    {
     "name": "stdout",
     "output_type": "stream",
     "text": [
      "Full data adjusted R^2: 0.9687608080778737\n"
     ]
    }
   ],
   "source": [
    "print(\"Full data adjusted R^2:\", adjusted_R_squared(y, Ridge_prediction_lambda_g2s_data, X.shape[1]))"
   ]
  },
  {
   "cell_type": "markdown",
   "metadata": {},
   "source": [
    "### Simple to general"
   ]
  },
  {
   "cell_type": "code",
   "execution_count": null,
   "metadata": {},
   "outputs": [],
   "source": []
  }
 ],
 "metadata": {
  "kernelspec": {
   "display_name": "Python 3",
   "language": "python",
   "name": "python3"
  },
  "language_info": {
   "codemirror_mode": {
    "name": "ipython",
    "version": 3
   },
   "file_extension": ".py",
   "mimetype": "text/x-python",
   "name": "python",
   "nbconvert_exporter": "python",
   "pygments_lexer": "ipython3",
   "version": "3.7.6"
  }
 },
 "nbformat": 4,
 "nbformat_minor": 4
}
