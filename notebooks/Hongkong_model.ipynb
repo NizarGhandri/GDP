{
 "cells": [
  {
   "cell_type": "code",
   "execution_count": 2,
   "metadata": {},
   "outputs": [],
   "source": [
    "import os\n",
    "import pandas as pd\n",
    "import numpy as np\n",
    "import copy as copy\n",
    "import seaborn as sns \n",
    "import matplotlib.pyplot as plt \n",
    "os.chdir('..')\n",
    "from src.regressions import *\n",
    "from src.helpers import *\n",
    "from src.statistical_analysis import *\n",
    "from src.evaluation_metrics import *\n",
    "os.chdir('notebooks')\n",
    "from sklearn.model_selection import train_test_split\n",
    "from scipy import stats"
   ]
  },
  {
   "cell_type": "markdown",
   "metadata": {},
   "source": [
    "Reading, converting, adding a one column and separating (test and forecast) the dataset. Setting tolerance level forever to 0.05."
   ]
  },
  {
   "cell_type": "code",
   "execution_count": 3,
   "metadata": {},
   "outputs": [],
   "source": [
    "PATH = os.path.join(\"..\",\"data\",\"Hongkong.csv\")\n",
    "dataset = pd.read_csv(PATH)\n",
    "x,y = X_y_from_dataset(dataset)\n",
    "x = oner(x)\n",
    "xtest,xforecast,ytest,yforecast = split(x,y)\n",
    "tolerance=0.05"
   ]
  },
  {
   "cell_type": "markdown",
   "metadata": {},
   "source": [
    "Full model, assuming A1-A6 holds, calculating the Adjusted R squared to see the linearity and if SSE/SST is small."
   ]
  },
  {
   "cell_type": "code",
   "execution_count": 4,
   "metadata": {},
   "outputs": [
    {
     "data": {
      "text/plain": [
       "0.998914708462892"
      ]
     },
     "execution_count": 4,
     "metadata": {},
     "output_type": "execute_result"
    }
   ],
   "source": [
    "beta = least_squares(xtest, ytest)\n",
    "yhat = np.dot(xtest, beta)\n",
    "adjR2_full = adjusted_R_squared(ytest, yhat, len(xtest[0]))\n",
    "SSE_full=SSE(ytest,yhat)\n",
    "SST_full=SST(ytest)\n",
    "SSE_full/SST_full\n",
    "adjR2_full"
   ]
  },
  {
   "cell_type": "markdown",
   "metadata": {},
   "source": [
    "A question arises, do we have multicolinearity between some columns of x? Checking correlation and VIF factors"
   ]
  },
  {
   "cell_type": "code",
   "execution_count": 5,
   "metadata": {},
   "outputs": [
    {
     "name": "stderr",
     "output_type": "stream",
     "text": [
      "/Users/kilianlock/opt/anaconda3/lib/python3.8/site-packages/numpy/lib/function_base.py:2559: RuntimeWarning: invalid value encountered in true_divide\n",
      "  c /= stddev[:, None]\n",
      "/Users/kilianlock/opt/anaconda3/lib/python3.8/site-packages/numpy/lib/function_base.py:2560: RuntimeWarning: invalid value encountered in true_divide\n",
      "  c /= stddev[None, :]\n"
     ]
    },
    {
     "data": {
      "text/plain": [
       "<AxesSubplot:>"
      ]
     },
     "execution_count": 5,
     "metadata": {},
     "output_type": "execute_result"
    },
    {
     "data": {
      "image/png": "[encoded data removed]",
      "text/plain": [
       "<Figure size 432x288 with 2 Axes>"
      ]
     },
     "metadata": {
      "needs_background": "light"
     },
     "output_type": "display_data"
    }
   ],
   "source": [
    "correlation_matrix = np.corrcoef(xtest, rowvar=False)\n",
    "sns.heatmap(correlation_matrix)"
   ]
  },
  {
   "cell_type": "markdown",
   "metadata": {},
   "source": [
    "Simple to general Model building"
   ]
  },
  {
   "cell_type": "code",
   "execution_count": 6,
   "metadata": {},
   "outputs": [
    {
     "data": {
      "text/plain": [
       "array([4.10000000e+01, 1.60742140e+08, 1.59716725e+05, 1.68661367e+05,\n",
       "       1.73647264e+05, 3.84924541e+04, 1.78016876e+03, 1.26747522e+03,\n",
       "       1.36249162e+03, 3.39014419e+04, 2.79781790e+04, 1.13766336e+06,\n",
       "       1.87168127e+06, 1.03467024e+09, 1.78609307e+05, 6.93421960e+05,\n",
       "       1.94780425e+05, 2.12910805e+05, 4.12343895e+05])"
      ]
     },
     "execution_count": 6,
     "metadata": {},
     "output_type": "execute_result"
    }
   ],
   "source": [
    "np.diag(np.dot(np.transpose(x),x))"
   ]
  },
  {
   "cell_type": "markdown",
   "metadata": {},
   "source": [
    "General to simple\n",
    "\tCheck smallest/biggest linearity decay\n",
    "\tCheck whether t test says is ok\n",
    "\tDelete this guy"
   ]
  },
  {
   "cell_type": "code",
   "execution_count": 9,
   "metadata": {},
   "outputs": [
    {
     "name": "stdout",
     "output_type": "stream",
     "text": [
      "999\n"
     ]
    },
    {
     "data": {
      "text/plain": [
       "array([[1.00000000e+00, 1.96000000e+03, 2.35913484e+01, 7.20206894e+01,\n",
       "        6.93919134e+01, 2.66728946e+01, 5.71430016e+00, 1.30641600e+00,\n",
       "        1.61949712e+00, 3.68203116e+01, 2.94296691e+01, 1.04249791e+02,\n",
       "        1.86785331e+02, 3.06400000e+03, 5.75412892e+01, 3.69915931e+02,\n",
       "        5.70049847e+01, 4.48536241e+01, 1.00452794e+02],\n",
       "       [1.00000000e+00, 1.96100000e+03, 2.36123330e+01, 7.37422262e+01,\n",
       "        7.08925168e+01, 2.49503644e+01, 5.71430016e+00, 1.30740941e+00,\n",
       "        1.57788491e+00, 3.59760924e+01, 2.88539139e+01, 9.82855703e+01,\n",
       "        1.73458076e+02, 3.21984000e+03, 5.89124662e+01, 3.60151525e+02,\n",
       "        5.79708428e+01, 4.50591773e+01, 9.96048154e+01],\n",
       "       [1.00000000e+00, 1.96200000e+03, 2.44854684e+01, 7.22129616e+01,\n",
       "        6.89476206e+01, 2.62471816e+01, 5.71430016e+00, 1.53985683e+00,\n",
       "        1.81680880e+00, 3.78221881e+01, 3.09669449e+01, 9.74239565e+01,\n",
       "        1.70558181e+02, 3.36056000e+03, 5.87522722e+01, 2.82496611e+02,\n",
       "        5.71754266e+01, 4.49912808e+01, 9.98440606e+01],\n",
       "       [1.00000000e+00, 1.96300000e+03, 2.83031355e+01, 6.39239539e+01,\n",
       "        6.12509689e+01, 3.04026993e+01, 5.71430016e+00, 5.67334681e+00,\n",
       "        6.61910748e+00, 4.03829149e+01, 3.31628423e+01, 8.61314777e+01,\n",
       "        1.60611002e+02, 3.48616000e+03, 5.87960972e+01, 6.69926057e+01,\n",
       "        5.44478531e+01, 4.58024227e+01, 9.99039524e+01],\n",
       "       [1.00000000e+00, 1.96400000e+03, 2.95768791e+01, 6.15912843e+01,\n",
       "        5.91417942e+01, 3.27400232e+01, 5.71430016e+00, 5.66869250e+00,\n",
       "        6.55564234e+00, 4.31768771e+01, 3.55624978e+01, 8.51734305e+01,\n",
       "        1.60777409e+02, 3.59664000e+03, 5.90942677e+01, 6.84742236e+01,\n",
       "        5.47408286e+01, 4.67276438e+01, 9.95725917e+01],\n",
       "       [1.00000000e+00, 1.96500000e+03, 3.29398447e+01, 5.73053063e+01,\n",
       "        5.69855765e+01, 3.74473284e+01, 5.71430016e+00, 5.24736532e+00,\n",
       "        6.10655166e+00, 4.09337717e+01, 3.48646224e+01, 7.87500275e+01,\n",
       "        1.43720787e+02, 3.69200000e+03, 5.85425235e+01, 7.07302436e+01,\n",
       "        5.44049757e+01, 4.65198462e+01, 1.00000000e+02],\n",
       "       [1.00000000e+00, 1.96600000e+03, 3.28998805e+01, 6.32317432e+01,\n",
       "        6.21109410e+01, 3.11588867e+01, 5.71430016e+00, 5.60937003e+00,\n",
       "        6.32628905e+00, 3.47559079e+01, 2.94302417e+01, 8.21853980e+01,\n",
       "        1.58240834e+02, 3.77224000e+03, 5.44847360e+01, 6.75547874e+01,\n",
       "        5.04096179e+01, 4.02286028e+01, 1.00000000e+02],\n",
       "       [1.00000000e+00, 1.96700000e+03, 3.34895422e+01, 6.18663803e+01,\n",
       "        6.28006165e+01, 3.22266494e+01, 5.74315786e+00, 5.90697031e+00,\n",
       "        6.76794902e+00, 2.76048828e+01, 2.42515409e+01, 8.68590187e+01,\n",
       "        1.59493098e+02, 3.83736000e+03, 5.49646999e+01, 6.63489989e+01,\n",
       "        5.04268041e+01, 3.68496728e+01, 1.00000000e+02],\n",
       "       [1.00000000e+00, 1.96800000e+03, 3.31769242e+01, 6.47402552e+01,\n",
       "        6.58406447e+01, 2.92228229e+01, 6.06059980e+00, 6.03692188e+00,\n",
       "        6.81068295e+00, 2.38753300e+01, 2.12382888e+01, 9.54960876e+01,\n",
       "        1.78118371e+02, 3.88736000e+03, 5.08931354e+01, 6.14458070e+01,\n",
       "        4.70099577e+01, 3.28302162e+01, 1.00000000e+02],\n",
       "       [1.00000000e+00, 1.96900000e+03, 3.60488469e+01, 6.30783529e+01,\n",
       "        6.49566036e+01, 3.09978197e+01, 6.06059980e+00, 5.92382746e+00,\n",
       "        6.66650778e+00, 2.21957143e+01, 1.98882441e+01, 9.79936538e+01,\n",
       "        1.84131416e+02, 3.92224000e+03, 5.02457275e+01, 5.78276607e+01,\n",
       "        4.69662869e+01, 3.47475940e+01, 1.00000000e+02],\n",
       "       [1.00000000e+00, 1.97000000e+03, 3.95112107e+01, 6.33811451e+01,\n",
       "        6.51983932e+01, 3.06940475e+01, 6.06059980e+00, 5.92480740e+00,\n",
       "        6.46815635e+00, 2.30207967e+01, 2.06806374e+01, 9.94704930e+01,\n",
       "        1.81490343e+02, 3.94200000e+03, 4.98192187e+01, 5.82864366e+01,\n",
       "        4.87601571e+01, 4.33925795e+01, 1.00000000e+02],\n",
       "       [1.00000000e+00, 1.97100000e+03, 4.11560147e+01, 6.43451747e+01,\n",
       "        6.64215921e+01, 2.99850016e+01, 5.97743320e+00, 5.66982372e+00,\n",
       "        6.04799407e+00, 2.58315261e+01, 2.34533741e+01, 9.92415595e+01,\n",
       "        1.77491323e+02, 4.01216000e+03, 5.04696453e+01, 5.79960617e+01,\n",
       "        5.01117191e+01, 4.74895877e+01, 1.00000000e+02],\n",
       "       [1.00000000e+00, 1.97200000e+03, 4.32723415e+01, 6.18422310e+01,\n",
       "        6.51645317e+01, 3.26045113e+01, 5.64141703e+00, 5.55325769e+00,\n",
       "        5.92274516e+00, 2.46853301e+01, 2.31132243e+01, 9.59147880e+01,\n",
       "        1.63844499e+02, 4.08904000e+03, 5.50356959e+01, 6.42607211e+01,\n",
       "        5.49074481e+01, 5.24820291e+01, 1.00000000e+02],\n",
       "       [1.00000000e+00, 1.97300000e+03, 4.45681445e+01, 6.32341358e+01,\n",
       "        6.57553886e+01, 3.12155613e+01, 5.14650011e+00, 5.55030287e+00,\n",
       "        5.76973776e+00, 2.49513999e+01, 2.29288988e+01, 9.42815711e+01,\n",
       "        1.67197820e+02, 4.17264000e+03, 6.76634011e+01, 7.45330160e+01,\n",
       "        6.63749056e+01, 6.12947544e+01, 1.00000000e+02],\n",
       "       [1.00000000e+00, 1.97400000e+03, 4.36994517e+01, 6.33558193e+01,\n",
       "        6.41522940e+01, 3.04460507e+01, 5.03158283e+00, 6.19813009e+00,\n",
       "        6.17240946e+00, 2.57530829e+01, 2.26719085e+01, 8.71532736e+01,\n",
       "        1.71115133e+02, 4.26296000e+03, 7.30468693e+01, 7.86501344e+01,\n",
       "        7.21002503e+01, 6.81950534e+01, 1.00000000e+02],\n",
       "       [1.00000000e+00, 1.97500000e+03, 4.50489204e+01, 6.25755587e+01,\n",
       "        6.52353276e+01, 3.10230319e+01, 4.93516684e+00, 6.40140936e+00,\n",
       "        6.53999675e+00, 2.55677470e+01, 2.27949603e+01, 8.84267922e+01,\n",
       "        1.63745815e+02, 4.36000000e+03, 6.97618050e+01, 7.51520753e+01,\n",
       "        6.78372638e+01, 6.12956494e+01, 1.00000000e+02],\n",
       "       [1.00000000e+00, 1.97600000e+03, 5.04607425e+01, 5.65318737e+01,\n",
       "        6.12092098e+01, 3.77969115e+01, 4.90474987e+00, 5.67121478e+00,\n",
       "        6.02197350e+00, 2.72249681e+01, 2.53937615e+01, 9.65461768e+01,\n",
       "        1.70496082e+02, 4.44300000e+03, 7.01140013e+01, 7.76202156e+01,\n",
       "        6.89369799e+01, 6.46841294e+01, 1.00000000e+02],\n",
       "       [1.00000000e+00, 1.97700000e+03, 5.24500100e+01, 5.96927030e+01,\n",
       "        6.29798211e+01, 3.45193666e+01, 4.66200018e+00, 5.78793038e+00,\n",
       "        5.86374408e+00, 2.81404513e+01, 2.58208446e+01, 9.01121894e+01,\n",
       "        1.62525430e+02, 4.51000000e+03, 7.31825287e+01, 7.98604191e+01,\n",
       "        7.22125981e+01, 6.85821361e+01, 1.00000000e+02],\n",
       "       [1.00000000e+00, 1.97800000e+03, 5.25383801e+01, 6.40538545e+01,\n",
       "        6.57465165e+01, 2.99805453e+01, 4.68366718e+00, 5.96560022e+00,\n",
       "        5.89961015e+00, 2.92071288e+01, 2.59343337e+01, 9.54373980e+01,\n",
       "        1.72261350e+02, 4.59700000e+03, 7.35602724e+01, 7.88294412e+01,\n",
       "        7.37111659e+01, 7.29966732e+01, 1.00000000e+02],\n",
       "       [1.00000000e+00, 1.97900000e+03, 5.28975165e+01, 6.27865035e+01,\n",
       "        6.43572681e+01, 3.13901017e+01, 5.00266695e+00, 5.82339474e+00,\n",
       "        5.79245685e+00, 3.04948786e+01, 2.71957734e+01, 1.01112383e+02,\n",
       "        1.79939840e+02, 4.97900000e+03, 7.18335939e+01, 7.78851619e+01,\n",
       "        7.50022588e+01, 8.09757572e+01, 1.00000000e+02],\n",
       "       [1.00000000e+00, 1.98000000e+03, 5.82704743e+01, 6.32994425e+01,\n",
       "        6.44481821e+01, 3.09150126e+01, 4.97608280e+00, 5.78554492e+00,\n",
       "        5.65871609e+00, 3.23320855e+01, 2.90173142e+01, 1.06846087e+02,\n",
       "        1.81385327e+02, 5.03900000e+03, 7.52134688e+01, 8.47597057e+01,\n",
       "        7.93697549e+01, 8.65424065e+01, 1.00000000e+02],\n",
       "       [1.00000000e+00, 1.98100000e+03, 6.04690536e+01, 6.30855730e+01,\n",
       "        6.32197080e+01, 3.02894871e+01, 5.58933306e+00, 6.62493993e+00,\n",
       "        6.35433196e+00, 3.26358171e+01, 2.90178326e+01, 1.11242065e+02,\n",
       "        1.86533239e+02, 5.12000000e+03, 6.92242526e+01, 7.90115531e+01,\n",
       "        7.29892740e+01, 7.90446241e+01, 1.00000000e+02],\n",
       "       [1.00000000e+00, 1.98200000e+03, 6.51297618e+01, 6.35242795e+01,\n",
       "        6.47803122e+01, 2.98759548e+01, 6.06991720e+00, 6.59976574e+00,\n",
       "        6.48570766e+00, 3.03973611e+01, 2.71780994e+01, 1.05799887e+02,\n",
       "        1.74671123e+02, 5.20200000e+03, 6.49687849e+01, 7.71923494e+01,\n",
       "        6.70789383e+01, 6.92929407e+01, 1.00000000e+02],\n",
       "       [1.00000000e+00, 1.98300000e+03, 6.52951543e+01, 6.52526241e+01,\n",
       "        6.58459714e+01, 2.81482034e+01, 7.26516724e+00, 6.59917253e+00,\n",
       "        6.42876162e+00, 2.72077085e+01, 2.44297154e+01, 1.11682582e+02,\n",
       "        1.93741947e+02, 5.28500000e+03, 5.60359171e+01, 6.61623876e+01,\n",
       "        5.67567414e+01, 5.62041847e+01, 1.00000000e+02],\n",
       "       [1.00000000e+00, 1.98400000e+03, 6.75122501e+01, 6.19068569e+01,\n",
       "        6.43715675e+01, 3.20326070e+01, 7.81799984e+00, 6.06053609e+00,\n",
       "        6.06525534e+00, 2.46162652e+01, 2.33426173e+01, 1.20208116e+02,\n",
       "        2.09609238e+02, 5.37000000e+03, 5.39366465e+01, 6.37688506e+01,\n",
       "        5.48355196e+01, 5.48966837e+01, 1.00000000e+02],\n",
       "       [1.00000000e+00, 1.98500000e+03, 6.67527086e+01, 6.23121719e+01,\n",
       "        6.62416573e+01, 3.17024677e+01, 7.79075003e+00, 5.98536042e+00,\n",
       "        6.12440584e+00, 2.24615534e+01, 2.17979467e+01, 1.26224130e+02,\n",
       "        2.09583936e+02, 5.45600000e+03, 5.39589994e+01, 6.65594840e+01,\n",
       "        5.44684945e+01, 5.26600185e+01, 1.00000000e+02],\n",
       "       [1.00000000e+00, 1.98600000e+03, 6.97143747e+01, 6.24597461e+01,\n",
       "        6.47370583e+01, 3.16812339e+01, 7.80333281e+00, 5.85901996e+00,\n",
       "        5.88310921e+00, 2.33433041e+01, 2.22933804e+01, 1.30722425e+02,\n",
       "        2.14862039e+02, 5.52400000e+03, 5.49317462e+01, 7.09129755e+01,\n",
       "        5.66078845e+01, 5.75022461e+01, 1.00000000e+02],\n",
       "       [1.00000000e+00, 1.98700000e+03, 7.63431533e+01, 6.10154268e+01,\n",
       "        6.34029961e+01, 3.37017911e+01, 7.79825020e+00, 5.28278209e+00,\n",
       "        5.44006029e+00, 2.37987884e+01, 2.31060717e+01, 1.50282943e+02,\n",
       "        2.35066012e+02, 5.58050000e+03, 5.58342813e+01, 7.57423012e+01,\n",
       "        5.96915928e+01, 6.60180962e+01, 1.00000000e+02],\n",
       "       [1.00000000e+00, 1.98800000e+03, 7.83588350e+01, 6.18456182e+01,\n",
       "        6.35644350e+01, 3.30264320e+01, 7.80600023e+00, 5.12794987e+00,\n",
       "        5.21807784e+00, 2.42353777e+01, 2.31533794e+01, 1.72571905e+02,\n",
       "        2.56698783e+02, 5.62660000e+03, 5.79990305e+01, 8.23157189e+01,\n",
       "        6.40042070e+01, 7.54541354e+01, 1.00000000e+02],\n",
       "       [1.00000000e+00, 1.98900000e+03, 7.90851562e+01, 6.09986197e+01,\n",
       "        6.40384525e+01, 3.37739004e+01, 7.79991722e+00, 5.22747991e+00,\n",
       "        5.34585096e+00, 2.21604494e+01, 2.16755055e+01, 1.82669849e+02,\n",
       "        2.54163232e+02, 5.68620000e+03, 6.12163321e+01, 8.99179503e+01,\n",
       "        6.81025487e+01, 8.19113903e+01, 1.00000000e+02],\n",
       "       [1.00000000e+00, 1.99000000e+03, 8.04072049e+01, 6.28580194e+01,\n",
       "        6.50218707e+01, 3.16234089e+01, 7.78975010e+00, 5.51857171e+00,\n",
       "        5.41980156e+00, 2.32082569e+01, 2.28231866e+01, 1.92996631e+02,\n",
       "        2.60182763e+02, 5.70450000e+03, 6.38698519e+01, 9.54186657e+01,\n",
       "        7.08397098e+01, 8.38726031e+01, 1.00000000e+02],\n",
       "       [1.00000000e+00, 1.99100000e+03, 8.67683948e+01, 6.44030516e+01,\n",
       "        6.66795907e+01, 3.03285841e+01, 7.77116680e+00, 5.26836428e+00,\n",
       "        5.50721016e+00, 2.37463889e+01, 2.32118065e+01, 2.12102288e+02,\n",
       "        2.70767574e+02, 5.75480000e+03, 6.66590870e+01, 1.07267318e+02,\n",
       "        7.33957599e+01, 8.41516937e+01, 1.00000000e+02]])"
      ]
     },
     "execution_count": 9,
     "metadata": {},
     "output_type": "execute_result"
    }
   ],
   "source": [
    "def generaltosimple(x, y, tolerance):\n",
    "    \n",
    "    l = np.zeros((len(x[0]),len(x[0])))\n",
    "    xtemp2 = copy.copy(x)\n",
    "\n",
    "    for f in range(0,len(x[0])-1):\n",
    "\n",
    "        for i in range(0, len(x[0])-f):\n",
    "            xtemp = copy.copy(xtemp2)\n",
    "            xtemp = np.delete(xtemp, i, axis=1)\n",
    "            beta = least_squares(xtemp, y)\n",
    "            l[i,f]=R_squared(y, np.dot(xtemp,beta))\n",
    "\n",
    "        ind = np.argmax(l[:,f])\n",
    "        betta = least_squares(xtemp2, y)\n",
    "        error=SSE(y, np.dot(xtemp2,betta))/(len(x)-len(xtemp2[0]))\n",
    "        skk=np.diag(np.dot(np.transpose(x),x))\n",
    "        tstat = np.abs(betta[ind]/np.sqrt(error*skk[ind]))\n",
    "\n",
    "        degoffree=len(x)-len(x[0])\n",
    "        tstatvalue=stats.t.ppf(1-tolerance/2, degoffree)\n",
    "\n",
    "\n",
    "        if ((tstat)>=tstatvalue):\n",
    "            print(999)\n",
    "\n",
    "        else:\n",
    "            xtemp2 = np.delete(xtemp2, ind, axis=1)\n",
    "            \n",
    "        return xtemp2\n",
    "\n",
    "l=generaltosimple(xtest,ytest,0.16)\n",
    "l"
   ]
  },
  {
   "cell_type": "markdown",
   "metadata": {},
   "source": [
    "RMSE "
   ]
  },
  {
   "cell_type": "code",
   "execution_count": null,
   "metadata": {},
   "outputs": [],
   "source": []
  },
  {
   "cell_type": "markdown",
   "metadata": {},
   "source": [
    "MAE"
   ]
  },
  {
   "cell_type": "code",
   "execution_count": null,
   "metadata": {},
   "outputs": [],
   "source": []
  },
  {
   "cell_type": "code",
   "execution_count": null,
   "metadata": {},
   "outputs": [],
   "source": []
  }
 ],
 "metadata": {
  "kernelspec": {
   "display_name": "Python 3",
   "language": "python",
   "name": "python3"
  },
  "language_info": {
   "codemirror_mode": {
    "name": "ipython",
    "version": 3
   },
   "file_extension": ".py",
   "mimetype": "text/x-python",
   "name": "python",
   "nbconvert_exporter": "python",
   "pygments_lexer": "ipython3",
   "version": "3.8.5"
  }
 },
 "nbformat": 4,
 "nbformat_minor": 4
}
