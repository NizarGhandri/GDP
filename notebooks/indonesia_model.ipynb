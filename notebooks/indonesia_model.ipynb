{
 "cells": [
  {
   "cell_type": "markdown",
   "metadata": {},
   "source": [
    "# GDP analysis for Indonesia"
   ]
  },
  {
   "cell_type": "markdown",
   "metadata": {},
   "source": [
    "## Imports "
   ]
  },
  {
   "cell_type": "code",
   "execution_count": 1,
   "metadata": {
    "pycharm": {
     "name": "#%%\n"
    }
   },
   "outputs": [],
   "source": [
    "import os\n",
    "import pandas as pd\n",
    "import matplotlib.pyplot as plt \n",
    "import seaborn as sns "
   ]
  },
  {
   "cell_type": "code",
   "execution_count": 2,
   "metadata": {},
   "outputs": [],
   "source": [
    "os.chdir('..')\n",
    "from src.regressions import *\n",
    "from src.helpers import *\n",
    "from src.statistical_analysis import *\n",
    "from src.evaluation_metrics import *\n",
    "from src.feature_engineering import *\n",
    "os.chdir('notebooks')"
   ]
  },
  {
   "cell_type": "markdown",
   "metadata": {},
   "source": [
    "## Loading and visualizing the dataset "
   ]
  },
  {
   "cell_type": "markdown",
   "metadata": {},
   "source": [
    "Load the dataset in a pandas dataframe."
   ]
  },
  {
   "cell_type": "code",
   "execution_count": 3,
   "metadata": {
    "pycharm": {
     "name": "#%%\n"
    }
   },
   "outputs": [],
   "source": [
    "PATH = os.path.join(\"..\", \"data\", \"indonesia.csv\")\n",
    "\n",
    "dataset = pd.read_csv(PATH, index_col=0)"
   ]
  },
  {
   "cell_type": "markdown",
   "metadata": {},
   "source": [
    "Visualize the dataset."
   ]
  },
  {
   "cell_type": "code",
   "execution_count": 4,
   "metadata": {
    "pycharm": {
     "name": "#%%\n"
    }
   },
   "outputs": [
    {
     "data": {
      "text/html": [
       "<div>\n",
       "<style scoped>\n",
       "    .dataframe tbody tr th:only-of-type {\n",
       "        vertical-align: middle;\n",
       "    }\n",
       "\n",
       "    .dataframe tbody tr th {\n",
       "        vertical-align: top;\n",
       "    }\n",
       "\n",
       "    .dataframe thead th {\n",
       "        text-align: right;\n",
       "    }\n",
       "</style>\n",
       "<table border=\"1\" class=\"dataframe\">\n",
       "  <thead>\n",
       "    <tr style=\"text-align: right;\">\n",
       "      <th></th>\n",
       "      <th>CGPD RELATIVE TO THE UNITED STATES (unit US=100)</th>\n",
       "      <th>CONSUMPTION SHARE OF CGPD (unit %)</th>\n",
       "      <th>CONSUMPTION SHARE OF RGDPL (unit %)</th>\n",
       "      <th>CURRENT SAVINGS (unit %)</th>\n",
       "      <th>EXCHANGE RATE (unit US=1)</th>\n",
       "      <th>GOVERNMENT SHARE OF CGDP (unit %)</th>\n",
       "      <th>GOVERNMENT SHARE OF RGDPL (unit %)</th>\n",
       "      <th>INVESTMENT SHARE OF CGDP (unit %)</th>\n",
       "      <th>INVESTMENT SHARE OF RGDPL (unit %)</th>\n",
       "      <th>OPENNESS IN CONSTANT PRICES (unit %)</th>\n",
       "      <th>OPENNESS IN CURRENT PRICES (unit %)</th>\n",
       "      <th>POPULATION (unit 000S)</th>\n",
       "      <th>PRICE LEVEL OF CONSUMPTION (unit PPP/XRATE)</th>\n",
       "      <th>PRICE LEVEL OF GOVERNMENT (unit PPP/XRATE)</th>\n",
       "      <th>PRICE LEVEL OF GROSS DOMESTIC PRODUCT (unit US=100)</th>\n",
       "      <th>PRICE LEVEL OF INVESTMENT (unit PPP/XRATE)</th>\n",
       "      <th>RATIO OF GNP TO GDP (CURRENT PRICES) (unit %)</th>\n",
       "      <th>REAL GROSS DOMESTIC PRODUCT PER CAPITA (CURRENT PRICES) (unit $ CURRENT)</th>\n",
       "    </tr>\n",
       "    <tr>\n",
       "      <th>YEAR</th>\n",
       "      <th></th>\n",
       "      <th></th>\n",
       "      <th></th>\n",
       "      <th></th>\n",
       "      <th></th>\n",
       "      <th></th>\n",
       "      <th></th>\n",
       "      <th></th>\n",
       "      <th></th>\n",
       "      <th></th>\n",
       "      <th></th>\n",
       "      <th></th>\n",
       "      <th></th>\n",
       "      <th></th>\n",
       "      <th></th>\n",
       "      <th></th>\n",
       "      <th></th>\n",
       "      <th></th>\n",
       "    </tr>\n",
       "  </thead>\n",
       "  <tbody>\n",
       "    <tr>\n",
       "      <th>1950</th>\n",
       "      <td>NaN</td>\n",
       "      <td>NaN</td>\n",
       "      <td>NaN</td>\n",
       "      <td>NaN</td>\n",
       "      <td>NaN</td>\n",
       "      <td>NaN</td>\n",
       "      <td>NaN</td>\n",
       "      <td>NaN</td>\n",
       "      <td>NaN</td>\n",
       "      <td>NaN</td>\n",
       "      <td>NaN</td>\n",
       "      <td>NaN</td>\n",
       "      <td>NaN</td>\n",
       "      <td>NaN</td>\n",
       "      <td>NaN</td>\n",
       "      <td>NaN</td>\n",
       "      <td>NaN</td>\n",
       "      <td>NaN</td>\n",
       "    </tr>\n",
       "    <tr>\n",
       "      <th>1951</th>\n",
       "      <td>NaN</td>\n",
       "      <td>NaN</td>\n",
       "      <td>NaN</td>\n",
       "      <td>NaN</td>\n",
       "      <td>NaN</td>\n",
       "      <td>NaN</td>\n",
       "      <td>NaN</td>\n",
       "      <td>NaN</td>\n",
       "      <td>NaN</td>\n",
       "      <td>NaN</td>\n",
       "      <td>NaN</td>\n",
       "      <td>NaN</td>\n",
       "      <td>NaN</td>\n",
       "      <td>NaN</td>\n",
       "      <td>NaN</td>\n",
       "      <td>NaN</td>\n",
       "      <td>NaN</td>\n",
       "      <td>NaN</td>\n",
       "    </tr>\n",
       "    <tr>\n",
       "      <th>1952</th>\n",
       "      <td>NaN</td>\n",
       "      <td>NaN</td>\n",
       "      <td>NaN</td>\n",
       "      <td>NaN</td>\n",
       "      <td>NaN</td>\n",
       "      <td>NaN</td>\n",
       "      <td>NaN</td>\n",
       "      <td>NaN</td>\n",
       "      <td>NaN</td>\n",
       "      <td>NaN</td>\n",
       "      <td>NaN</td>\n",
       "      <td>NaN</td>\n",
       "      <td>NaN</td>\n",
       "      <td>NaN</td>\n",
       "      <td>NaN</td>\n",
       "      <td>NaN</td>\n",
       "      <td>NaN</td>\n",
       "      <td>NaN</td>\n",
       "    </tr>\n",
       "    <tr>\n",
       "      <th>1953</th>\n",
       "      <td>NaN</td>\n",
       "      <td>NaN</td>\n",
       "      <td>NaN</td>\n",
       "      <td>NaN</td>\n",
       "      <td>NaN</td>\n",
       "      <td>NaN</td>\n",
       "      <td>NaN</td>\n",
       "      <td>NaN</td>\n",
       "      <td>NaN</td>\n",
       "      <td>NaN</td>\n",
       "      <td>NaN</td>\n",
       "      <td>NaN</td>\n",
       "      <td>NaN</td>\n",
       "      <td>NaN</td>\n",
       "      <td>NaN</td>\n",
       "      <td>NaN</td>\n",
       "      <td>NaN</td>\n",
       "      <td>NaN</td>\n",
       "    </tr>\n",
       "    <tr>\n",
       "      <th>1954</th>\n",
       "      <td>NaN</td>\n",
       "      <td>NaN</td>\n",
       "      <td>NaN</td>\n",
       "      <td>NaN</td>\n",
       "      <td>NaN</td>\n",
       "      <td>NaN</td>\n",
       "      <td>NaN</td>\n",
       "      <td>NaN</td>\n",
       "      <td>NaN</td>\n",
       "      <td>NaN</td>\n",
       "      <td>NaN</td>\n",
       "      <td>NaN</td>\n",
       "      <td>NaN</td>\n",
       "      <td>NaN</td>\n",
       "      <td>NaN</td>\n",
       "      <td>NaN</td>\n",
       "      <td>NaN</td>\n",
       "      <td>NaN</td>\n",
       "    </tr>\n",
       "    <tr>\n",
       "      <th>1955</th>\n",
       "      <td>NaN</td>\n",
       "      <td>NaN</td>\n",
       "      <td>NaN</td>\n",
       "      <td>NaN</td>\n",
       "      <td>NaN</td>\n",
       "      <td>NaN</td>\n",
       "      <td>NaN</td>\n",
       "      <td>NaN</td>\n",
       "      <td>NaN</td>\n",
       "      <td>NaN</td>\n",
       "      <td>NaN</td>\n",
       "      <td>NaN</td>\n",
       "      <td>NaN</td>\n",
       "      <td>NaN</td>\n",
       "      <td>NaN</td>\n",
       "      <td>NaN</td>\n",
       "      <td>NaN</td>\n",
       "      <td>NaN</td>\n",
       "    </tr>\n",
       "    <tr>\n",
       "      <th>1956</th>\n",
       "      <td>NaN</td>\n",
       "      <td>NaN</td>\n",
       "      <td>NaN</td>\n",
       "      <td>NaN</td>\n",
       "      <td>NaN</td>\n",
       "      <td>NaN</td>\n",
       "      <td>NaN</td>\n",
       "      <td>NaN</td>\n",
       "      <td>NaN</td>\n",
       "      <td>NaN</td>\n",
       "      <td>NaN</td>\n",
       "      <td>NaN</td>\n",
       "      <td>NaN</td>\n",
       "      <td>NaN</td>\n",
       "      <td>NaN</td>\n",
       "      <td>NaN</td>\n",
       "      <td>NaN</td>\n",
       "      <td>NaN</td>\n",
       "    </tr>\n",
       "    <tr>\n",
       "      <th>1957</th>\n",
       "      <td>NaN</td>\n",
       "      <td>NaN</td>\n",
       "      <td>NaN</td>\n",
       "      <td>NaN</td>\n",
       "      <td>NaN</td>\n",
       "      <td>NaN</td>\n",
       "      <td>NaN</td>\n",
       "      <td>NaN</td>\n",
       "      <td>NaN</td>\n",
       "      <td>NaN</td>\n",
       "      <td>NaN</td>\n",
       "      <td>NaN</td>\n",
       "      <td>NaN</td>\n",
       "      <td>NaN</td>\n",
       "      <td>NaN</td>\n",
       "      <td>NaN</td>\n",
       "      <td>NaN</td>\n",
       "      <td>NaN</td>\n",
       "    </tr>\n",
       "    <tr>\n",
       "      <th>1958</th>\n",
       "      <td>NaN</td>\n",
       "      <td>NaN</td>\n",
       "      <td>NaN</td>\n",
       "      <td>NaN</td>\n",
       "      <td>NaN</td>\n",
       "      <td>NaN</td>\n",
       "      <td>NaN</td>\n",
       "      <td>NaN</td>\n",
       "      <td>NaN</td>\n",
       "      <td>NaN</td>\n",
       "      <td>NaN</td>\n",
       "      <td>NaN</td>\n",
       "      <td>NaN</td>\n",
       "      <td>NaN</td>\n",
       "      <td>NaN</td>\n",
       "      <td>NaN</td>\n",
       "      <td>NaN</td>\n",
       "      <td>NaN</td>\n",
       "    </tr>\n",
       "    <tr>\n",
       "      <th>1959</th>\n",
       "      <td>NaN</td>\n",
       "      <td>NaN</td>\n",
       "      <td>NaN</td>\n",
       "      <td>NaN</td>\n",
       "      <td>NaN</td>\n",
       "      <td>NaN</td>\n",
       "      <td>NaN</td>\n",
       "      <td>NaN</td>\n",
       "      <td>NaN</td>\n",
       "      <td>NaN</td>\n",
       "      <td>NaN</td>\n",
       "      <td>NaN</td>\n",
       "      <td>NaN</td>\n",
       "      <td>NaN</td>\n",
       "      <td>NaN</td>\n",
       "      <td>NaN</td>\n",
       "      <td>NaN</td>\n",
       "      <td>NaN</td>\n",
       "    </tr>\n",
       "    <tr>\n",
       "      <th>1960</th>\n",
       "      <td>5.887753</td>\n",
       "      <td>68.921894</td>\n",
       "      <td>52.578840</td>\n",
       "      <td>9.874070</td>\n",
       "      <td>0.075444</td>\n",
       "      <td>21.204036</td>\n",
       "      <td>20.812269</td>\n",
       "      <td>6.723281</td>\n",
       "      <td>4.254822</td>\n",
       "      <td>39.279293</td>\n",
       "      <td>26.937197</td>\n",
       "      <td>93996.000</td>\n",
       "      <td>38.260746</td>\n",
       "      <td>16.815424</td>\n",
       "      <td>34.162932</td>\n",
       "      <td>46.866257</td>\n",
       "      <td>100.970874</td>\n",
       "      <td>170.062972</td>\n",
       "    </tr>\n",
       "    <tr>\n",
       "      <th>1961</th>\n",
       "      <td>5.814377</td>\n",
       "      <td>72.819287</td>\n",
       "      <td>54.228581</td>\n",
       "      <td>7.273200</td>\n",
       "      <td>0.088475</td>\n",
       "      <td>19.907513</td>\n",
       "      <td>18.611372</td>\n",
       "      <td>9.465380</td>\n",
       "      <td>5.880665</td>\n",
       "      <td>43.250152</td>\n",
       "      <td>23.614272</td>\n",
       "      <td>95922.280</td>\n",
       "      <td>37.343916</td>\n",
       "      <td>18.727792</td>\n",
       "      <td>34.244554</td>\n",
       "      <td>43.035198</td>\n",
       "      <td>100.806452</td>\n",
       "      <td>170.667181</td>\n",
       "    </tr>\n",
       "    <tr>\n",
       "      <th>1962</th>\n",
       "      <td>5.841028</td>\n",
       "      <td>76.262849</td>\n",
       "      <td>60.898943</td>\n",
       "      <td>8.514918</td>\n",
       "      <td>0.243304</td>\n",
       "      <td>15.222233</td>\n",
       "      <td>15.021035</td>\n",
       "      <td>7.812022</td>\n",
       "      <td>5.349433</td>\n",
       "      <td>40.273071</td>\n",
       "      <td>10.922910</td>\n",
       "      <td>97951.360</td>\n",
       "      <td>37.220552</td>\n",
       "      <td>12.157068</td>\n",
       "      <td>32.593291</td>\n",
       "      <td>27.242162</td>\n",
       "      <td>101.277511</td>\n",
       "      <td>181.394139</td>\n",
       "    </tr>\n",
       "    <tr>\n",
       "      <th>1963</th>\n",
       "      <td>5.371324</td>\n",
       "      <td>76.567356</td>\n",
       "      <td>60.397768</td>\n",
       "      <td>7.449730</td>\n",
       "      <td>0.575852</td>\n",
       "      <td>15.982914</td>\n",
       "      <td>15.351258</td>\n",
       "      <td>6.143844</td>\n",
       "      <td>4.153576</td>\n",
       "      <td>36.162813</td>\n",
       "      <td>19.025910</td>\n",
       "      <td>100078.800</td>\n",
       "      <td>36.541149</td>\n",
       "      <td>13.692718</td>\n",
       "      <td>33.836737</td>\n",
       "      <td>52.536833</td>\n",
       "      <td>100.679262</td>\n",
       "      <td>173.638372</td>\n",
       "    </tr>\n",
       "    <tr>\n",
       "      <th>1964</th>\n",
       "      <td>5.114259</td>\n",
       "      <td>73.150816</td>\n",
       "      <td>56.427812</td>\n",
       "      <td>8.227310</td>\n",
       "      <td>1.227225</td>\n",
       "      <td>18.621874</td>\n",
       "      <td>17.300336</td>\n",
       "      <td>6.849006</td>\n",
       "      <td>4.531765</td>\n",
       "      <td>38.490892</td>\n",
       "      <td>26.086061</td>\n",
       "      <td>102300.160</td>\n",
       "      <td>36.499118</td>\n",
       "      <td>11.929260</td>\n",
       "      <td>34.198546</td>\n",
       "      <td>70.175600</td>\n",
       "      <td>100.239106</td>\n",
       "      <td>175.336121</td>\n",
       "    </tr>\n",
       "    <tr>\n",
       "      <th>1965</th>\n",
       "      <td>4.641238</td>\n",
       "      <td>78.483885</td>\n",
       "      <td>60.637495</td>\n",
       "      <td>7.366814</td>\n",
       "      <td>4.005756</td>\n",
       "      <td>14.149301</td>\n",
       "      <td>12.793235</td>\n",
       "      <td>7.262896</td>\n",
       "      <td>4.806221</td>\n",
       "      <td>37.451981</td>\n",
       "      <td>10.951239</td>\n",
       "      <td>104611.000</td>\n",
       "      <td>38.756891</td>\n",
       "      <td>12.631834</td>\n",
       "      <td>34.963762</td>\n",
       "      <td>37.480895</td>\n",
       "      <td>101.215024</td>\n",
       "      <td>170.768317</td>\n",
       "    </tr>\n",
       "    <tr>\n",
       "      <th>1966</th>\n",
       "      <td>4.268339</td>\n",
       "      <td>78.974127</td>\n",
       "      <td>57.257860</td>\n",
       "      <td>0.690156</td>\n",
       "      <td>75.901094</td>\n",
       "      <td>20.335717</td>\n",
       "      <td>16.928238</td>\n",
       "      <td>8.211723</td>\n",
       "      <td>5.132356</td>\n",
       "      <td>34.932694</td>\n",
       "      <td>34.266115</td>\n",
       "      <td>107014.280</td>\n",
       "      <td>28.803106</td>\n",
       "      <td>9.521414</td>\n",
       "      <td>24.139190</td>\n",
       "      <td>15.485013</td>\n",
       "      <td>100.379781</td>\n",
       "      <td>169.947870</td>\n",
       "    </tr>\n",
       "    <tr>\n",
       "      <th>1967</th>\n",
       "      <td>4.297588</td>\n",
       "      <td>82.818497</td>\n",
       "      <td>62.337551</td>\n",
       "      <td>-0.392070</td>\n",
       "      <td>149.583298</td>\n",
       "      <td>17.573573</td>\n",
       "      <td>14.930198</td>\n",
       "      <td>6.396626</td>\n",
       "      <td>4.166943</td>\n",
       "      <td>36.741739</td>\n",
       "      <td>25.177308</td>\n",
       "      <td>109512.960</td>\n",
       "      <td>33.599107</td>\n",
       "      <td>11.717863</td>\n",
       "      <td>30.660323</td>\n",
       "      <td>44.652239</td>\n",
       "      <td>100.806812</td>\n",
       "      <td>178.136260</td>\n",
       "    </tr>\n",
       "    <tr>\n",
       "      <th>1968</th>\n",
       "      <td>4.675378</td>\n",
       "      <td>79.237819</td>\n",
       "      <td>61.775907</td>\n",
       "      <td>3.303143</td>\n",
       "      <td>296.291687</td>\n",
       "      <td>17.459038</td>\n",
       "      <td>15.099493</td>\n",
       "      <td>6.647020</td>\n",
       "      <td>4.532774</td>\n",
       "      <td>35.961352</td>\n",
       "      <td>26.118391</td>\n",
       "      <td>112102.600</td>\n",
       "      <td>34.619430</td>\n",
       "      <td>12.339285</td>\n",
       "      <td>31.783409</td>\n",
       "      <td>49.047622</td>\n",
       "      <td>100.560899</td>\n",
       "      <td>209.626310</td>\n",
       "    </tr>\n",
       "    <tr>\n",
       "      <th>1969</th>\n",
       "      <td>4.650220</td>\n",
       "      <td>79.113852</td>\n",
       "      <td>60.599894</td>\n",
       "      <td>3.547496</td>\n",
       "      <td>326.000000</td>\n",
       "      <td>17.338652</td>\n",
       "      <td>14.514019</td>\n",
       "      <td>8.113547</td>\n",
       "      <td>5.407723</td>\n",
       "      <td>39.210321</td>\n",
       "      <td>23.457651</td>\n",
       "      <td>114778.760</td>\n",
       "      <td>36.547247</td>\n",
       "      <td>13.161636</td>\n",
       "      <td>34.278545</td>\n",
       "      <td>57.283646</td>\n",
       "      <td>100.652266</td>\n",
       "      <td>223.680973</td>\n",
       "    </tr>\n",
       "    <tr>\n",
       "      <th>1970</th>\n",
       "      <td>4.984585</td>\n",
       "      <td>72.644703</td>\n",
       "      <td>56.197556</td>\n",
       "      <td>8.293018</td>\n",
       "      <td>362.833313</td>\n",
       "      <td>19.062279</td>\n",
       "      <td>15.650123</td>\n",
       "      <td>9.824499</td>\n",
       "      <td>6.637288</td>\n",
       "      <td>41.968285</td>\n",
       "      <td>28.417470</td>\n",
       "      <td>117537.000</td>\n",
       "      <td>35.484814</td>\n",
       "      <td>13.917788</td>\n",
       "      <td>33.172502</td>\n",
       "      <td>53.434250</td>\n",
       "      <td>100.425851</td>\n",
       "      <td>249.242629</td>\n",
       "    </tr>\n",
       "    <tr>\n",
       "      <th>1971</th>\n",
       "      <td>5.071932</td>\n",
       "      <td>70.293533</td>\n",
       "      <td>54.722564</td>\n",
       "      <td>10.001993</td>\n",
       "      <td>391.875000</td>\n",
       "      <td>19.704474</td>\n",
       "      <td>15.851283</td>\n",
       "      <td>11.009484</td>\n",
       "      <td>7.538414</td>\n",
       "      <td>47.021983</td>\n",
       "      <td>31.128907</td>\n",
       "      <td>120389.288</td>\n",
       "      <td>31.809241</td>\n",
       "      <td>12.968680</td>\n",
       "      <td>30.158515</td>\n",
       "      <td>50.384831</td>\n",
       "      <td>100.073293</td>\n",
       "      <td>272.068219</td>\n",
       "    </tr>\n",
       "    <tr>\n",
       "      <th>1972</th>\n",
       "      <td>4.961598</td>\n",
       "      <td>65.617180</td>\n",
       "      <td>50.107024</td>\n",
       "      <td>13.729979</td>\n",
       "      <td>415.000000</td>\n",
       "      <td>20.652841</td>\n",
       "      <td>15.962832</td>\n",
       "      <td>12.338494</td>\n",
       "      <td>8.372182</td>\n",
       "      <td>52.286516</td>\n",
       "      <td>33.624091</td>\n",
       "      <td>123360.064</td>\n",
       "      <td>33.940633</td>\n",
       "      <td>13.005493</td>\n",
       "      <td>32.495248</td>\n",
       "      <td>57.431572</td>\n",
       "      <td>98.744422</td>\n",
       "      <td>289.436806</td>\n",
       "    </tr>\n",
       "    <tr>\n",
       "      <th>1973</th>\n",
       "      <td>5.182688</td>\n",
       "      <td>61.200556</td>\n",
       "      <td>47.499688</td>\n",
       "      <td>15.205957</td>\n",
       "      <td>415.000000</td>\n",
       "      <td>23.593487</td>\n",
       "      <td>18.305734</td>\n",
       "      <td>12.817646</td>\n",
       "      <td>8.791281</td>\n",
       "      <td>57.464010</td>\n",
       "      <td>39.758359</td>\n",
       "      <td>126409.904</td>\n",
       "      <td>44.463182</td>\n",
       "      <td>16.600620</td>\n",
       "      <td>40.521545</td>\n",
       "      <td>65.732699</td>\n",
       "      <td>98.262148</td>\n",
       "      <td>334.844211</td>\n",
       "    </tr>\n",
       "    <tr>\n",
       "      <th>1974</th>\n",
       "      <td>6.185585</td>\n",
       "      <td>60.046171</td>\n",
       "      <td>53.094398</td>\n",
       "      <td>22.218274</td>\n",
       "      <td>415.000000</td>\n",
       "      <td>17.735555</td>\n",
       "      <td>15.423272</td>\n",
       "      <td>12.845209</td>\n",
       "      <td>9.875014</td>\n",
       "      <td>61.523123</td>\n",
       "      <td>50.225484</td>\n",
       "      <td>129499.352</td>\n",
       "      <td>52.193000</td>\n",
       "      <td>19.772566</td>\n",
       "      <td>49.021149</td>\n",
       "      <td>74.577942</td>\n",
       "      <td>97.209611</td>\n",
       "      <td>429.264551</td>\n",
       "    </tr>\n",
       "    <tr>\n",
       "      <th>1975</th>\n",
       "      <td>6.630017</td>\n",
       "      <td>61.499537</td>\n",
       "      <td>54.078284</td>\n",
       "      <td>16.969068</td>\n",
       "      <td>415.000000</td>\n",
       "      <td>21.531395</td>\n",
       "      <td>18.554406</td>\n",
       "      <td>13.972813</td>\n",
       "      <td>10.507592</td>\n",
       "      <td>58.207987</td>\n",
       "      <td>44.943820</td>\n",
       "      <td>132589.000</td>\n",
       "      <td>51.054725</td>\n",
       "      <td>20.565236</td>\n",
       "      <td>48.854184</td>\n",
       "      <td>82.760618</td>\n",
       "      <td>97.469531</td>\n",
       "      <td>496.619660</td>\n",
       "    </tr>\n",
       "    <tr>\n",
       "      <th>1976</th>\n",
       "      <td>6.382866</td>\n",
       "      <td>60.522373</td>\n",
       "      <td>52.028167</td>\n",
       "      <td>17.155887</td>\n",
       "      <td>415.000000</td>\n",
       "      <td>22.321740</td>\n",
       "      <td>18.818716</td>\n",
       "      <td>14.158945</td>\n",
       "      <td>10.485514</td>\n",
       "      <td>64.044239</td>\n",
       "      <td>45.932722</td>\n",
       "      <td>135902.704</td>\n",
       "      <td>57.663882</td>\n",
       "      <td>23.001166</td>\n",
       "      <td>54.866119</td>\n",
       "      <td>93.142552</td>\n",
       "      <td>98.777066</td>\n",
       "      <td>528.368993</td>\n",
       "    </tr>\n",
       "    <tr>\n",
       "      <th>1977</th>\n",
       "      <td>6.629557</td>\n",
       "      <td>55.917335</td>\n",
       "      <td>49.007305</td>\n",
       "      <td>20.220539</td>\n",
       "      <td>415.000000</td>\n",
       "      <td>23.862125</td>\n",
       "      <td>20.081447</td>\n",
       "      <td>14.607027</td>\n",
       "      <td>11.133595</td>\n",
       "      <td>63.288490</td>\n",
       "      <td>43.964232</td>\n",
       "      <td>139096.288</td>\n",
       "      <td>62.941934</td>\n",
       "      <td>23.982934</td>\n",
       "      <td>57.600362</td>\n",
       "      <td>92.069855</td>\n",
       "      <td>98.329051</td>\n",
       "      <td>605.417433</td>\n",
       "    </tr>\n",
       "    <tr>\n",
       "      <th>1978</th>\n",
       "      <td>6.956468</td>\n",
       "      <td>56.918235</td>\n",
       "      <td>51.029219</td>\n",
       "      <td>18.218793</td>\n",
       "      <td>442.045410</td>\n",
       "      <td>24.862972</td>\n",
       "      <td>21.476436</td>\n",
       "      <td>15.005103</td>\n",
       "      <td>11.637648</td>\n",
       "      <td>60.375120</td>\n",
       "      <td>42.696160</td>\n",
       "      <td>142204.432</td>\n",
       "      <td>58.582296</td>\n",
       "      <td>23.041910</td>\n",
       "      <td>53.618957</td>\n",
       "      <td>85.456909</td>\n",
       "      <td>98.074784</td>\n",
       "      <td>710.867137</td>\n",
       "    </tr>\n",
       "    <tr>\n",
       "      <th>1979</th>\n",
       "      <td>7.719537</td>\n",
       "      <td>52.007179</td>\n",
       "      <td>50.525864</td>\n",
       "      <td>24.118745</td>\n",
       "      <td>623.055481</td>\n",
       "      <td>23.874076</td>\n",
       "      <td>22.507761</td>\n",
       "      <td>16.115253</td>\n",
       "      <td>13.621683</td>\n",
       "      <td>59.658621</td>\n",
       "      <td>53.114086</td>\n",
       "      <td>145261.776</td>\n",
       "      <td>48.207785</td>\n",
       "      <td>17.396527</td>\n",
       "      <td>43.507932</td>\n",
       "      <td>67.023515</td>\n",
       "      <td>95.677936</td>\n",
       "      <td>872.582790</td>\n",
       "    </tr>\n",
       "    <tr>\n",
       "      <th>1980</th>\n",
       "      <td>9.146857</td>\n",
       "      <td>45.216228</td>\n",
       "      <td>47.830725</td>\n",
       "      <td>30.541610</td>\n",
       "      <td>626.994019</td>\n",
       "      <td>24.242162</td>\n",
       "      <td>24.634674</td>\n",
       "      <td>16.632296</td>\n",
       "      <td>15.508777</td>\n",
       "      <td>58.587349</td>\n",
       "      <td>54.309641</td>\n",
       "      <td>148303.008</td>\n",
       "      <td>53.841689</td>\n",
       "      <td>20.523355</td>\n",
       "      <td>47.299209</td>\n",
       "      <td>68.539709</td>\n",
       "      <td>95.889274</td>\n",
       "      <td>1113.202506</td>\n",
       "    </tr>\n",
       "    <tr>\n",
       "      <th>1981</th>\n",
       "      <td>10.094542</td>\n",
       "      <td>55.269047</td>\n",
       "      <td>61.267740</td>\n",
       "      <td>21.366092</td>\n",
       "      <td>631.756714</td>\n",
       "      <td>23.364861</td>\n",
       "      <td>24.790119</td>\n",
       "      <td>16.233500</td>\n",
       "      <td>15.966514</td>\n",
       "      <td>55.034682</td>\n",
       "      <td>53.036784</td>\n",
       "      <td>151304.976</td>\n",
       "      <td>46.400863</td>\n",
       "      <td>21.196203</td>\n",
       "      <td>44.879300</td>\n",
       "      <td>73.786003</td>\n",
       "      <td>96.705140</td>\n",
       "      <td>1362.496392</td>\n",
       "    </tr>\n",
       "    <tr>\n",
       "      <th>1982</th>\n",
       "      <td>10.342884</td>\n",
       "      <td>56.264991</td>\n",
       "      <td>61.610685</td>\n",
       "      <td>18.563977</td>\n",
       "      <td>661.420715</td>\n",
       "      <td>25.171032</td>\n",
       "      <td>26.560996</td>\n",
       "      <td>17.286634</td>\n",
       "      <td>16.596180</td>\n",
       "      <td>52.168723</td>\n",
       "      <td>49.497046</td>\n",
       "      <td>154244.608</td>\n",
       "      <td>45.068212</td>\n",
       "      <td>19.579560</td>\n",
       "      <td>42.692153</td>\n",
       "      <td>68.612692</td>\n",
       "      <td>95.153919</td>\n",
       "      <td>1437.959219</td>\n",
       "    </tr>\n",
       "    <tr>\n",
       "      <th>1983</th>\n",
       "      <td>10.364895</td>\n",
       "      <td>58.538011</td>\n",
       "      <td>62.887350</td>\n",
       "      <td>18.009802</td>\n",
       "      <td>909.264771</td>\n",
       "      <td>23.452187</td>\n",
       "      <td>24.322897</td>\n",
       "      <td>16.851202</td>\n",
       "      <td>16.108364</td>\n",
       "      <td>48.227605</td>\n",
       "      <td>51.622039</td>\n",
       "      <td>157156.544</td>\n",
       "      <td>36.504879</td>\n",
       "      <td>15.565237</td>\n",
       "      <td>35.094329</td>\n",
       "      <td>57.373403</td>\n",
       "      <td>95.908553</td>\n",
       "      <td>1548.992936</td>\n",
       "    </tr>\n",
       "    <tr>\n",
       "      <th>1984</th>\n",
       "      <td>10.136832</td>\n",
       "      <td>57.989609</td>\n",
       "      <td>62.041366</td>\n",
       "      <td>19.161999</td>\n",
       "      <td>1025.944946</td>\n",
       "      <td>22.848392</td>\n",
       "      <td>23.527161</td>\n",
       "      <td>14.708648</td>\n",
       "      <td>14.350795</td>\n",
       "      <td>44.695165</td>\n",
       "      <td>48.541527</td>\n",
       "      <td>160075.456</td>\n",
       "      <td>34.060317</td>\n",
       "      <td>14.705333</td>\n",
       "      <td>32.732007</td>\n",
       "      <td>55.497683</td>\n",
       "      <td>92.969919</td>\n",
       "      <td>1670.904452</td>\n",
       "    </tr>\n",
       "    <tr>\n",
       "      <th>1985</th>\n",
       "      <td>10.192932</td>\n",
       "      <td>59.072938</td>\n",
       "      <td>63.704002</td>\n",
       "      <td>17.514217</td>\n",
       "      <td>1110.579956</td>\n",
       "      <td>23.412846</td>\n",
       "      <td>24.302318</td>\n",
       "      <td>14.934237</td>\n",
       "      <td>14.702077</td>\n",
       "      <td>42.328375</td>\n",
       "      <td>43.446852</td>\n",
       "      <td>163036.000</td>\n",
       "      <td>30.234139</td>\n",
       "      <td>15.071657</td>\n",
       "      <td>29.993982</td>\n",
       "      <td>52.438207</td>\n",
       "      <td>93.418626</td>\n",
       "      <td>1784.252451</td>\n",
       "    </tr>\n",
       "    <tr>\n",
       "      <th>1986</th>\n",
       "      <td>9.800024</td>\n",
       "      <td>60.235408</td>\n",
       "      <td>61.674159</td>\n",
       "      <td>15.850593</td>\n",
       "      <td>1282.560059</td>\n",
       "      <td>23.913999</td>\n",
       "      <td>23.720988</td>\n",
       "      <td>16.143562</td>\n",
       "      <td>15.230410</td>\n",
       "      <td>44.046610</td>\n",
       "      <td>40.722656</td>\n",
       "      <td>166015.056</td>\n",
       "      <td>27.820940</td>\n",
       "      <td>12.353552</td>\n",
       "      <td>26.771061</td>\n",
       "      <td>44.210855</td>\n",
       "      <td>90.727176</td>\n",
       "      <td>1796.425380</td>\n",
       "    </tr>\n",
       "    <tr>\n",
       "      <th>1987</th>\n",
       "      <td>9.788227</td>\n",
       "      <td>58.864387</td>\n",
       "      <td>59.833441</td>\n",
       "      <td>18.555206</td>\n",
       "      <td>1643.848022</td>\n",
       "      <td>22.580407</td>\n",
       "      <td>22.745422</td>\n",
       "      <td>16.225889</td>\n",
       "      <td>15.409941</td>\n",
       "      <td>45.692964</td>\n",
       "      <td>47.309237</td>\n",
       "      <td>168989.536</td>\n",
       "      <td>24.443004</td>\n",
       "      <td>9.932569</td>\n",
       "      <td>23.663592</td>\n",
       "      <td>39.944520</td>\n",
       "      <td>91.245243</td>\n",
       "      <td>1893.944276</td>\n",
       "    </tr>\n",
       "    <tr>\n",
       "      <th>1988</th>\n",
       "      <td>9.565734</td>\n",
       "      <td>55.254969</td>\n",
       "      <td>54.638672</td>\n",
       "      <td>21.071401</td>\n",
       "      <td>1685.703979</td>\n",
       "      <td>23.673631</td>\n",
       "      <td>23.176892</td>\n",
       "      <td>17.597787</td>\n",
       "      <td>16.175071</td>\n",
       "      <td>39.595038</td>\n",
       "      <td>45.691383</td>\n",
       "      <td>171994.064</td>\n",
       "      <td>28.305815</td>\n",
       "      <td>9.438089</td>\n",
       "      <td>26.131287</td>\n",
       "      <td>41.760245</td>\n",
       "      <td>95.375796</td>\n",
       "      <td>1975.905800</td>\n",
       "    </tr>\n",
       "    <tr>\n",
       "      <th>1989</th>\n",
       "      <td>10.016958</td>\n",
       "      <td>53.749797</td>\n",
       "      <td>53.570070</td>\n",
       "      <td>22.058818</td>\n",
       "      <td>1770.058960</td>\n",
       "      <td>24.191385</td>\n",
       "      <td>23.486039</td>\n",
       "      <td>18.328306</td>\n",
       "      <td>17.019138</td>\n",
       "      <td>40.368139</td>\n",
       "      <td>46.492205</td>\n",
       "      <td>175063.344</td>\n",
       "      <td>28.621710</td>\n",
       "      <td>9.508719</td>\n",
       "      <td>26.314155</td>\n",
       "      <td>41.728357</td>\n",
       "      <td>95.504004</td>\n",
       "      <td>2202.591422</td>\n",
       "    </tr>\n",
       "    <tr>\n",
       "      <th>1990</th>\n",
       "      <td>10.899137</td>\n",
       "      <td>55.642693</td>\n",
       "      <td>57.036251</td>\n",
       "      <td>21.031561</td>\n",
       "      <td>1842.812988</td>\n",
       "      <td>23.325747</td>\n",
       "      <td>22.700547</td>\n",
       "      <td>18.611057</td>\n",
       "      <td>18.136308</td>\n",
       "      <td>40.808029</td>\n",
       "      <td>49.881348</td>\n",
       "      <td>178232.000</td>\n",
       "      <td>26.623881</td>\n",
       "      <td>9.682713</td>\n",
       "      <td>25.584928</td>\n",
       "      <td>42.409385</td>\n",
       "      <td>95.440232</td>\n",
       "      <td>2507.340901</td>\n",
       "    </tr>\n",
       "    <tr>\n",
       "      <th>1991</th>\n",
       "      <td>11.634708</td>\n",
       "      <td>55.903973</td>\n",
       "      <td>56.090495</td>\n",
       "      <td>22.278898</td>\n",
       "      <td>1950.317993</td>\n",
       "      <td>21.817129</td>\n",
       "      <td>22.101084</td>\n",
       "      <td>19.922668</td>\n",
       "      <td>18.872046</td>\n",
       "      <td>44.674856</td>\n",
       "      <td>50.439297</td>\n",
       "      <td>181397.024</td>\n",
       "      <td>27.773114</td>\n",
       "      <td>9.868286</td>\n",
       "      <td>25.918527</td>\n",
       "      <td>38.290936</td>\n",
       "      <td>95.634259</td>\n",
       "      <td>2730.790761</td>\n",
       "    </tr>\n",
       "    <tr>\n",
       "      <th>1992</th>\n",
       "      <td>11.994114</td>\n",
       "      <td>55.613802</td>\n",
       "      <td>55.406078</td>\n",
       "      <td>22.541507</td>\n",
       "      <td>2029.921021</td>\n",
       "      <td>21.844690</td>\n",
       "      <td>21.809072</td>\n",
       "      <td>18.681734</td>\n",
       "      <td>18.264569</td>\n",
       "      <td>46.791006</td>\n",
       "      <td>53.788952</td>\n",
       "      <td>184556.192</td>\n",
       "      <td>27.256986</td>\n",
       "      <td>10.263489</td>\n",
       "      <td>25.633543</td>\n",
       "      <td>38.773022</td>\n",
       "      <td>95.558349</td>\n",
       "      <td>2940.683580</td>\n",
       "    </tr>\n",
       "    <tr>\n",
       "      <th>1993</th>\n",
       "      <td>12.257440</td>\n",
       "      <td>57.541468</td>\n",
       "      <td>57.122792</td>\n",
       "      <td>21.810318</td>\n",
       "      <td>2087.104004</td>\n",
       "      <td>20.648214</td>\n",
       "      <td>20.576140</td>\n",
       "      <td>18.836115</td>\n",
       "      <td>18.300495</td>\n",
       "      <td>45.661709</td>\n",
       "      <td>50.561457</td>\n",
       "      <td>187707.264</td>\n",
       "      <td>27.670133</td>\n",
       "      <td>11.783962</td>\n",
       "      <td>26.903760</td>\n",
       "      <td>41.136985</td>\n",
       "      <td>96.193477</td>\n",
       "      <td>3126.203625</td>\n",
       "    </tr>\n",
       "    <tr>\n",
       "      <th>1994</th>\n",
       "      <td>12.503539</td>\n",
       "      <td>57.925992</td>\n",
       "      <td>57.767273</td>\n",
       "      <td>22.240325</td>\n",
       "      <td>2160.753906</td>\n",
       "      <td>19.833683</td>\n",
       "      <td>19.685196</td>\n",
       "      <td>19.864967</td>\n",
       "      <td>19.531714</td>\n",
       "      <td>47.822245</td>\n",
       "      <td>50.352388</td>\n",
       "      <td>190847.968</td>\n",
       "      <td>28.447773</td>\n",
       "      <td>11.296534</td>\n",
       "      <td>27.688476</td>\n",
       "      <td>41.840504</td>\n",
       "      <td>97.318560</td>\n",
       "      <td>3355.214172</td>\n",
       "    </tr>\n",
       "    <tr>\n",
       "      <th>1995</th>\n",
       "      <td>12.507703</td>\n",
       "      <td>57.301824</td>\n",
       "      <td>56.111372</td>\n",
       "      <td>23.054071</td>\n",
       "      <td>2248.607910</td>\n",
       "      <td>19.644105</td>\n",
       "      <td>18.882025</td>\n",
       "      <td>24.373912</td>\n",
       "      <td>23.578667</td>\n",
       "      <td>50.385743</td>\n",
       "      <td>54.113506</td>\n",
       "      <td>193976.000</td>\n",
       "      <td>32.108882</td>\n",
       "      <td>11.908399</td>\n",
       "      <td>29.872051</td>\n",
       "      <td>39.091142</td>\n",
       "      <td>97.059277</td>\n",
       "      <td>3489.013586</td>\n",
       "    </tr>\n",
       "    <tr>\n",
       "      <th>1996</th>\n",
       "      <td>13.328841</td>\n",
       "      <td>61.491854</td>\n",
       "      <td>61.491854</td>\n",
       "      <td>20.630910</td>\n",
       "      <td>2342.295898</td>\n",
       "      <td>17.877236</td>\n",
       "      <td>17.877236</td>\n",
       "      <td>21.194502</td>\n",
       "      <td>21.194502</td>\n",
       "      <td>52.414052</td>\n",
       "      <td>52.414052</td>\n",
       "      <td>197156.480</td>\n",
       "      <td>30.045749</td>\n",
       "      <td>12.544900</td>\n",
       "      <td>29.622316</td>\n",
       "      <td>42.798341</td>\n",
       "      <td>97.320154</td>\n",
       "      <td>3891.209790</td>\n",
       "    </tr>\n",
       "    <tr>\n",
       "      <th>1997</th>\n",
       "      <td>13.431359</td>\n",
       "      <td>62.539280</td>\n",
       "      <td>63.595749</td>\n",
       "      <td>20.673192</td>\n",
       "      <td>2909.379883</td>\n",
       "      <td>16.787528</td>\n",
       "      <td>17.153953</td>\n",
       "      <td>20.992171</td>\n",
       "      <td>21.542164</td>\n",
       "      <td>56.042529</td>\n",
       "      <td>56.140351</td>\n",
       "      <td>200390.288</td>\n",
       "      <td>25.659063</td>\n",
       "      <td>10.620976</td>\n",
       "      <td>25.998617</td>\n",
       "      <td>39.307771</td>\n",
       "      <td>97.075809</td>\n",
       "      <td>4136.568304</td>\n",
       "    </tr>\n",
       "    <tr>\n",
       "      <th>1998</th>\n",
       "      <td>12.131535</td>\n",
       "      <td>62.155393</td>\n",
       "      <td>66.461365</td>\n",
       "      <td>22.956919</td>\n",
       "      <td>10013.620120</td>\n",
       "      <td>14.887687</td>\n",
       "      <td>16.146832</td>\n",
       "      <td>13.222776</td>\n",
       "      <td>14.625724</td>\n",
       "      <td>64.003682</td>\n",
       "      <td>96.190077</td>\n",
       "      <td>203678.368</td>\n",
       "      <td>13.073190</td>\n",
       "      <td>4.582021</td>\n",
       "      <td>11.980381</td>\n",
       "      <td>15.173393</td>\n",
       "      <td>94.361101</td>\n",
       "      <td>3910.016585</td>\n",
       "    </tr>\n",
       "    <tr>\n",
       "      <th>1999</th>\n",
       "      <td>11.361046</td>\n",
       "      <td>66.374206</td>\n",
       "      <td>68.444633</td>\n",
       "      <td>18.146429</td>\n",
       "      <td>7855.149902</td>\n",
       "      <td>15.479366</td>\n",
       "      <td>16.013671</td>\n",
       "      <td>10.125520</td>\n",
       "      <td>11.045912</td>\n",
       "      <td>40.345729</td>\n",
       "      <td>62.454939</td>\n",
       "      <td>207021.616</td>\n",
       "      <td>19.658069</td>\n",
       "      <td>7.527194</td>\n",
       "      <td>17.808039</td>\n",
       "      <td>21.397649</td>\n",
       "      <td>92.792793</td>\n",
       "      <td>3831.600211</td>\n",
       "    </tr>\n",
       "    <tr>\n",
       "      <th>2000</th>\n",
       "      <td>11.329085</td>\n",
       "      <td>64.775375</td>\n",
       "      <td>67.633409</td>\n",
       "      <td>18.564669</td>\n",
       "      <td>8421.775391</td>\n",
       "      <td>16.659956</td>\n",
       "      <td>16.280259</td>\n",
       "      <td>10.668710</td>\n",
       "      <td>11.456409</td>\n",
       "      <td>45.023145</td>\n",
       "      <td>69.205759</td>\n",
       "      <td>210420.992</td>\n",
       "      <td>18.738921</td>\n",
       "      <td>7.621612</td>\n",
       "      <td>18.064672</td>\n",
       "      <td>30.278536</td>\n",
       "      <td>93.023256</td>\n",
       "      <td>4035.268912</td>\n",
       "    </tr>\n",
       "  </tbody>\n",
       "</table>\n",
       "</div>"
      ],
      "text/plain": [
       "      CGPD RELATIVE TO THE UNITED STATES (unit US=100)  \\\n",
       "YEAR                                                     \n",
       "1950                                               NaN   \n",
       "1951                                               NaN   \n",
       "1952                                               NaN   \n",
       "1953                                               NaN   \n",
       "1954                                               NaN   \n",
       "1955                                               NaN   \n",
       "1956                                               NaN   \n",
       "1957                                               NaN   \n",
       "1958                                               NaN   \n",
       "1959                                               NaN   \n",
       "1960                                          5.887753   \n",
       "1961                                          5.814377   \n",
       "1962                                          5.841028   \n",
       "1963                                          5.371324   \n",
       "1964                                          5.114259   \n",
       "1965                                          4.641238   \n",
       "1966                                          4.268339   \n",
       "1967                                          4.297588   \n",
       "1968                                          4.675378   \n",
       "1969                                          4.650220   \n",
       "1970                                          4.984585   \n",
       "1971                                          5.071932   \n",
       "1972                                          4.961598   \n",
       "1973                                          5.182688   \n",
       "1974                                          6.185585   \n",
       "1975                                          6.630017   \n",
       "1976                                          6.382866   \n",
       "1977                                          6.629557   \n",
       "1978                                          6.956468   \n",
       "1979                                          7.719537   \n",
       "1980                                          9.146857   \n",
       "1981                                         10.094542   \n",
       "1982                                         10.342884   \n",
       "1983                                         10.364895   \n",
       "1984                                         10.136832   \n",
       "1985                                         10.192932   \n",
       "1986                                          9.800024   \n",
       "1987                                          9.788227   \n",
       "1988                                          9.565734   \n",
       "1989                                         10.016958   \n",
       "1990                                         10.899137   \n",
       "1991                                         11.634708   \n",
       "1992                                         11.994114   \n",
       "1993                                         12.257440   \n",
       "1994                                         12.503539   \n",
       "1995                                         12.507703   \n",
       "1996                                         13.328841   \n",
       "1997                                         13.431359   \n",
       "1998                                         12.131535   \n",
       "1999                                         11.361046   \n",
       "2000                                         11.329085   \n",
       "\n",
       "      CONSUMPTION SHARE OF CGPD (unit %)  CONSUMPTION SHARE OF RGDPL (unit %)  \\\n",
       "YEAR                                                                            \n",
       "1950                                 NaN                                  NaN   \n",
       "1951                                 NaN                                  NaN   \n",
       "1952                                 NaN                                  NaN   \n",
       "1953                                 NaN                                  NaN   \n",
       "1954                                 NaN                                  NaN   \n",
       "1955                                 NaN                                  NaN   \n",
       "1956                                 NaN                                  NaN   \n",
       "1957                                 NaN                                  NaN   \n",
       "1958                                 NaN                                  NaN   \n",
       "1959                                 NaN                                  NaN   \n",
       "1960                           68.921894                            52.578840   \n",
       "1961                           72.819287                            54.228581   \n",
       "1962                           76.262849                            60.898943   \n",
       "1963                           76.567356                            60.397768   \n",
       "1964                           73.150816                            56.427812   \n",
       "1965                           78.483885                            60.637495   \n",
       "1966                           78.974127                            57.257860   \n",
       "1967                           82.818497                            62.337551   \n",
       "1968                           79.237819                            61.775907   \n",
       "1969                           79.113852                            60.599894   \n",
       "1970                           72.644703                            56.197556   \n",
       "1971                           70.293533                            54.722564   \n",
       "1972                           65.617180                            50.107024   \n",
       "1973                           61.200556                            47.499688   \n",
       "1974                           60.046171                            53.094398   \n",
       "1975                           61.499537                            54.078284   \n",
       "1976                           60.522373                            52.028167   \n",
       "1977                           55.917335                            49.007305   \n",
       "1978                           56.918235                            51.029219   \n",
       "1979                           52.007179                            50.525864   \n",
       "1980                           45.216228                            47.830725   \n",
       "1981                           55.269047                            61.267740   \n",
       "1982                           56.264991                            61.610685   \n",
       "1983                           58.538011                            62.887350   \n",
       "1984                           57.989609                            62.041366   \n",
       "1985                           59.072938                            63.704002   \n",
       "1986                           60.235408                            61.674159   \n",
       "1987                           58.864387                            59.833441   \n",
       "1988                           55.254969                            54.638672   \n",
       "1989                           53.749797                            53.570070   \n",
       "1990                           55.642693                            57.036251   \n",
       "1991                           55.903973                            56.090495   \n",
       "1992                           55.613802                            55.406078   \n",
       "1993                           57.541468                            57.122792   \n",
       "1994                           57.925992                            57.767273   \n",
       "1995                           57.301824                            56.111372   \n",
       "1996                           61.491854                            61.491854   \n",
       "1997                           62.539280                            63.595749   \n",
       "1998                           62.155393                            66.461365   \n",
       "1999                           66.374206                            68.444633   \n",
       "2000                           64.775375                            67.633409   \n",
       "\n",
       "      CURRENT SAVINGS (unit %)  EXCHANGE RATE (unit US=1)  \\\n",
       "YEAR                                                        \n",
       "1950                       NaN                        NaN   \n",
       "1951                       NaN                        NaN   \n",
       "1952                       NaN                        NaN   \n",
       "1953                       NaN                        NaN   \n",
       "1954                       NaN                        NaN   \n",
       "1955                       NaN                        NaN   \n",
       "1956                       NaN                        NaN   \n",
       "1957                       NaN                        NaN   \n",
       "1958                       NaN                        NaN   \n",
       "1959                       NaN                        NaN   \n",
       "1960                  9.874070                   0.075444   \n",
       "1961                  7.273200                   0.088475   \n",
       "1962                  8.514918                   0.243304   \n",
       "1963                  7.449730                   0.575852   \n",
       "1964                  8.227310                   1.227225   \n",
       "1965                  7.366814                   4.005756   \n",
       "1966                  0.690156                  75.901094   \n",
       "1967                 -0.392070                 149.583298   \n",
       "1968                  3.303143                 296.291687   \n",
       "1969                  3.547496                 326.000000   \n",
       "1970                  8.293018                 362.833313   \n",
       "1971                 10.001993                 391.875000   \n",
       "1972                 13.729979                 415.000000   \n",
       "1973                 15.205957                 415.000000   \n",
       "1974                 22.218274                 415.000000   \n",
       "1975                 16.969068                 415.000000   \n",
       "1976                 17.155887                 415.000000   \n",
       "1977                 20.220539                 415.000000   \n",
       "1978                 18.218793                 442.045410   \n",
       "1979                 24.118745                 623.055481   \n",
       "1980                 30.541610                 626.994019   \n",
       "1981                 21.366092                 631.756714   \n",
       "1982                 18.563977                 661.420715   \n",
       "1983                 18.009802                 909.264771   \n",
       "1984                 19.161999                1025.944946   \n",
       "1985                 17.514217                1110.579956   \n",
       "1986                 15.850593                1282.560059   \n",
       "1987                 18.555206                1643.848022   \n",
       "1988                 21.071401                1685.703979   \n",
       "1989                 22.058818                1770.058960   \n",
       "1990                 21.031561                1842.812988   \n",
       "1991                 22.278898                1950.317993   \n",
       "1992                 22.541507                2029.921021   \n",
       "1993                 21.810318                2087.104004   \n",
       "1994                 22.240325                2160.753906   \n",
       "1995                 23.054071                2248.607910   \n",
       "1996                 20.630910                2342.295898   \n",
       "1997                 20.673192                2909.379883   \n",
       "1998                 22.956919               10013.620120   \n",
       "1999                 18.146429                7855.149902   \n",
       "2000                 18.564669                8421.775391   \n",
       "\n",
       "      GOVERNMENT SHARE OF CGDP (unit %)  GOVERNMENT SHARE OF RGDPL (unit %)  \\\n",
       "YEAR                                                                          \n",
       "1950                                NaN                                 NaN   \n",
       "1951                                NaN                                 NaN   \n",
       "1952                                NaN                                 NaN   \n",
       "1953                                NaN                                 NaN   \n",
       "1954                                NaN                                 NaN   \n",
       "1955                                NaN                                 NaN   \n",
       "1956                                NaN                                 NaN   \n",
       "1957                                NaN                                 NaN   \n",
       "1958                                NaN                                 NaN   \n",
       "1959                                NaN                                 NaN   \n",
       "1960                          21.204036                           20.812269   \n",
       "1961                          19.907513                           18.611372   \n",
       "1962                          15.222233                           15.021035   \n",
       "1963                          15.982914                           15.351258   \n",
       "1964                          18.621874                           17.300336   \n",
       "1965                          14.149301                           12.793235   \n",
       "1966                          20.335717                           16.928238   \n",
       "1967                          17.573573                           14.930198   \n",
       "1968                          17.459038                           15.099493   \n",
       "1969                          17.338652                           14.514019   \n",
       "1970                          19.062279                           15.650123   \n",
       "1971                          19.704474                           15.851283   \n",
       "1972                          20.652841                           15.962832   \n",
       "1973                          23.593487                           18.305734   \n",
       "1974                          17.735555                           15.423272   \n",
       "1975                          21.531395                           18.554406   \n",
       "1976                          22.321740                           18.818716   \n",
       "1977                          23.862125                           20.081447   \n",
       "1978                          24.862972                           21.476436   \n",
       "1979                          23.874076                           22.507761   \n",
       "1980                          24.242162                           24.634674   \n",
       "1981                          23.364861                           24.790119   \n",
       "1982                          25.171032                           26.560996   \n",
       "1983                          23.452187                           24.322897   \n",
       "1984                          22.848392                           23.527161   \n",
       "1985                          23.412846                           24.302318   \n",
       "1986                          23.913999                           23.720988   \n",
       "1987                          22.580407                           22.745422   \n",
       "1988                          23.673631                           23.176892   \n",
       "1989                          24.191385                           23.486039   \n",
       "1990                          23.325747                           22.700547   \n",
       "1991                          21.817129                           22.101084   \n",
       "1992                          21.844690                           21.809072   \n",
       "1993                          20.648214                           20.576140   \n",
       "1994                          19.833683                           19.685196   \n",
       "1995                          19.644105                           18.882025   \n",
       "1996                          17.877236                           17.877236   \n",
       "1997                          16.787528                           17.153953   \n",
       "1998                          14.887687                           16.146832   \n",
       "1999                          15.479366                           16.013671   \n",
       "2000                          16.659956                           16.280259   \n",
       "\n",
       "      INVESTMENT SHARE OF CGDP (unit %)  INVESTMENT SHARE OF RGDPL (unit %)  \\\n",
       "YEAR                                                                          \n",
       "1950                                NaN                                 NaN   \n",
       "1951                                NaN                                 NaN   \n",
       "1952                                NaN                                 NaN   \n",
       "1953                                NaN                                 NaN   \n",
       "1954                                NaN                                 NaN   \n",
       "1955                                NaN                                 NaN   \n",
       "1956                                NaN                                 NaN   \n",
       "1957                                NaN                                 NaN   \n",
       "1958                                NaN                                 NaN   \n",
       "1959                                NaN                                 NaN   \n",
       "1960                           6.723281                            4.254822   \n",
       "1961                           9.465380                            5.880665   \n",
       "1962                           7.812022                            5.349433   \n",
       "1963                           6.143844                            4.153576   \n",
       "1964                           6.849006                            4.531765   \n",
       "1965                           7.262896                            4.806221   \n",
       "1966                           8.211723                            5.132356   \n",
       "1967                           6.396626                            4.166943   \n",
       "1968                           6.647020                            4.532774   \n",
       "1969                           8.113547                            5.407723   \n",
       "1970                           9.824499                            6.637288   \n",
       "1971                          11.009484                            7.538414   \n",
       "1972                          12.338494                            8.372182   \n",
       "1973                          12.817646                            8.791281   \n",
       "1974                          12.845209                            9.875014   \n",
       "1975                          13.972813                           10.507592   \n",
       "1976                          14.158945                           10.485514   \n",
       "1977                          14.607027                           11.133595   \n",
       "1978                          15.005103                           11.637648   \n",
       "1979                          16.115253                           13.621683   \n",
       "1980                          16.632296                           15.508777   \n",
       "1981                          16.233500                           15.966514   \n",
       "1982                          17.286634                           16.596180   \n",
       "1983                          16.851202                           16.108364   \n",
       "1984                          14.708648                           14.350795   \n",
       "1985                          14.934237                           14.702077   \n",
       "1986                          16.143562                           15.230410   \n",
       "1987                          16.225889                           15.409941   \n",
       "1988                          17.597787                           16.175071   \n",
       "1989                          18.328306                           17.019138   \n",
       "1990                          18.611057                           18.136308   \n",
       "1991                          19.922668                           18.872046   \n",
       "1992                          18.681734                           18.264569   \n",
       "1993                          18.836115                           18.300495   \n",
       "1994                          19.864967                           19.531714   \n",
       "1995                          24.373912                           23.578667   \n",
       "1996                          21.194502                           21.194502   \n",
       "1997                          20.992171                           21.542164   \n",
       "1998                          13.222776                           14.625724   \n",
       "1999                          10.125520                           11.045912   \n",
       "2000                          10.668710                           11.456409   \n",
       "\n",
       "      OPENNESS IN CONSTANT PRICES (unit %)  \\\n",
       "YEAR                                         \n",
       "1950                                   NaN   \n",
       "1951                                   NaN   \n",
       "1952                                   NaN   \n",
       "1953                                   NaN   \n",
       "1954                                   NaN   \n",
       "1955                                   NaN   \n",
       "1956                                   NaN   \n",
       "1957                                   NaN   \n",
       "1958                                   NaN   \n",
       "1959                                   NaN   \n",
       "1960                             39.279293   \n",
       "1961                             43.250152   \n",
       "1962                             40.273071   \n",
       "1963                             36.162813   \n",
       "1964                             38.490892   \n",
       "1965                             37.451981   \n",
       "1966                             34.932694   \n",
       "1967                             36.741739   \n",
       "1968                             35.961352   \n",
       "1969                             39.210321   \n",
       "1970                             41.968285   \n",
       "1971                             47.021983   \n",
       "1972                             52.286516   \n",
       "1973                             57.464010   \n",
       "1974                             61.523123   \n",
       "1975                             58.207987   \n",
       "1976                             64.044239   \n",
       "1977                             63.288490   \n",
       "1978                             60.375120   \n",
       "1979                             59.658621   \n",
       "1980                             58.587349   \n",
       "1981                             55.034682   \n",
       "1982                             52.168723   \n",
       "1983                             48.227605   \n",
       "1984                             44.695165   \n",
       "1985                             42.328375   \n",
       "1986                             44.046610   \n",
       "1987                             45.692964   \n",
       "1988                             39.595038   \n",
       "1989                             40.368139   \n",
       "1990                             40.808029   \n",
       "1991                             44.674856   \n",
       "1992                             46.791006   \n",
       "1993                             45.661709   \n",
       "1994                             47.822245   \n",
       "1995                             50.385743   \n",
       "1996                             52.414052   \n",
       "1997                             56.042529   \n",
       "1998                             64.003682   \n",
       "1999                             40.345729   \n",
       "2000                             45.023145   \n",
       "\n",
       "      OPENNESS IN CURRENT PRICES (unit %)  POPULATION (unit 000S)  \\\n",
       "YEAR                                                                \n",
       "1950                                  NaN                     NaN   \n",
       "1951                                  NaN                     NaN   \n",
       "1952                                  NaN                     NaN   \n",
       "1953                                  NaN                     NaN   \n",
       "1954                                  NaN                     NaN   \n",
       "1955                                  NaN                     NaN   \n",
       "1956                                  NaN                     NaN   \n",
       "1957                                  NaN                     NaN   \n",
       "1958                                  NaN                     NaN   \n",
       "1959                                  NaN                     NaN   \n",
       "1960                            26.937197               93996.000   \n",
       "1961                            23.614272               95922.280   \n",
       "1962                            10.922910               97951.360   \n",
       "1963                            19.025910              100078.800   \n",
       "1964                            26.086061              102300.160   \n",
       "1965                            10.951239              104611.000   \n",
       "1966                            34.266115              107014.280   \n",
       "1967                            25.177308              109512.960   \n",
       "1968                            26.118391              112102.600   \n",
       "1969                            23.457651              114778.760   \n",
       "1970                            28.417470              117537.000   \n",
       "1971                            31.128907              120389.288   \n",
       "1972                            33.624091              123360.064   \n",
       "1973                            39.758359              126409.904   \n",
       "1974                            50.225484              129499.352   \n",
       "1975                            44.943820              132589.000   \n",
       "1976                            45.932722              135902.704   \n",
       "1977                            43.964232              139096.288   \n",
       "1978                            42.696160              142204.432   \n",
       "1979                            53.114086              145261.776   \n",
       "1980                            54.309641              148303.008   \n",
       "1981                            53.036784              151304.976   \n",
       "1982                            49.497046              154244.608   \n",
       "1983                            51.622039              157156.544   \n",
       "1984                            48.541527              160075.456   \n",
       "1985                            43.446852              163036.000   \n",
       "1986                            40.722656              166015.056   \n",
       "1987                            47.309237              168989.536   \n",
       "1988                            45.691383              171994.064   \n",
       "1989                            46.492205              175063.344   \n",
       "1990                            49.881348              178232.000   \n",
       "1991                            50.439297              181397.024   \n",
       "1992                            53.788952              184556.192   \n",
       "1993                            50.561457              187707.264   \n",
       "1994                            50.352388              190847.968   \n",
       "1995                            54.113506              193976.000   \n",
       "1996                            52.414052              197156.480   \n",
       "1997                            56.140351              200390.288   \n",
       "1998                            96.190077              203678.368   \n",
       "1999                            62.454939              207021.616   \n",
       "2000                            69.205759              210420.992   \n",
       "\n",
       "      PRICE LEVEL OF CONSUMPTION (unit PPP/XRATE)  \\\n",
       "YEAR                                                \n",
       "1950                                          NaN   \n",
       "1951                                          NaN   \n",
       "1952                                          NaN   \n",
       "1953                                          NaN   \n",
       "1954                                          NaN   \n",
       "1955                                          NaN   \n",
       "1956                                          NaN   \n",
       "1957                                          NaN   \n",
       "1958                                          NaN   \n",
       "1959                                          NaN   \n",
       "1960                                    38.260746   \n",
       "1961                                    37.343916   \n",
       "1962                                    37.220552   \n",
       "1963                                    36.541149   \n",
       "1964                                    36.499118   \n",
       "1965                                    38.756891   \n",
       "1966                                    28.803106   \n",
       "1967                                    33.599107   \n",
       "1968                                    34.619430   \n",
       "1969                                    36.547247   \n",
       "1970                                    35.484814   \n",
       "1971                                    31.809241   \n",
       "1972                                    33.940633   \n",
       "1973                                    44.463182   \n",
       "1974                                    52.193000   \n",
       "1975                                    51.054725   \n",
       "1976                                    57.663882   \n",
       "1977                                    62.941934   \n",
       "1978                                    58.582296   \n",
       "1979                                    48.207785   \n",
       "1980                                    53.841689   \n",
       "1981                                    46.400863   \n",
       "1982                                    45.068212   \n",
       "1983                                    36.504879   \n",
       "1984                                    34.060317   \n",
       "1985                                    30.234139   \n",
       "1986                                    27.820940   \n",
       "1987                                    24.443004   \n",
       "1988                                    28.305815   \n",
       "1989                                    28.621710   \n",
       "1990                                    26.623881   \n",
       "1991                                    27.773114   \n",
       "1992                                    27.256986   \n",
       "1993                                    27.670133   \n",
       "1994                                    28.447773   \n",
       "1995                                    32.108882   \n",
       "1996                                    30.045749   \n",
       "1997                                    25.659063   \n",
       "1998                                    13.073190   \n",
       "1999                                    19.658069   \n",
       "2000                                    18.738921   \n",
       "\n",
       "      PRICE LEVEL OF GOVERNMENT (unit PPP/XRATE)  \\\n",
       "YEAR                                               \n",
       "1950                                         NaN   \n",
       "1951                                         NaN   \n",
       "1952                                         NaN   \n",
       "1953                                         NaN   \n",
       "1954                                         NaN   \n",
       "1955                                         NaN   \n",
       "1956                                         NaN   \n",
       "1957                                         NaN   \n",
       "1958                                         NaN   \n",
       "1959                                         NaN   \n",
       "1960                                   16.815424   \n",
       "1961                                   18.727792   \n",
       "1962                                   12.157068   \n",
       "1963                                   13.692718   \n",
       "1964                                   11.929260   \n",
       "1965                                   12.631834   \n",
       "1966                                    9.521414   \n",
       "1967                                   11.717863   \n",
       "1968                                   12.339285   \n",
       "1969                                   13.161636   \n",
       "1970                                   13.917788   \n",
       "1971                                   12.968680   \n",
       "1972                                   13.005493   \n",
       "1973                                   16.600620   \n",
       "1974                                   19.772566   \n",
       "1975                                   20.565236   \n",
       "1976                                   23.001166   \n",
       "1977                                   23.982934   \n",
       "1978                                   23.041910   \n",
       "1979                                   17.396527   \n",
       "1980                                   20.523355   \n",
       "1981                                   21.196203   \n",
       "1982                                   19.579560   \n",
       "1983                                   15.565237   \n",
       "1984                                   14.705333   \n",
       "1985                                   15.071657   \n",
       "1986                                   12.353552   \n",
       "1987                                    9.932569   \n",
       "1988                                    9.438089   \n",
       "1989                                    9.508719   \n",
       "1990                                    9.682713   \n",
       "1991                                    9.868286   \n",
       "1992                                   10.263489   \n",
       "1993                                   11.783962   \n",
       "1994                                   11.296534   \n",
       "1995                                   11.908399   \n",
       "1996                                   12.544900   \n",
       "1997                                   10.620976   \n",
       "1998                                    4.582021   \n",
       "1999                                    7.527194   \n",
       "2000                                    7.621612   \n",
       "\n",
       "      PRICE LEVEL OF GROSS DOMESTIC PRODUCT (unit US=100)  \\\n",
       "YEAR                                                        \n",
       "1950                                                NaN     \n",
       "1951                                                NaN     \n",
       "1952                                                NaN     \n",
       "1953                                                NaN     \n",
       "1954                                                NaN     \n",
       "1955                                                NaN     \n",
       "1956                                                NaN     \n",
       "1957                                                NaN     \n",
       "1958                                                NaN     \n",
       "1959                                                NaN     \n",
       "1960                                          34.162932     \n",
       "1961                                          34.244554     \n",
       "1962                                          32.593291     \n",
       "1963                                          33.836737     \n",
       "1964                                          34.198546     \n",
       "1965                                          34.963762     \n",
       "1966                                          24.139190     \n",
       "1967                                          30.660323     \n",
       "1968                                          31.783409     \n",
       "1969                                          34.278545     \n",
       "1970                                          33.172502     \n",
       "1971                                          30.158515     \n",
       "1972                                          32.495248     \n",
       "1973                                          40.521545     \n",
       "1974                                          49.021149     \n",
       "1975                                          48.854184     \n",
       "1976                                          54.866119     \n",
       "1977                                          57.600362     \n",
       "1978                                          53.618957     \n",
       "1979                                          43.507932     \n",
       "1980                                          47.299209     \n",
       "1981                                          44.879300     \n",
       "1982                                          42.692153     \n",
       "1983                                          35.094329     \n",
       "1984                                          32.732007     \n",
       "1985                                          29.993982     \n",
       "1986                                          26.771061     \n",
       "1987                                          23.663592     \n",
       "1988                                          26.131287     \n",
       "1989                                          26.314155     \n",
       "1990                                          25.584928     \n",
       "1991                                          25.918527     \n",
       "1992                                          25.633543     \n",
       "1993                                          26.903760     \n",
       "1994                                          27.688476     \n",
       "1995                                          29.872051     \n",
       "1996                                          29.622316     \n",
       "1997                                          25.998617     \n",
       "1998                                          11.980381     \n",
       "1999                                          17.808039     \n",
       "2000                                          18.064672     \n",
       "\n",
       "      PRICE LEVEL OF INVESTMENT (unit PPP/XRATE)  \\\n",
       "YEAR                                               \n",
       "1950                                         NaN   \n",
       "1951                                         NaN   \n",
       "1952                                         NaN   \n",
       "1953                                         NaN   \n",
       "1954                                         NaN   \n",
       "1955                                         NaN   \n",
       "1956                                         NaN   \n",
       "1957                                         NaN   \n",
       "1958                                         NaN   \n",
       "1959                                         NaN   \n",
       "1960                                   46.866257   \n",
       "1961                                   43.035198   \n",
       "1962                                   27.242162   \n",
       "1963                                   52.536833   \n",
       "1964                                   70.175600   \n",
       "1965                                   37.480895   \n",
       "1966                                   15.485013   \n",
       "1967                                   44.652239   \n",
       "1968                                   49.047622   \n",
       "1969                                   57.283646   \n",
       "1970                                   53.434250   \n",
       "1971                                   50.384831   \n",
       "1972                                   57.431572   \n",
       "1973                                   65.732699   \n",
       "1974                                   74.577942   \n",
       "1975                                   82.760618   \n",
       "1976                                   93.142552   \n",
       "1977                                   92.069855   \n",
       "1978                                   85.456909   \n",
       "1979                                   67.023515   \n",
       "1980                                   68.539709   \n",
       "1981                                   73.786003   \n",
       "1982                                   68.612692   \n",
       "1983                                   57.373403   \n",
       "1984                                   55.497683   \n",
       "1985                                   52.438207   \n",
       "1986                                   44.210855   \n",
       "1987                                   39.944520   \n",
       "1988                                   41.760245   \n",
       "1989                                   41.728357   \n",
       "1990                                   42.409385   \n",
       "1991                                   38.290936   \n",
       "1992                                   38.773022   \n",
       "1993                                   41.136985   \n",
       "1994                                   41.840504   \n",
       "1995                                   39.091142   \n",
       "1996                                   42.798341   \n",
       "1997                                   39.307771   \n",
       "1998                                   15.173393   \n",
       "1999                                   21.397649   \n",
       "2000                                   30.278536   \n",
       "\n",
       "      RATIO OF GNP TO GDP (CURRENT PRICES) (unit %)  \\\n",
       "YEAR                                                  \n",
       "1950                                            NaN   \n",
       "1951                                            NaN   \n",
       "1952                                            NaN   \n",
       "1953                                            NaN   \n",
       "1954                                            NaN   \n",
       "1955                                            NaN   \n",
       "1956                                            NaN   \n",
       "1957                                            NaN   \n",
       "1958                                            NaN   \n",
       "1959                                            NaN   \n",
       "1960                                     100.970874   \n",
       "1961                                     100.806452   \n",
       "1962                                     101.277511   \n",
       "1963                                     100.679262   \n",
       "1964                                     100.239106   \n",
       "1965                                     101.215024   \n",
       "1966                                     100.379781   \n",
       "1967                                     100.806812   \n",
       "1968                                     100.560899   \n",
       "1969                                     100.652266   \n",
       "1970                                     100.425851   \n",
       "1971                                     100.073293   \n",
       "1972                                      98.744422   \n",
       "1973                                      98.262148   \n",
       "1974                                      97.209611   \n",
       "1975                                      97.469531   \n",
       "1976                                      98.777066   \n",
       "1977                                      98.329051   \n",
       "1978                                      98.074784   \n",
       "1979                                      95.677936   \n",
       "1980                                      95.889274   \n",
       "1981                                      96.705140   \n",
       "1982                                      95.153919   \n",
       "1983                                      95.908553   \n",
       "1984                                      92.969919   \n",
       "1985                                      93.418626   \n",
       "1986                                      90.727176   \n",
       "1987                                      91.245243   \n",
       "1988                                      95.375796   \n",
       "1989                                      95.504004   \n",
       "1990                                      95.440232   \n",
       "1991                                      95.634259   \n",
       "1992                                      95.558349   \n",
       "1993                                      96.193477   \n",
       "1994                                      97.318560   \n",
       "1995                                      97.059277   \n",
       "1996                                      97.320154   \n",
       "1997                                      97.075809   \n",
       "1998                                      94.361101   \n",
       "1999                                      92.792793   \n",
       "2000                                      93.023256   \n",
       "\n",
       "      REAL GROSS DOMESTIC PRODUCT PER CAPITA (CURRENT PRICES) (unit $ CURRENT)  \n",
       "YEAR                                                                            \n",
       "1950                                                NaN                         \n",
       "1951                                                NaN                         \n",
       "1952                                                NaN                         \n",
       "1953                                                NaN                         \n",
       "1954                                                NaN                         \n",
       "1955                                                NaN                         \n",
       "1956                                                NaN                         \n",
       "1957                                                NaN                         \n",
       "1958                                                NaN                         \n",
       "1959                                                NaN                         \n",
       "1960                                         170.062972                         \n",
       "1961                                         170.667181                         \n",
       "1962                                         181.394139                         \n",
       "1963                                         173.638372                         \n",
       "1964                                         175.336121                         \n",
       "1965                                         170.768317                         \n",
       "1966                                         169.947870                         \n",
       "1967                                         178.136260                         \n",
       "1968                                         209.626310                         \n",
       "1969                                         223.680973                         \n",
       "1970                                         249.242629                         \n",
       "1971                                         272.068219                         \n",
       "1972                                         289.436806                         \n",
       "1973                                         334.844211                         \n",
       "1974                                         429.264551                         \n",
       "1975                                         496.619660                         \n",
       "1976                                         528.368993                         \n",
       "1977                                         605.417433                         \n",
       "1978                                         710.867137                         \n",
       "1979                                         872.582790                         \n",
       "1980                                        1113.202506                         \n",
       "1981                                        1362.496392                         \n",
       "1982                                        1437.959219                         \n",
       "1983                                        1548.992936                         \n",
       "1984                                        1670.904452                         \n",
       "1985                                        1784.252451                         \n",
       "1986                                        1796.425380                         \n",
       "1987                                        1893.944276                         \n",
       "1988                                        1975.905800                         \n",
       "1989                                        2202.591422                         \n",
       "1990                                        2507.340901                         \n",
       "1991                                        2730.790761                         \n",
       "1992                                        2940.683580                         \n",
       "1993                                        3126.203625                         \n",
       "1994                                        3355.214172                         \n",
       "1995                                        3489.013586                         \n",
       "1996                                        3891.209790                         \n",
       "1997                                        4136.568304                         \n",
       "1998                                        3910.016585                         \n",
       "1999                                        3831.600211                         \n",
       "2000                                        4035.268912                         "
      ]
     },
     "execution_count": 4,
     "metadata": {},
     "output_type": "execute_result"
    }
   ],
   "source": [
    "dataset"
   ]
  },
  {
   "cell_type": "markdown",
   "metadata": {},
   "source": [
    "Plot the GDP as a function of year."
   ]
  },
  {
   "cell_type": "code",
   "execution_count": 5,
   "metadata": {
    "pycharm": {
     "name": "#%%\n"
    }
   },
   "outputs": [
    {
     "data": {
      "image/png": "[encoded data removed]",
      "text/plain": [
       "<Figure size 432x288 with 1 Axes>"
      ]
     },
     "metadata": {
      "needs_background": "light"
     },
     "output_type": "display_data"
    }
   ],
   "source": [
    "plt.plot(dataset.index, dataset[\"REAL GROSS DOMESTIC PRODUCT PER CAPITA (CURRENT PRICES) (unit $ CURRENT)\"])\n",
    "plt.xlabel(\"Year\")\n",
    "plt.ylabel(\"GDP\")\n",
    "plt.title(\"The evolution of the Tunisian GDP from the 60's to the 00's\")\n",
    "plt.show()"
   ]
  },
  {
   "cell_type": "markdown",
   "metadata": {},
   "source": [
    "Split the dataset into a matrix `X` for the features and a vector `y` for the labels."
   ]
  },
  {
   "cell_type": "code",
   "execution_count": 6,
   "metadata": {
    "pycharm": {
     "name": "#%%\n"
    }
   },
   "outputs": [
    {
     "name": "stdout",
     "output_type": "stream",
     "text": [
      "We have 41 data points and 17 features\n"
     ]
    }
   ],
   "source": [
    "X, y = X_y_from_dataset(dataset)\n",
    "YEARS = dataset.dropna().index.values\n",
    "print(\"We have\", X.shape[0], \"data points and\", X.shape[1], \"features\")"
   ]
  },
  {
   "cell_type": "code",
   "execution_count": 7,
   "metadata": {
    "pycharm": {
     "name": "#%%\n"
    }
   },
   "outputs": [
    {
     "data": {
      "text/plain": [
       "array([1960, 1961, 1962, 1963, 1964, 1965, 1966, 1967, 1968, 1969, 1970,\n",
       "       1971, 1972, 1973, 1974, 1975, 1976, 1977, 1978, 1979, 1980, 1981,\n",
       "       1982, 1983, 1984, 1985, 1986, 1987, 1988, 1989, 1990, 1991, 1992,\n",
       "       1993, 1994, 1995, 1996, 1997, 1998, 1999, 2000])"
      ]
     },
     "execution_count": 7,
     "metadata": {},
     "output_type": "execute_result"
    }
   ],
   "source": [
    "YEARS"
   ]
  },
  {
   "cell_type": "markdown",
   "metadata": {},
   "source": [
    "Verify whether there are highly correlated features."
   ]
  },
  {
   "cell_type": "code",
   "execution_count": 8,
   "metadata": {
    "pycharm": {
     "name": "#%%\n"
    }
   },
   "outputs": [
    {
     "data": {
      "image/png": "[encoded data removed]",
      "text/plain": [
       "<Figure size 432x288 with 2 Axes>"
      ]
     },
     "metadata": {
      "needs_background": "light"
     },
     "output_type": "display_data"
    },
    {
     "name": "stdout",
     "output_type": "stream",
     "text": [
      "CGPD RELATIVE TO THE UNITED STATES (unit US=100) is highly correlated with:  INVESTMENT SHARE OF CGDP (unit %), INVESTMENT SHARE OF RGDPL (unit %), POPULATION (unit 000S) \n",
      "\n",
      "CONSUMPTION SHARE OF CGPD (unit %) is highly correlated with:  CURRENT SAVINGS (unit %), INVESTMENT SHARE OF CGDP (unit %) \n",
      "\n",
      "CURRENT SAVINGS (unit %) is highly correlated with:  CONSUMPTION SHARE OF CGPD (unit %), INVESTMENT SHARE OF CGDP (unit %), INVESTMENT SHARE OF RGDPL (unit %) \n",
      "\n",
      "GOVERNMENT SHARE OF CGDP (unit %) is highly correlated with:  GOVERNMENT SHARE OF RGDPL (unit %) \n",
      "\n",
      "GOVERNMENT SHARE OF RGDPL (unit %) is highly correlated with:  GOVERNMENT SHARE OF CGDP (unit %) \n",
      "\n",
      "INVESTMENT SHARE OF CGDP (unit %) is highly correlated with:  CGPD RELATIVE TO THE UNITED STATES (unit US=100), CONSUMPTION SHARE OF CGPD (unit %), CURRENT SAVINGS (unit %), INVESTMENT SHARE OF RGDPL (unit %) \n",
      "\n",
      "INVESTMENT SHARE OF RGDPL (unit %) is highly correlated with:  CGPD RELATIVE TO THE UNITED STATES (unit US=100), CURRENT SAVINGS (unit %), INVESTMENT SHARE OF CGDP (unit %), POPULATION (unit 000S) \n",
      "\n",
      "OPENNESS IN CURRENT PRICES (unit %) is highly correlated with:  POPULATION (unit 000S) \n",
      "\n",
      "POPULATION (unit 000S) is highly correlated with:  CGPD RELATIVE TO THE UNITED STATES (unit US=100), INVESTMENT SHARE OF RGDPL (unit %), OPENNESS IN CURRENT PRICES (unit %) \n",
      "\n",
      "PRICE LEVEL OF CONSUMPTION (unit PPP/XRATE) is highly correlated with:  PRICE LEVEL OF GOVERNMENT (unit PPP/XRATE), PRICE LEVEL OF GROSS DOMESTIC PRODUCT (unit US=100), PRICE LEVEL OF INVESTMENT (unit PPP/XRATE) \n",
      "\n",
      "PRICE LEVEL OF GOVERNMENT (unit PPP/XRATE) is highly correlated with:  PRICE LEVEL OF CONSUMPTION (unit PPP/XRATE), PRICE LEVEL OF GROSS DOMESTIC PRODUCT (unit US=100), PRICE LEVEL OF INVESTMENT (unit PPP/XRATE) \n",
      "\n",
      "PRICE LEVEL OF GROSS DOMESTIC PRODUCT (unit US=100) is highly correlated with:  PRICE LEVEL OF CONSUMPTION (unit PPP/XRATE), PRICE LEVEL OF GOVERNMENT (unit PPP/XRATE), PRICE LEVEL OF INVESTMENT (unit PPP/XRATE) \n",
      "\n",
      "PRICE LEVEL OF INVESTMENT (unit PPP/XRATE) is highly correlated with:  PRICE LEVEL OF CONSUMPTION (unit PPP/XRATE), PRICE LEVEL OF GOVERNMENT (unit PPP/XRATE), PRICE LEVEL OF GROSS DOMESTIC PRODUCT (unit US=100) \n",
      "\n"
     ]
    }
   ],
   "source": [
    "correlation_matrix = np.abs(np.corrcoef(X, rowvar=False))\n",
    "\n",
    "sns.heatmap(correlation_matrix)\n",
    "plt.title(\"correlation matrix\")\n",
    "plt.show()\n",
    "\n",
    "mask = correlation_matrix > 0.8\n",
    "np.fill_diagonal(mask, False)\n",
    "for i, m in enumerate(mask): \n",
    "    if (sum(m) != 0):\n",
    "        print(dataset.columns[i], \"is highly correlated with: \",\n",
    "              \", \".join(dataset.columns[np.append(m, False)]), \"\\n\")"
   ]
  },
  {
   "cell_type": "markdown",
   "metadata": {},
   "source": [
    "Plot the population evolution through time. It's clear they're highly correlated features."
   ]
  },
  {
   "cell_type": "code",
   "execution_count": 9,
   "metadata": {
    "pycharm": {
     "name": "#%%\n"
    }
   },
   "outputs": [
    {
     "data": {
      "text/plain": [
       "<AxesSubplot:xlabel='YEAR', ylabel='POPULATION (unit 000S)'>"
      ]
     },
     "execution_count": 9,
     "metadata": {},
     "output_type": "execute_result"
    },
    {
     "data": {
      "image/png": "[encoded data removed]",
      "text/plain": [
       "<Figure size 432x288 with 1 Axes>"
      ]
     },
     "metadata": {
      "needs_background": "light"
     },
     "output_type": "display_data"
    }
   ],
   "source": [
    "sns.lineplot(data=dataset[\"POPULATION (unit 000S)\"])"
   ]
  },
  {
   "cell_type": "code",
   "execution_count": 10,
   "metadata": {},
   "outputs": [
    {
     "name": "stdout",
     "output_type": "stream",
     "text": [
      "The condition number is 1412337.5214179868\n"
     ]
    }
   ],
   "source": [
    "print(\"The condition number is\", condition_number(X))"
   ]
  },
  {
   "cell_type": "code",
   "execution_count": 11,
   "metadata": {},
   "outputs": [
    {
     "name": "stdout",
     "output_type": "stream",
     "text": [
      "The VIF is: [ 154.05892039  352.11852442   48.3992196   135.12507229   58.96771527\n",
      "  199.00790508  187.92924288  604.41314445 1044.75789812   17.14474442\n",
      "   20.74436827  226.36963116 1218.34324407   46.7707481  2107.30317543\n",
      "   56.00731037   14.29586349] \n",
      " The column with the highest VIF is PRICE LEVEL OF GROSS DOMESTIC PRODUCT (unit US=100)\n"
     ]
    }
   ],
   "source": [
    "VIF_X = VIF(X)\n",
    "print(\"The VIF is:\", VIF_X, \"\\n The column with the highest VIF is\", dataset.columns[np.argmax(VIF_X)])"
   ]
  },
  {
   "cell_type": "markdown",
   "metadata": {},
   "source": [
    "The condition number, VIF and correlation matrix all tend to indicate that our data is kind off ill conditionned. We have to perform at least either some model selection, or filter out some predictors."
   ]
  },
  {
   "cell_type": "markdown",
   "metadata": {},
   "source": [
    "## The models"
   ]
  },
  {
   "cell_type": "markdown",
   "metadata": {},
   "source": [
    "Split the data into 80% training and 20% testing sets."
   ]
  },
  {
   "cell_type": "code",
   "execution_count": 12,
   "metadata": {
    "pycharm": {
     "name": "#%%\n"
    }
   },
   "outputs": [],
   "source": [
    "X_train, X_test, y_train, y_test = train_test_split(X, y)"
   ]
  },
  {
   "cell_type": "markdown",
   "metadata": {},
   "source": [
    "### Least Squares"
   ]
  },
  {
   "cell_type": "markdown",
   "metadata": {},
   "source": [
    "Train with the least squares estimator."
   ]
  },
  {
   "cell_type": "code",
   "execution_count": 13,
   "metadata": {},
   "outputs": [
    {
     "data": {
      "text/plain": [
       "0"
      ]
     },
     "execution_count": 13,
     "metadata": {},
     "output_type": "execute_result"
    },
    {
     "data": {
      "image/png": "[encoded data removed]",
      "text/plain": [
       "<Figure size 432x288 with 1 Axes>"
      ]
     },
     "metadata": {
      "needs_background": "light"
     },
     "output_type": "display_data"
    }
   ],
   "source": [
    "# Degree of zero means we leave the data set the way it is degree of 1 means we simply add a bias degree > 1 \n",
    "# We compute the polynomial expansion associated with that degree.\n",
    "d = degree_cross_val(X_train, y_train, 10)\n",
    "d"
   ]
  },
  {
   "cell_type": "markdown",
   "metadata": {},
   "source": [
    "Augment the dataset."
   ]
  },
  {
   "cell_type": "code",
   "execution_count": 14,
   "metadata": {
    "pycharm": {
     "name": "#%%\n"
    }
   },
   "outputs": [],
   "source": [
    "# We split the dataset as instructed: the first 80% as train and the next 20% as test.\n",
    "X_ls = build_poly(X, d)\n",
    "X_train_ls, X_test_ls, _, _ = train_test_split(X_ls, y)"
   ]
  },
  {
   "cell_type": "code",
   "execution_count": 15,
   "metadata": {
    "pycharm": {
     "name": "#%%\n"
    }
   },
   "outputs": [],
   "source": [
    "LS_w = least_squares(X_train_ls, y_train)\n",
    "\n",
    "LS_prediction_data = predict(X_ls, LS_w)\n",
    "LS_prediction_test = predict(X_test_ls, LS_w)"
   ]
  },
  {
   "cell_type": "code",
   "execution_count": 16,
   "metadata": {
    "pycharm": {
     "name": "#%%\n"
    }
   },
   "outputs": [
    {
     "name": "stdout",
     "output_type": "stream",
     "text": [
      "Testing R^2:  -1.3979118946844502 \n",
      "Full data R^2: 0.9535143994005001\n"
     ]
    }
   ],
   "source": [
    "print(\"Testing R^2: \", R_squared(y_test, LS_prediction_test),\n",
    "      \"\\nFull data R^2:\", R_squared(y, LS_prediction_data))"
   ]
  },
  {
   "cell_type": "code",
   "execution_count": 17,
   "metadata": {
    "pycharm": {
     "name": "#%%\n"
    }
   },
   "outputs": [
    {
     "name": "stdout",
     "output_type": "stream",
     "text": [
      "Full data adjusted R^2: 0.9191554772182611\n"
     ]
    }
   ],
   "source": [
    "print(\"Full data adjusted R^2:\", adjusted_R_squared(y, LS_prediction_data, X.shape[1]))"
   ]
  },
  {
   "cell_type": "markdown",
   "metadata": {},
   "source": [
    "Compute the CI for the coefficients."
   ]
  },
  {
   "cell_type": "code",
   "execution_count": 18,
   "metadata": {
    "pycharm": {
     "name": "#%%\n"
    }
   },
   "outputs": [],
   "source": [
    "X_for_var, w_for_var = (X_ls[:, 1:], LS_w[1:]) if d > 0 else (X, LS_w) \n",
    "var = variance_least_squares_weights(X_for_var, y, LS_prediction_data)\n",
    "lower_CI, upper_CI = confidence_interval(X_for_var.shape[0], X_for_var.shape[1], w_for_var, var)"
   ]
  },
  {
   "cell_type": "markdown",
   "metadata": {},
   "source": [
    "Plot the coefficients with their CI intervals."
   ]
  },
  {
   "cell_type": "code",
   "execution_count": 19,
   "metadata": {
    "pycharm": {
     "name": "#%%\n"
    }
   },
   "outputs": [
    {
     "data": {
      "image/png": "[encoded data removed]",
      "text/plain": [
       "<Figure size 1080x576 with 1 Axes>"
      ]
     },
     "metadata": {
      "needs_background": "light"
     },
     "output_type": "display_data"
    }
   ],
   "source": [
    "plt.figure(figsize=(15,8))\n",
    "plt.errorbar(np.arange(X_for_var.shape[1]), w_for_var,\n",
    "             yerr=np.vstack([np.squeeze(w_for_var-lower_CI), np.squeeze(upper_CI-w_for_var)]),\n",
    "             fmt=\".\", ecolor='orange', lolims=True, uplims=True, label=\"Coefficients\")\n",
    "plt.xticks(np.arange(X.shape[1]), [\"β\"+str(i) for i in np.arange(X_for_var.shape[1])])\n",
    "plt.title(\"95% CI around the regression coefficients\")\n",
    "plt.xlabel(\"The model coefficients\")\n",
    "plt.legend()\n",
    "plt.grid(which='both', linestyle='-.', linewidth=0.5)\n",
    "plt.show()"
   ]
  },
  {
   "cell_type": "markdown",
   "metadata": {},
   "source": [
    "Compute the CI for the predictions."
   ]
  },
  {
   "cell_type": "code",
   "execution_count": 20,
   "metadata": {
    "pycharm": {
     "name": "#%%\n"
    }
   },
   "outputs": [],
   "source": [
    "var_ = variance_least_squares_line(X_for_var, y, LS_prediction_data)\n",
    "lower_CI_line, upper_CI_line = confidence_interval(X_for_var.shape[0], X_for_var.shape[1], LS_prediction_data,\n",
    "                                                   var_)"
   ]
  },
  {
   "cell_type": "markdown",
   "metadata": {},
   "source": [
    "Plot the CI for the predictions."
   ]
  },
  {
   "cell_type": "code",
   "execution_count": 21,
   "metadata": {
    "pycharm": {
     "name": "#%%\n"
    }
   },
   "outputs": [
    {
     "data": {
      "image/png": "[encoded data removed]",
      "text/plain": [
       "<Figure size 1080x576 with 1 Axes>"
      ]
     },
     "metadata": {
      "needs_background": "light"
     },
     "output_type": "display_data"
    }
   ],
   "source": [
    "plt.figure(figsize=(15,8))\n",
    "plt.scatter(YEARS, y, label=\"GDP\")\n",
    "plt.plot(YEARS, LS_prediction_data, color=\"g\", lw=1, ls='--', label=\"Prediction using least squares\")\n",
    "plt.gca().fill_between(YEARS, np.squeeze(lower_CI_line), np.squeeze(upper_CI_line),\n",
    "                       label=\"95% CI\",\n",
    "                       #color=\"#b9cfe7\",\n",
    "                       color=\"orange\",\n",
    "                       alpha=0.5,\n",
    "                       edgecolor=None)\n",
    "plt.xlabel(\"Year\")\n",
    "plt.ylabel(\"GDP\")\n",
    "plt.title(\"GDP prediction as a function of Year\")\n",
    "plt.legend()\n",
    "plt.show()"
   ]
  },
  {
   "cell_type": "markdown",
   "metadata": {},
   "source": [
    "### Ridge Regression"
   ]
  },
  {
   "cell_type": "markdown",
   "metadata": {},
   "source": [
    "Train the ridge regression model."
   ]
  },
  {
   "cell_type": "code",
   "execution_count": 22,
   "metadata": {},
   "outputs": [
    {
     "name": "stdout",
     "output_type": "stream",
     "text": [
      "The optimal hyper-parameters for the polynomial expansion and l2 regularization term are respectively: 0.63 2\n"
     ]
    }
   ],
   "source": [
    "lambda_r, d_r = cross_val_ridge(X_train, y_train, plot=False)\n",
    "X_rr = build_poly(X, d_r)\n",
    "X_train_rr, X_test_rr, _, _ = train_test_split(X_rr, y)\n",
    "print(\"The optimal hyper-parameters for the polynomial expansion and l2 regularization term are respectively:\",\n",
    "      lambda_r, d_r)"
   ]
  },
  {
   "cell_type": "code",
   "execution_count": 23,
   "metadata": {
    "pycharm": {
     "name": "#%%\n"
    }
   },
   "outputs": [],
   "source": [
    "Ridge_w = ridge_regression(X_train_rr, y_train, lambda_r)\n",
    "Ridge_prediction_data = predict(X_rr, Ridge_w)\n",
    "Ridge_prediction_test = predict(X_test_rr, Ridge_w)"
   ]
  },
  {
   "cell_type": "code",
   "execution_count": 24,
   "metadata": {
    "pycharm": {
     "name": "#%%\n"
    }
   },
   "outputs": [
    {
     "name": "stdout",
     "output_type": "stream",
     "text": [
      "Testing R^2:  -2.9409152351803227 \n",
      "Full data R^2: 0.924129976354052\n"
     ]
    }
   ],
   "source": [
    "print(\"Testing R^2: \", R_squared(y_test, Ridge_prediction_test),\n",
    "      \"\\nFull data R^2:\", R_squared(y, Ridge_prediction_data))"
   ]
  },
  {
   "cell_type": "code",
   "execution_count": 25,
   "metadata": {
    "pycharm": {
     "name": "#%%\n"
    }
   },
   "outputs": [
    {
     "name": "stdout",
     "output_type": "stream",
     "text": [
      "Full data adjusted R^2: 0.39303981083241624\n"
     ]
    }
   ],
   "source": [
    "print(\"Full data adjusted R^2:\", adjusted_R_squared(y, Ridge_prediction_data, X_rr.shape[1]))"
   ]
  },
  {
   "cell_type": "code",
   "execution_count": 26,
   "metadata": {
    "pycharm": {
     "name": "#%%\n"
    }
   },
   "outputs": [],
   "source": [
    "X_for_var_rr, w_for_var_rr = (X_rr[:, 1:], Ridge_w[1:]) if d_r > 0 else (X, Ridge_w) \n",
    "var = variance_least_squares_weights(X_for_var_rr, y, Ridge_prediction_data)\n",
    "lower_CI_r, upper_CI_r = confidence_interval(X_for_var_rr.shape[0], X_for_var_rr.shape[1], w_for_var_rr, var)"
   ]
  },
  {
   "cell_type": "markdown",
   "metadata": {},
   "source": [
    "Plot the coefficients with their CI intervals."
   ]
  },
  {
   "cell_type": "code",
   "execution_count": 27,
   "metadata": {
    "pycharm": {
     "name": "#%%\n"
    }
   },
   "outputs": [
    {
     "data": {
      "image/png": "[encoded data removed]",
      "text/plain": [
       "<Figure size 1080x576 with 1 Axes>"
      ]
     },
     "metadata": {
      "needs_background": "light"
     },
     "output_type": "display_data"
    }
   ],
   "source": [
    "plt.figure(figsize=(15,8))\n",
    "\n",
    "plt.errorbar(np.arange(X_for_var_rr.shape[1]), w_for_var_rr,\n",
    "             yerr=np.vstack([np.squeeze(w_for_var_rr-lower_CI_r), np.squeeze(upper_CI_r-w_for_var_rr)]),\n",
    "             fmt=\".\", ecolor='orange', lolims=True, uplims=True, label=\"Coefficients\")\n",
    "\n",
    "plt.xticks(np.arange(X_for_var_rr.shape[1]), [\"β\"+str(i) for i in np.arange(X_for_var_rr.shape[1])])\n",
    "\n",
    "plt.title(\"95% CI around the regression coefficients\")\n",
    "plt.xlabel(\"The model coefficients\")\n",
    "plt.legend()\n",
    "plt.grid(which='both', linestyle='-.', linewidth=0.5)\n",
    "plt.show()"
   ]
  },
  {
   "cell_type": "markdown",
   "metadata": {},
   "source": [
    "Compute the CI for the predictions."
   ]
  },
  {
   "cell_type": "code",
   "execution_count": 28,
   "metadata": {
    "pycharm": {
     "name": "#%%\n"
    }
   },
   "outputs": [],
   "source": [
    "var_ = variance_least_squares_line(X_for_var_rr, y, Ridge_prediction_data)\n",
    "lower_CI_line_r, upper_CI_line_r = confidence_interval(X_for_var_rr.shape[0], X_for_var_rr.shape[1], Ridge_prediction_data, var_)"
   ]
  },
  {
   "cell_type": "markdown",
   "metadata": {},
   "source": [
    "Plot the CI for the predictions."
   ]
  },
  {
   "cell_type": "code",
   "execution_count": 29,
   "metadata": {
    "pycharm": {
     "name": "#%%\n"
    }
   },
   "outputs": [
    {
     "data": {
      "image/png": "[encoded data removed]",
      "text/plain": [
       "<Figure size 1080x576 with 1 Axes>"
      ]
     },
     "metadata": {
      "needs_background": "light"
     },
     "output_type": "display_data"
    }
   ],
   "source": [
    "plt.figure(figsize=(15,8))\n",
    "plt.scatter(YEARS, y, label=\"GDP\")\n",
    "plt.plot(YEARS, Ridge_prediction_data, color=\"g\", lw=1, ls='--', label=\"Prediction using ridge regression\")\n",
    "plt.gca().fill_between(YEARS, np.squeeze(lower_CI_line_r), np.squeeze(upper_CI_line_r),\n",
    "                       label=\"95% CI\",\n",
    "                       #color=\"#b9cfe7\",\n",
    "                       color=\"orange\",\n",
    "                       alpha=0.5,\n",
    "                       edgecolor=None)\n",
    "plt.xlabel(\"Year\")\n",
    "plt.ylabel(\"GDP\")\n",
    "plt.title(\"GDP prediction as a function of Year\")\n",
    "plt.legend()\n",
    "plt.show()"
   ]
  },
  {
   "cell_type": "markdown",
   "metadata": {},
   "source": [
    "### Subset selection"
   ]
  },
  {
   "cell_type": "markdown",
   "metadata": {},
   "source": [
    "Find the optimal combination of features in terms of $r^2$."
   ]
  },
  {
   "cell_type": "code",
   "execution_count": 30,
   "metadata": {
    "pycharm": {
     "name": "#%%\n"
    },
    "scrolled": false
   },
   "outputs": [],
   "source": [
    "scores, subsets = best_subset_ls(X_train, y_train)"
   ]
  },
  {
   "cell_type": "code",
   "execution_count": 31,
   "metadata": {
    "pycharm": {
     "name": "#%%\n"
    }
   },
   "outputs": [
    {
     "name": "stdout",
     "output_type": "stream",
     "text": [
      "Best performance on the test:  0.997861422546142 the subset is:  (0, 2, 5, 6, 7, 9, 12, 14, 15)\n",
      "This corresponds to the following variables:\n",
      "\t- CGPD RELATIVE TO THE UNITED STATES (unit US=100)\n",
      "\t- CONSUMPTION SHARE OF RGDPL (unit %)\n",
      "\t- GOVERNMENT SHARE OF CGDP (unit %)\n",
      "\t- GOVERNMENT SHARE OF RGDPL (unit %)\n",
      "\t- INVESTMENT SHARE OF CGDP (unit %)\n",
      "\t- OPENNESS IN CONSTANT PRICES (unit %)\n",
      "\t- PRICE LEVEL OF CONSUMPTION (unit PPP/XRATE)\n",
      "\t- PRICE LEVEL OF GROSS DOMESTIC PRODUCT (unit US=100)\n",
      "\t- PRICE LEVEL OF INVESTMENT (unit PPP/XRATE)\n"
     ]
    }
   ],
   "source": [
    "i = np.argmax(scores)\n",
    "sub = subsets[i]\n",
    "variables = \"\\n\\t- \".join(dataset.columns[list(sub)])\n",
    "print(\"Best performance on the test: \", scores[i], \"the subset is: \", sub)\n",
    "print(\"This corresponds to the following variables:\\n\\t- \" + variables) "
   ]
  },
  {
   "cell_type": "code",
   "execution_count": 32,
   "metadata": {},
   "outputs": [],
   "source": [
    "X_ss = X[:, sub]\n",
    "X_train_ss, X_test_ss, _, _ = train_test_split(X_ss, y)"
   ]
  },
  {
   "cell_type": "markdown",
   "metadata": {},
   "source": [
    "Compute lest squares estimator using subset of features."
   ]
  },
  {
   "cell_type": "code",
   "execution_count": 33,
   "metadata": {},
   "outputs": [
    {
     "data": {
      "image/png": "[encoded data removed]",
      "text/plain": [
       "<Figure size 432x288 with 1 Axes>"
      ]
     },
     "metadata": {
      "needs_background": "light"
     },
     "output_type": "display_data"
    }
   ],
   "source": [
    "d_ss = degree_cross_val(X_train_ss, y_train, 10)\n",
    "X_ls_ss = build_poly(X_ss, d_ss)\n",
    "X_train_ls_ss, X_test_ls_ss, _, _ = train_test_split(X_ls_ss, y)"
   ]
  },
  {
   "cell_type": "code",
   "execution_count": 34,
   "metadata": {
    "pycharm": {
     "name": "#%%\n"
    }
   },
   "outputs": [],
   "source": [
    "LS_w_ss = least_squares(X_train_ls_ss, y_train)\n",
    "\n",
    "LS_ss_prediction_data = predict(X_ls_ss, LS_w_ss)\n",
    "LS_ss_prediction_test = predict(X_test_ls_ss, LS_w_ss)"
   ]
  },
  {
   "cell_type": "code",
   "execution_count": 35,
   "metadata": {
    "pycharm": {
     "name": "#%%\n"
    }
   },
   "outputs": [
    {
     "name": "stdout",
     "output_type": "stream",
     "text": [
      "Testing R^2:   -4.629761929017308 \n",
      "Full data R^2: 0.8887443601603062\n"
     ]
    }
   ],
   "source": [
    "print(\"Testing R^2:  \", R_squared(y_test, LS_ss_prediction_test),\n",
    "      \"\\nFull data R^2:\", R_squared(y, LS_ss_prediction_data))"
   ]
  },
  {
   "cell_type": "code",
   "execution_count": 36,
   "metadata": {
    "pycharm": {
     "name": "#%%\n"
    }
   },
   "outputs": [
    {
     "name": "stdout",
     "output_type": "stream",
     "text": [
      "Full data adjusted R^2: 0.8065119307135761\n"
     ]
    }
   ],
   "source": [
    "print(\"Full data adjusted R^2:\", adjusted_R_squared(y, LS_ss_prediction_data, X.shape[1]))"
   ]
  },
  {
   "cell_type": "code",
   "execution_count": 37,
   "metadata": {
    "pycharm": {
     "name": "#%%\n"
    }
   },
   "outputs": [
    {
     "name": "stdout",
     "output_type": "stream",
     "text": [
      "The optimal hyper-parameters for the polynomial expansion and l2 regularization term are respectively: 0.73 2\n"
     ]
    }
   ],
   "source": [
    "lambda_r_ss, d_r_ss = cross_val_ridge(X_train_ss, y_train, plot=False)\n",
    "print(\"The optimal hyper-parameters for the polynomial expansion and l2 regularization term are respectively:\",\n",
    "      lambda_r_ss, d_r_ss)"
   ]
  },
  {
   "cell_type": "code",
   "execution_count": 38,
   "metadata": {},
   "outputs": [],
   "source": [
    "X_r_ss = build_poly(X_ss, d_ss)\n",
    "X_train_r_ss, X_test_r_ss, _, _ = train_test_split(X_r_ss, y)"
   ]
  },
  {
   "cell_type": "code",
   "execution_count": 39,
   "metadata": {
    "pycharm": {
     "name": "#%%\n"
    }
   },
   "outputs": [],
   "source": [
    "Ridge_w_lambda_ss = ridge_regression(X_train_r_ss, y_train, lambda_r_ss)\n",
    "\n",
    "Ridge_prediction_lambda_ss_data = predict(X_r_ss, Ridge_w_lambda_ss)\n",
    "Ridge_prediction_lambda_ss_test = predict(X_test_r_ss, Ridge_w_lambda_ss)"
   ]
  },
  {
   "cell_type": "code",
   "execution_count": 40,
   "metadata": {
    "pycharm": {
     "name": "#%%\n"
    }
   },
   "outputs": [
    {
     "name": "stdout",
     "output_type": "stream",
     "text": [
      "Testing R^2:  -8.032729410642661 \n",
      "Full data R^2: 0.8228968141607489\n"
     ]
    }
   ],
   "source": [
    "print(\"Testing R^2: \", R_squared(y_test, Ridge_prediction_lambda_ss_test),\n",
    "      \"\\nFull data R^2:\", R_squared(y, Ridge_prediction_lambda_ss_data))"
   ]
  },
  {
   "cell_type": "code",
   "execution_count": 41,
   "metadata": {
    "pycharm": {
     "name": "#%%\n"
    }
   },
   "outputs": [
    {
     "name": "stdout",
     "output_type": "stream",
     "text": [
      "Full data adjusted R^2: 0.691994459409998\n"
     ]
    }
   ],
   "source": [
    "print(\"Full data adjusted R^2:\", adjusted_R_squared(y, Ridge_prediction_lambda_ss_data, X.shape[1]))"
   ]
  },
  {
   "cell_type": "code",
   "execution_count": null,
   "metadata": {
    "pycharm": {
     "name": "#%%\n"
    }
   },
   "outputs": [],
   "source": []
  },
  {
   "cell_type": "code",
   "execution_count": null,
   "metadata": {},
   "outputs": [],
   "source": []
  },
  {
   "cell_type": "code",
   "execution_count": null,
   "metadata": {},
   "outputs": [],
   "source": []
  },
  {
   "cell_type": "code",
   "execution_count": null,
   "metadata": {},
   "outputs": [],
   "source": []
  },
  {
   "cell_type": "code",
   "execution_count": null,
   "metadata": {},
   "outputs": [],
   "source": []
  },
  {
   "cell_type": "code",
   "execution_count": null,
   "metadata": {},
   "outputs": [],
   "source": []
  }
 ],
 "metadata": {
  "kernelspec": {
   "display_name": "ada-venv",
   "language": "python",
   "name": "ada-venv"
  },
  "language_info": {
   "codemirror_mode": {
    "name": "ipython",
    "version": 3
   },
   "file_extension": ".py",
   "mimetype": "text/x-python",
   "name": "python",
   "nbconvert_exporter": "python",
   "pygments_lexer": "ipython3",
   "version": "3.8.6"
  }
 },
 "nbformat": 4,
 "nbformat_minor": 1
}