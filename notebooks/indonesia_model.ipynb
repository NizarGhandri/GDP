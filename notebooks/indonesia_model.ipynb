{
 "cells": [
  {
   "cell_type": "markdown",
   "metadata": {},
   "source": [
    "# GDP analysis for Indonesia"
   ]
  },
  {
   "cell_type": "markdown",
   "metadata": {},
   "source": [
    "## Imports "
   ]
  },
  {
   "cell_type": "code",
   "execution_count": 1,
   "metadata": {},
   "outputs": [],
   "source": [
    "import os\n",
    "import pandas as pd\n",
    "import matplotlib.pyplot as plt \n",
    "import seaborn as sns "
   ]
  },
  {
   "cell_type": "code",
   "execution_count": 2,
   "metadata": {
    "pycharm": {
     "name": "#%%\n"
    }
   },
   "outputs": [],
   "source": [
    "os.chdir('..')\n",
    "from src.regressions import *\n",
    "from src.helpers import *\n",
    "from src.statistical_analysis import *\n",
    "from src.evaluation_metrics import *\n",
    "from src.feature_engineering import *\n",
    "os.chdir('notebooks')"
   ]
  },
  {
   "cell_type": "markdown",
   "metadata": {},
   "source": [
    "## Loading and visualizing the dataset "
   ]
  },
  {
   "cell_type": "markdown",
   "metadata": {
    "pycharm": {
     "name": "#%% md\n"
    }
   },
   "source": [
    "Load the dataset in a pandas dataframe."
   ]
  },
  {
   "cell_type": "code",
   "execution_count": 3,
   "metadata": {},
   "outputs": [],
   "source": [
    "PATH = os.path.join(\"..\", \"data\", \"indonesia.csv\")\n",
    "\n",
    "dataset = pd.read_csv(PATH)"
   ]
  },
  {
   "cell_type": "markdown",
   "metadata": {},
   "source": [
    "Visualize the dataset."
   ]
  },
  {
   "cell_type": "code",
   "execution_count": 4,
   "metadata": {},
   "outputs": [
    {
     "data": {
      "text/html": [
       "<div>\n",
       "<style scoped>\n",
       "    .dataframe tbody tr th:only-of-type {\n",
       "        vertical-align: middle;\n",
       "    }\n",
       "\n",
       "    .dataframe tbody tr th {\n",
       "        vertical-align: top;\n",
       "    }\n",
       "\n",
       "    .dataframe thead th {\n",
       "        text-align: right;\n",
       "    }\n",
       "</style>\n",
       "<table border=\"1\" class=\"dataframe\">\n",
       "  <thead>\n",
       "    <tr style=\"text-align: right;\">\n",
       "      <th></th>\n",
       "      <th>YEAR</th>\n",
       "      <th>CGPD RELATIVE TO THE UNITED STATES (unit US=100)</th>\n",
       "      <th>CONSUMPTION SHARE OF CGPD (unit %)</th>\n",
       "      <th>CONSUMPTION SHARE OF RGDPL (unit %)</th>\n",
       "      <th>CURRENT SAVINGS (unit %)</th>\n",
       "      <th>EXCHANGE RATE (unit US=1)</th>\n",
       "      <th>GOVERNMENT SHARE OF CGDP (unit %)</th>\n",
       "      <th>GOVERNMENT SHARE OF RGDPL (unit %)</th>\n",
       "      <th>INVESTMENT SHARE OF CGDP (unit %)</th>\n",
       "      <th>INVESTMENT SHARE OF RGDPL (unit %)</th>\n",
       "      <th>OPENNESS IN CONSTANT PRICES (unit %)</th>\n",
       "      <th>OPENNESS IN CURRENT PRICES (unit %)</th>\n",
       "      <th>POPULATION (unit 000S)</th>\n",
       "      <th>PRICE LEVEL OF CONSUMPTION (unit PPP/XRATE)</th>\n",
       "      <th>PRICE LEVEL OF GOVERNMENT (unit PPP/XRATE)</th>\n",
       "      <th>PRICE LEVEL OF GROSS DOMESTIC PRODUCT (unit US=100)</th>\n",
       "      <th>PRICE LEVEL OF INVESTMENT (unit PPP/XRATE)</th>\n",
       "      <th>RATIO OF GNP TO GDP (CURRENT PRICES) (unit %)</th>\n",
       "      <th>REAL GROSS DOMESTIC PRODUCT PER CAPITA (CURRENT PRICES) (unit $ CURRENT)</th>\n",
       "    </tr>\n",
       "  </thead>\n",
       "  <tbody>\n",
       "    <tr>\n",
       "      <th>0</th>\n",
       "      <td>1950</td>\n",
       "      <td>NaN</td>\n",
       "      <td>NaN</td>\n",
       "      <td>NaN</td>\n",
       "      <td>NaN</td>\n",
       "      <td>NaN</td>\n",
       "      <td>NaN</td>\n",
       "      <td>NaN</td>\n",
       "      <td>NaN</td>\n",
       "      <td>NaN</td>\n",
       "      <td>NaN</td>\n",
       "      <td>NaN</td>\n",
       "      <td>NaN</td>\n",
       "      <td>NaN</td>\n",
       "      <td>NaN</td>\n",
       "      <td>NaN</td>\n",
       "      <td>NaN</td>\n",
       "      <td>NaN</td>\n",
       "      <td>NaN</td>\n",
       "    </tr>\n",
       "    <tr>\n",
       "      <th>1</th>\n",
       "      <td>1951</td>\n",
       "      <td>NaN</td>\n",
       "      <td>NaN</td>\n",
       "      <td>NaN</td>\n",
       "      <td>NaN</td>\n",
       "      <td>NaN</td>\n",
       "      <td>NaN</td>\n",
       "      <td>NaN</td>\n",
       "      <td>NaN</td>\n",
       "      <td>NaN</td>\n",
       "      <td>NaN</td>\n",
       "      <td>NaN</td>\n",
       "      <td>NaN</td>\n",
       "      <td>NaN</td>\n",
       "      <td>NaN</td>\n",
       "      <td>NaN</td>\n",
       "      <td>NaN</td>\n",
       "      <td>NaN</td>\n",
       "      <td>NaN</td>\n",
       "    </tr>\n",
       "    <tr>\n",
       "      <th>2</th>\n",
       "      <td>1952</td>\n",
       "      <td>NaN</td>\n",
       "      <td>NaN</td>\n",
       "      <td>NaN</td>\n",
       "      <td>NaN</td>\n",
       "      <td>NaN</td>\n",
       "      <td>NaN</td>\n",
       "      <td>NaN</td>\n",
       "      <td>NaN</td>\n",
       "      <td>NaN</td>\n",
       "      <td>NaN</td>\n",
       "      <td>NaN</td>\n",
       "      <td>NaN</td>\n",
       "      <td>NaN</td>\n",
       "      <td>NaN</td>\n",
       "      <td>NaN</td>\n",
       "      <td>NaN</td>\n",
       "      <td>NaN</td>\n",
       "      <td>NaN</td>\n",
       "    </tr>\n",
       "    <tr>\n",
       "      <th>3</th>\n",
       "      <td>1953</td>\n",
       "      <td>NaN</td>\n",
       "      <td>NaN</td>\n",
       "      <td>NaN</td>\n",
       "      <td>NaN</td>\n",
       "      <td>NaN</td>\n",
       "      <td>NaN</td>\n",
       "      <td>NaN</td>\n",
       "      <td>NaN</td>\n",
       "      <td>NaN</td>\n",
       "      <td>NaN</td>\n",
       "      <td>NaN</td>\n",
       "      <td>NaN</td>\n",
       "      <td>NaN</td>\n",
       "      <td>NaN</td>\n",
       "      <td>NaN</td>\n",
       "      <td>NaN</td>\n",
       "      <td>NaN</td>\n",
       "      <td>NaN</td>\n",
       "    </tr>\n",
       "    <tr>\n",
       "      <th>4</th>\n",
       "      <td>1954</td>\n",
       "      <td>NaN</td>\n",
       "      <td>NaN</td>\n",
       "      <td>NaN</td>\n",
       "      <td>NaN</td>\n",
       "      <td>NaN</td>\n",
       "      <td>NaN</td>\n",
       "      <td>NaN</td>\n",
       "      <td>NaN</td>\n",
       "      <td>NaN</td>\n",
       "      <td>NaN</td>\n",
       "      <td>NaN</td>\n",
       "      <td>NaN</td>\n",
       "      <td>NaN</td>\n",
       "      <td>NaN</td>\n",
       "      <td>NaN</td>\n",
       "      <td>NaN</td>\n",
       "      <td>NaN</td>\n",
       "      <td>NaN</td>\n",
       "    </tr>\n",
       "    <tr>\n",
       "      <th>5</th>\n",
       "      <td>1955</td>\n",
       "      <td>NaN</td>\n",
       "      <td>NaN</td>\n",
       "      <td>NaN</td>\n",
       "      <td>NaN</td>\n",
       "      <td>NaN</td>\n",
       "      <td>NaN</td>\n",
       "      <td>NaN</td>\n",
       "      <td>NaN</td>\n",
       "      <td>NaN</td>\n",
       "      <td>NaN</td>\n",
       "      <td>NaN</td>\n",
       "      <td>NaN</td>\n",
       "      <td>NaN</td>\n",
       "      <td>NaN</td>\n",
       "      <td>NaN</td>\n",
       "      <td>NaN</td>\n",
       "      <td>NaN</td>\n",
       "      <td>NaN</td>\n",
       "    </tr>\n",
       "    <tr>\n",
       "      <th>6</th>\n",
       "      <td>1956</td>\n",
       "      <td>NaN</td>\n",
       "      <td>NaN</td>\n",
       "      <td>NaN</td>\n",
       "      <td>NaN</td>\n",
       "      <td>NaN</td>\n",
       "      <td>NaN</td>\n",
       "      <td>NaN</td>\n",
       "      <td>NaN</td>\n",
       "      <td>NaN</td>\n",
       "      <td>NaN</td>\n",
       "      <td>NaN</td>\n",
       "      <td>NaN</td>\n",
       "      <td>NaN</td>\n",
       "      <td>NaN</td>\n",
       "      <td>NaN</td>\n",
       "      <td>NaN</td>\n",
       "      <td>NaN</td>\n",
       "      <td>NaN</td>\n",
       "    </tr>\n",
       "    <tr>\n",
       "      <th>7</th>\n",
       "      <td>1957</td>\n",
       "      <td>NaN</td>\n",
       "      <td>NaN</td>\n",
       "      <td>NaN</td>\n",
       "      <td>NaN</td>\n",
       "      <td>NaN</td>\n",
       "      <td>NaN</td>\n",
       "      <td>NaN</td>\n",
       "      <td>NaN</td>\n",
       "      <td>NaN</td>\n",
       "      <td>NaN</td>\n",
       "      <td>NaN</td>\n",
       "      <td>NaN</td>\n",
       "      <td>NaN</td>\n",
       "      <td>NaN</td>\n",
       "      <td>NaN</td>\n",
       "      <td>NaN</td>\n",
       "      <td>NaN</td>\n",
       "      <td>NaN</td>\n",
       "    </tr>\n",
       "    <tr>\n",
       "      <th>8</th>\n",
       "      <td>1958</td>\n",
       "      <td>NaN</td>\n",
       "      <td>NaN</td>\n",
       "      <td>NaN</td>\n",
       "      <td>NaN</td>\n",
       "      <td>NaN</td>\n",
       "      <td>NaN</td>\n",
       "      <td>NaN</td>\n",
       "      <td>NaN</td>\n",
       "      <td>NaN</td>\n",
       "      <td>NaN</td>\n",
       "      <td>NaN</td>\n",
       "      <td>NaN</td>\n",
       "      <td>NaN</td>\n",
       "      <td>NaN</td>\n",
       "      <td>NaN</td>\n",
       "      <td>NaN</td>\n",
       "      <td>NaN</td>\n",
       "      <td>NaN</td>\n",
       "    </tr>\n",
       "    <tr>\n",
       "      <th>9</th>\n",
       "      <td>1959</td>\n",
       "      <td>NaN</td>\n",
       "      <td>NaN</td>\n",
       "      <td>NaN</td>\n",
       "      <td>NaN</td>\n",
       "      <td>NaN</td>\n",
       "      <td>NaN</td>\n",
       "      <td>NaN</td>\n",
       "      <td>NaN</td>\n",
       "      <td>NaN</td>\n",
       "      <td>NaN</td>\n",
       "      <td>NaN</td>\n",
       "      <td>NaN</td>\n",
       "      <td>NaN</td>\n",
       "      <td>NaN</td>\n",
       "      <td>NaN</td>\n",
       "      <td>NaN</td>\n",
       "      <td>NaN</td>\n",
       "      <td>NaN</td>\n",
       "    </tr>\n",
       "    <tr>\n",
       "      <th>10</th>\n",
       "      <td>1960</td>\n",
       "      <td>5.887753</td>\n",
       "      <td>68.921894</td>\n",
       "      <td>52.578840</td>\n",
       "      <td>9.874070</td>\n",
       "      <td>0.075444</td>\n",
       "      <td>21.204036</td>\n",
       "      <td>20.812269</td>\n",
       "      <td>6.723281</td>\n",
       "      <td>4.254822</td>\n",
       "      <td>39.279293</td>\n",
       "      <td>26.937197</td>\n",
       "      <td>93996.000</td>\n",
       "      <td>38.260746</td>\n",
       "      <td>16.815424</td>\n",
       "      <td>34.162932</td>\n",
       "      <td>46.866257</td>\n",
       "      <td>100.970874</td>\n",
       "      <td>170.062972</td>\n",
       "    </tr>\n",
       "    <tr>\n",
       "      <th>11</th>\n",
       "      <td>1961</td>\n",
       "      <td>5.814377</td>\n",
       "      <td>72.819287</td>\n",
       "      <td>54.228581</td>\n",
       "      <td>7.273200</td>\n",
       "      <td>0.088475</td>\n",
       "      <td>19.907513</td>\n",
       "      <td>18.611372</td>\n",
       "      <td>9.465380</td>\n",
       "      <td>5.880665</td>\n",
       "      <td>43.250152</td>\n",
       "      <td>23.614272</td>\n",
       "      <td>95922.280</td>\n",
       "      <td>37.343916</td>\n",
       "      <td>18.727792</td>\n",
       "      <td>34.244554</td>\n",
       "      <td>43.035198</td>\n",
       "      <td>100.806452</td>\n",
       "      <td>170.667181</td>\n",
       "    </tr>\n",
       "    <tr>\n",
       "      <th>12</th>\n",
       "      <td>1962</td>\n",
       "      <td>5.841028</td>\n",
       "      <td>76.262849</td>\n",
       "      <td>60.898943</td>\n",
       "      <td>8.514918</td>\n",
       "      <td>0.243304</td>\n",
       "      <td>15.222233</td>\n",
       "      <td>15.021035</td>\n",
       "      <td>7.812022</td>\n",
       "      <td>5.349433</td>\n",
       "      <td>40.273071</td>\n",
       "      <td>10.922910</td>\n",
       "      <td>97951.360</td>\n",
       "      <td>37.220552</td>\n",
       "      <td>12.157068</td>\n",
       "      <td>32.593291</td>\n",
       "      <td>27.242162</td>\n",
       "      <td>101.277511</td>\n",
       "      <td>181.394139</td>\n",
       "    </tr>\n",
       "    <tr>\n",
       "      <th>13</th>\n",
       "      <td>1963</td>\n",
       "      <td>5.371324</td>\n",
       "      <td>76.567356</td>\n",
       "      <td>60.397768</td>\n",
       "      <td>7.449730</td>\n",
       "      <td>0.575852</td>\n",
       "      <td>15.982914</td>\n",
       "      <td>15.351258</td>\n",
       "      <td>6.143844</td>\n",
       "      <td>4.153576</td>\n",
       "      <td>36.162813</td>\n",
       "      <td>19.025910</td>\n",
       "      <td>100078.800</td>\n",
       "      <td>36.541149</td>\n",
       "      <td>13.692718</td>\n",
       "      <td>33.836737</td>\n",
       "      <td>52.536833</td>\n",
       "      <td>100.679262</td>\n",
       "      <td>173.638372</td>\n",
       "    </tr>\n",
       "    <tr>\n",
       "      <th>14</th>\n",
       "      <td>1964</td>\n",
       "      <td>5.114259</td>\n",
       "      <td>73.150816</td>\n",
       "      <td>56.427812</td>\n",
       "      <td>8.227310</td>\n",
       "      <td>1.227225</td>\n",
       "      <td>18.621874</td>\n",
       "      <td>17.300336</td>\n",
       "      <td>6.849006</td>\n",
       "      <td>4.531765</td>\n",
       "      <td>38.490892</td>\n",
       "      <td>26.086061</td>\n",
       "      <td>102300.160</td>\n",
       "      <td>36.499118</td>\n",
       "      <td>11.929260</td>\n",
       "      <td>34.198546</td>\n",
       "      <td>70.175600</td>\n",
       "      <td>100.239106</td>\n",
       "      <td>175.336121</td>\n",
       "    </tr>\n",
       "    <tr>\n",
       "      <th>15</th>\n",
       "      <td>1965</td>\n",
       "      <td>4.641238</td>\n",
       "      <td>78.483885</td>\n",
       "      <td>60.637495</td>\n",
       "      <td>7.366814</td>\n",
       "      <td>4.005756</td>\n",
       "      <td>14.149301</td>\n",
       "      <td>12.793235</td>\n",
       "      <td>7.262896</td>\n",
       "      <td>4.806221</td>\n",
       "      <td>37.451981</td>\n",
       "      <td>10.951239</td>\n",
       "      <td>104611.000</td>\n",
       "      <td>38.756891</td>\n",
       "      <td>12.631834</td>\n",
       "      <td>34.963762</td>\n",
       "      <td>37.480895</td>\n",
       "      <td>101.215024</td>\n",
       "      <td>170.768317</td>\n",
       "    </tr>\n",
       "    <tr>\n",
       "      <th>16</th>\n",
       "      <td>1966</td>\n",
       "      <td>4.268339</td>\n",
       "      <td>78.974127</td>\n",
       "      <td>57.257860</td>\n",
       "      <td>0.690156</td>\n",
       "      <td>75.901094</td>\n",
       "      <td>20.335717</td>\n",
       "      <td>16.928238</td>\n",
       "      <td>8.211723</td>\n",
       "      <td>5.132356</td>\n",
       "      <td>34.932694</td>\n",
       "      <td>34.266115</td>\n",
       "      <td>107014.280</td>\n",
       "      <td>28.803106</td>\n",
       "      <td>9.521414</td>\n",
       "      <td>24.139190</td>\n",
       "      <td>15.485013</td>\n",
       "      <td>100.379781</td>\n",
       "      <td>169.947870</td>\n",
       "    </tr>\n",
       "    <tr>\n",
       "      <th>17</th>\n",
       "      <td>1967</td>\n",
       "      <td>4.297588</td>\n",
       "      <td>82.818497</td>\n",
       "      <td>62.337551</td>\n",
       "      <td>-0.392070</td>\n",
       "      <td>149.583298</td>\n",
       "      <td>17.573573</td>\n",
       "      <td>14.930198</td>\n",
       "      <td>6.396626</td>\n",
       "      <td>4.166943</td>\n",
       "      <td>36.741739</td>\n",
       "      <td>25.177308</td>\n",
       "      <td>109512.960</td>\n",
       "      <td>33.599107</td>\n",
       "      <td>11.717863</td>\n",
       "      <td>30.660323</td>\n",
       "      <td>44.652239</td>\n",
       "      <td>100.806812</td>\n",
       "      <td>178.136260</td>\n",
       "    </tr>\n",
       "    <tr>\n",
       "      <th>18</th>\n",
       "      <td>1968</td>\n",
       "      <td>4.675378</td>\n",
       "      <td>79.237819</td>\n",
       "      <td>61.775907</td>\n",
       "      <td>3.303143</td>\n",
       "      <td>296.291687</td>\n",
       "      <td>17.459038</td>\n",
       "      <td>15.099493</td>\n",
       "      <td>6.647020</td>\n",
       "      <td>4.532774</td>\n",
       "      <td>35.961352</td>\n",
       "      <td>26.118391</td>\n",
       "      <td>112102.600</td>\n",
       "      <td>34.619430</td>\n",
       "      <td>12.339285</td>\n",
       "      <td>31.783409</td>\n",
       "      <td>49.047622</td>\n",
       "      <td>100.560899</td>\n",
       "      <td>209.626310</td>\n",
       "    </tr>\n",
       "    <tr>\n",
       "      <th>19</th>\n",
       "      <td>1969</td>\n",
       "      <td>4.650220</td>\n",
       "      <td>79.113852</td>\n",
       "      <td>60.599894</td>\n",
       "      <td>3.547496</td>\n",
       "      <td>326.000000</td>\n",
       "      <td>17.338652</td>\n",
       "      <td>14.514019</td>\n",
       "      <td>8.113547</td>\n",
       "      <td>5.407723</td>\n",
       "      <td>39.210321</td>\n",
       "      <td>23.457651</td>\n",
       "      <td>114778.760</td>\n",
       "      <td>36.547247</td>\n",
       "      <td>13.161636</td>\n",
       "      <td>34.278545</td>\n",
       "      <td>57.283646</td>\n",
       "      <td>100.652266</td>\n",
       "      <td>223.680973</td>\n",
       "    </tr>\n",
       "    <tr>\n",
       "      <th>20</th>\n",
       "      <td>1970</td>\n",
       "      <td>4.984585</td>\n",
       "      <td>72.644703</td>\n",
       "      <td>56.197556</td>\n",
       "      <td>8.293018</td>\n",
       "      <td>362.833313</td>\n",
       "      <td>19.062279</td>\n",
       "      <td>15.650123</td>\n",
       "      <td>9.824499</td>\n",
       "      <td>6.637288</td>\n",
       "      <td>41.968285</td>\n",
       "      <td>28.417470</td>\n",
       "      <td>117537.000</td>\n",
       "      <td>35.484814</td>\n",
       "      <td>13.917788</td>\n",
       "      <td>33.172502</td>\n",
       "      <td>53.434250</td>\n",
       "      <td>100.425851</td>\n",
       "      <td>249.242629</td>\n",
       "    </tr>\n",
       "    <tr>\n",
       "      <th>21</th>\n",
       "      <td>1971</td>\n",
       "      <td>5.071932</td>\n",
       "      <td>70.293533</td>\n",
       "      <td>54.722564</td>\n",
       "      <td>10.001993</td>\n",
       "      <td>391.875000</td>\n",
       "      <td>19.704474</td>\n",
       "      <td>15.851283</td>\n",
       "      <td>11.009484</td>\n",
       "      <td>7.538414</td>\n",
       "      <td>47.021983</td>\n",
       "      <td>31.128907</td>\n",
       "      <td>120389.288</td>\n",
       "      <td>31.809241</td>\n",
       "      <td>12.968680</td>\n",
       "      <td>30.158515</td>\n",
       "      <td>50.384831</td>\n",
       "      <td>100.073293</td>\n",
       "      <td>272.068219</td>\n",
       "    </tr>\n",
       "    <tr>\n",
       "      <th>22</th>\n",
       "      <td>1972</td>\n",
       "      <td>4.961598</td>\n",
       "      <td>65.617180</td>\n",
       "      <td>50.107024</td>\n",
       "      <td>13.729979</td>\n",
       "      <td>415.000000</td>\n",
       "      <td>20.652841</td>\n",
       "      <td>15.962832</td>\n",
       "      <td>12.338494</td>\n",
       "      <td>8.372182</td>\n",
       "      <td>52.286516</td>\n",
       "      <td>33.624091</td>\n",
       "      <td>123360.064</td>\n",
       "      <td>33.940633</td>\n",
       "      <td>13.005493</td>\n",
       "      <td>32.495248</td>\n",
       "      <td>57.431572</td>\n",
       "      <td>98.744422</td>\n",
       "      <td>289.436806</td>\n",
       "    </tr>\n",
       "    <tr>\n",
       "      <th>23</th>\n",
       "      <td>1973</td>\n",
       "      <td>5.182688</td>\n",
       "      <td>61.200556</td>\n",
       "      <td>47.499688</td>\n",
       "      <td>15.205957</td>\n",
       "      <td>415.000000</td>\n",
       "      <td>23.593487</td>\n",
       "      <td>18.305734</td>\n",
       "      <td>12.817646</td>\n",
       "      <td>8.791281</td>\n",
       "      <td>57.464010</td>\n",
       "      <td>39.758359</td>\n",
       "      <td>126409.904</td>\n",
       "      <td>44.463182</td>\n",
       "      <td>16.600620</td>\n",
       "      <td>40.521545</td>\n",
       "      <td>65.732699</td>\n",
       "      <td>98.262148</td>\n",
       "      <td>334.844211</td>\n",
       "    </tr>\n",
       "    <tr>\n",
       "      <th>24</th>\n",
       "      <td>1974</td>\n",
       "      <td>6.185585</td>\n",
       "      <td>60.046171</td>\n",
       "      <td>53.094398</td>\n",
       "      <td>22.218274</td>\n",
       "      <td>415.000000</td>\n",
       "      <td>17.735555</td>\n",
       "      <td>15.423272</td>\n",
       "      <td>12.845209</td>\n",
       "      <td>9.875014</td>\n",
       "      <td>61.523123</td>\n",
       "      <td>50.225484</td>\n",
       "      <td>129499.352</td>\n",
       "      <td>52.193000</td>\n",
       "      <td>19.772566</td>\n",
       "      <td>49.021149</td>\n",
       "      <td>74.577942</td>\n",
       "      <td>97.209611</td>\n",
       "      <td>429.264551</td>\n",
       "    </tr>\n",
       "    <tr>\n",
       "      <th>25</th>\n",
       "      <td>1975</td>\n",
       "      <td>6.630017</td>\n",
       "      <td>61.499537</td>\n",
       "      <td>54.078284</td>\n",
       "      <td>16.969068</td>\n",
       "      <td>415.000000</td>\n",
       "      <td>21.531395</td>\n",
       "      <td>18.554406</td>\n",
       "      <td>13.972813</td>\n",
       "      <td>10.507592</td>\n",
       "      <td>58.207987</td>\n",
       "      <td>44.943820</td>\n",
       "      <td>132589.000</td>\n",
       "      <td>51.054725</td>\n",
       "      <td>20.565236</td>\n",
       "      <td>48.854184</td>\n",
       "      <td>82.760618</td>\n",
       "      <td>97.469531</td>\n",
       "      <td>496.619660</td>\n",
       "    </tr>\n",
       "    <tr>\n",
       "      <th>26</th>\n",
       "      <td>1976</td>\n",
       "      <td>6.382866</td>\n",
       "      <td>60.522373</td>\n",
       "      <td>52.028167</td>\n",
       "      <td>17.155887</td>\n",
       "      <td>415.000000</td>\n",
       "      <td>22.321740</td>\n",
       "      <td>18.818716</td>\n",
       "      <td>14.158945</td>\n",
       "      <td>10.485514</td>\n",
       "      <td>64.044239</td>\n",
       "      <td>45.932722</td>\n",
       "      <td>135902.704</td>\n",
       "      <td>57.663882</td>\n",
       "      <td>23.001166</td>\n",
       "      <td>54.866119</td>\n",
       "      <td>93.142552</td>\n",
       "      <td>98.777066</td>\n",
       "      <td>528.368993</td>\n",
       "    </tr>\n",
       "    <tr>\n",
       "      <th>27</th>\n",
       "      <td>1977</td>\n",
       "      <td>6.629557</td>\n",
       "      <td>55.917335</td>\n",
       "      <td>49.007305</td>\n",
       "      <td>20.220539</td>\n",
       "      <td>415.000000</td>\n",
       "      <td>23.862125</td>\n",
       "      <td>20.081447</td>\n",
       "      <td>14.607027</td>\n",
       "      <td>11.133595</td>\n",
       "      <td>63.288490</td>\n",
       "      <td>43.964232</td>\n",
       "      <td>139096.288</td>\n",
       "      <td>62.941934</td>\n",
       "      <td>23.982934</td>\n",
       "      <td>57.600362</td>\n",
       "      <td>92.069855</td>\n",
       "      <td>98.329051</td>\n",
       "      <td>605.417433</td>\n",
       "    </tr>\n",
       "    <tr>\n",
       "      <th>28</th>\n",
       "      <td>1978</td>\n",
       "      <td>6.956468</td>\n",
       "      <td>56.918235</td>\n",
       "      <td>51.029219</td>\n",
       "      <td>18.218793</td>\n",
       "      <td>442.045410</td>\n",
       "      <td>24.862972</td>\n",
       "      <td>21.476436</td>\n",
       "      <td>15.005103</td>\n",
       "      <td>11.637648</td>\n",
       "      <td>60.375120</td>\n",
       "      <td>42.696160</td>\n",
       "      <td>142204.432</td>\n",
       "      <td>58.582296</td>\n",
       "      <td>23.041910</td>\n",
       "      <td>53.618957</td>\n",
       "      <td>85.456909</td>\n",
       "      <td>98.074784</td>\n",
       "      <td>710.867137</td>\n",
       "    </tr>\n",
       "    <tr>\n",
       "      <th>29</th>\n",
       "      <td>1979</td>\n",
       "      <td>7.719537</td>\n",
       "      <td>52.007179</td>\n",
       "      <td>50.525864</td>\n",
       "      <td>24.118745</td>\n",
       "      <td>623.055481</td>\n",
       "      <td>23.874076</td>\n",
       "      <td>22.507761</td>\n",
       "      <td>16.115253</td>\n",
       "      <td>13.621683</td>\n",
       "      <td>59.658621</td>\n",
       "      <td>53.114086</td>\n",
       "      <td>145261.776</td>\n",
       "      <td>48.207785</td>\n",
       "      <td>17.396527</td>\n",
       "      <td>43.507932</td>\n",
       "      <td>67.023515</td>\n",
       "      <td>95.677936</td>\n",
       "      <td>872.582790</td>\n",
       "    </tr>\n",
       "    <tr>\n",
       "      <th>30</th>\n",
       "      <td>1980</td>\n",
       "      <td>9.146857</td>\n",
       "      <td>45.216228</td>\n",
       "      <td>47.830725</td>\n",
       "      <td>30.541610</td>\n",
       "      <td>626.994019</td>\n",
       "      <td>24.242162</td>\n",
       "      <td>24.634674</td>\n",
       "      <td>16.632296</td>\n",
       "      <td>15.508777</td>\n",
       "      <td>58.587349</td>\n",
       "      <td>54.309641</td>\n",
       "      <td>148303.008</td>\n",
       "      <td>53.841689</td>\n",
       "      <td>20.523355</td>\n",
       "      <td>47.299209</td>\n",
       "      <td>68.539709</td>\n",
       "      <td>95.889274</td>\n",
       "      <td>1113.202506</td>\n",
       "    </tr>\n",
       "    <tr>\n",
       "      <th>31</th>\n",
       "      <td>1981</td>\n",
       "      <td>10.094542</td>\n",
       "      <td>55.269047</td>\n",
       "      <td>61.267740</td>\n",
       "      <td>21.366092</td>\n",
       "      <td>631.756714</td>\n",
       "      <td>23.364861</td>\n",
       "      <td>24.790119</td>\n",
       "      <td>16.233500</td>\n",
       "      <td>15.966514</td>\n",
       "      <td>55.034682</td>\n",
       "      <td>53.036784</td>\n",
       "      <td>151304.976</td>\n",
       "      <td>46.400863</td>\n",
       "      <td>21.196203</td>\n",
       "      <td>44.879300</td>\n",
       "      <td>73.786003</td>\n",
       "      <td>96.705140</td>\n",
       "      <td>1362.496392</td>\n",
       "    </tr>\n",
       "    <tr>\n",
       "      <th>32</th>\n",
       "      <td>1982</td>\n",
       "      <td>10.342884</td>\n",
       "      <td>56.264991</td>\n",
       "      <td>61.610685</td>\n",
       "      <td>18.563977</td>\n",
       "      <td>661.420715</td>\n",
       "      <td>25.171032</td>\n",
       "      <td>26.560996</td>\n",
       "      <td>17.286634</td>\n",
       "      <td>16.596180</td>\n",
       "      <td>52.168723</td>\n",
       "      <td>49.497046</td>\n",
       "      <td>154244.608</td>\n",
       "      <td>45.068212</td>\n",
       "      <td>19.579560</td>\n",
       "      <td>42.692153</td>\n",
       "      <td>68.612692</td>\n",
       "      <td>95.153919</td>\n",
       "      <td>1437.959219</td>\n",
       "    </tr>\n",
       "    <tr>\n",
       "      <th>33</th>\n",
       "      <td>1983</td>\n",
       "      <td>10.364895</td>\n",
       "      <td>58.538011</td>\n",
       "      <td>62.887350</td>\n",
       "      <td>18.009802</td>\n",
       "      <td>909.264771</td>\n",
       "      <td>23.452187</td>\n",
       "      <td>24.322897</td>\n",
       "      <td>16.851202</td>\n",
       "      <td>16.108364</td>\n",
       "      <td>48.227605</td>\n",
       "      <td>51.622039</td>\n",
       "      <td>157156.544</td>\n",
       "      <td>36.504879</td>\n",
       "      <td>15.565237</td>\n",
       "      <td>35.094329</td>\n",
       "      <td>57.373403</td>\n",
       "      <td>95.908553</td>\n",
       "      <td>1548.992936</td>\n",
       "    </tr>\n",
       "    <tr>\n",
       "      <th>34</th>\n",
       "      <td>1984</td>\n",
       "      <td>10.136832</td>\n",
       "      <td>57.989609</td>\n",
       "      <td>62.041366</td>\n",
       "      <td>19.161999</td>\n",
       "      <td>1025.944946</td>\n",
       "      <td>22.848392</td>\n",
       "      <td>23.527161</td>\n",
       "      <td>14.708648</td>\n",
       "      <td>14.350795</td>\n",
       "      <td>44.695165</td>\n",
       "      <td>48.541527</td>\n",
       "      <td>160075.456</td>\n",
       "      <td>34.060317</td>\n",
       "      <td>14.705333</td>\n",
       "      <td>32.732007</td>\n",
       "      <td>55.497683</td>\n",
       "      <td>92.969919</td>\n",
       "      <td>1670.904452</td>\n",
       "    </tr>\n",
       "    <tr>\n",
       "      <th>35</th>\n",
       "      <td>1985</td>\n",
       "      <td>10.192932</td>\n",
       "      <td>59.072938</td>\n",
       "      <td>63.704002</td>\n",
       "      <td>17.514217</td>\n",
       "      <td>1110.579956</td>\n",
       "      <td>23.412846</td>\n",
       "      <td>24.302318</td>\n",
       "      <td>14.934237</td>\n",
       "      <td>14.702077</td>\n",
       "      <td>42.328375</td>\n",
       "      <td>43.446852</td>\n",
       "      <td>163036.000</td>\n",
       "      <td>30.234139</td>\n",
       "      <td>15.071657</td>\n",
       "      <td>29.993982</td>\n",
       "      <td>52.438207</td>\n",
       "      <td>93.418626</td>\n",
       "      <td>1784.252451</td>\n",
       "    </tr>\n",
       "    <tr>\n",
       "      <th>36</th>\n",
       "      <td>1986</td>\n",
       "      <td>9.800024</td>\n",
       "      <td>60.235408</td>\n",
       "      <td>61.674159</td>\n",
       "      <td>15.850593</td>\n",
       "      <td>1282.560059</td>\n",
       "      <td>23.913999</td>\n",
       "      <td>23.720988</td>\n",
       "      <td>16.143562</td>\n",
       "      <td>15.230410</td>\n",
       "      <td>44.046610</td>\n",
       "      <td>40.722656</td>\n",
       "      <td>166015.056</td>\n",
       "      <td>27.820940</td>\n",
       "      <td>12.353552</td>\n",
       "      <td>26.771061</td>\n",
       "      <td>44.210855</td>\n",
       "      <td>90.727176</td>\n",
       "      <td>1796.425380</td>\n",
       "    </tr>\n",
       "    <tr>\n",
       "      <th>37</th>\n",
       "      <td>1987</td>\n",
       "      <td>9.788227</td>\n",
       "      <td>58.864387</td>\n",
       "      <td>59.833441</td>\n",
       "      <td>18.555206</td>\n",
       "      <td>1643.848022</td>\n",
       "      <td>22.580407</td>\n",
       "      <td>22.745422</td>\n",
       "      <td>16.225889</td>\n",
       "      <td>15.409941</td>\n",
       "      <td>45.692964</td>\n",
       "      <td>47.309237</td>\n",
       "      <td>168989.536</td>\n",
       "      <td>24.443004</td>\n",
       "      <td>9.932569</td>\n",
       "      <td>23.663592</td>\n",
       "      <td>39.944520</td>\n",
       "      <td>91.245243</td>\n",
       "      <td>1893.944276</td>\n",
       "    </tr>\n",
       "    <tr>\n",
       "      <th>38</th>\n",
       "      <td>1988</td>\n",
       "      <td>9.565734</td>\n",
       "      <td>55.254969</td>\n",
       "      <td>54.638672</td>\n",
       "      <td>21.071401</td>\n",
       "      <td>1685.703979</td>\n",
       "      <td>23.673631</td>\n",
       "      <td>23.176892</td>\n",
       "      <td>17.597787</td>\n",
       "      <td>16.175071</td>\n",
       "      <td>39.595038</td>\n",
       "      <td>45.691383</td>\n",
       "      <td>171994.064</td>\n",
       "      <td>28.305815</td>\n",
       "      <td>9.438089</td>\n",
       "      <td>26.131287</td>\n",
       "      <td>41.760245</td>\n",
       "      <td>95.375796</td>\n",
       "      <td>1975.905800</td>\n",
       "    </tr>\n",
       "    <tr>\n",
       "      <th>39</th>\n",
       "      <td>1989</td>\n",
       "      <td>10.016958</td>\n",
       "      <td>53.749797</td>\n",
       "      <td>53.570070</td>\n",
       "      <td>22.058818</td>\n",
       "      <td>1770.058960</td>\n",
       "      <td>24.191385</td>\n",
       "      <td>23.486039</td>\n",
       "      <td>18.328306</td>\n",
       "      <td>17.019138</td>\n",
       "      <td>40.368139</td>\n",
       "      <td>46.492205</td>\n",
       "      <td>175063.344</td>\n",
       "      <td>28.621710</td>\n",
       "      <td>9.508719</td>\n",
       "      <td>26.314155</td>\n",
       "      <td>41.728357</td>\n",
       "      <td>95.504004</td>\n",
       "      <td>2202.591422</td>\n",
       "    </tr>\n",
       "    <tr>\n",
       "      <th>40</th>\n",
       "      <td>1990</td>\n",
       "      <td>10.899137</td>\n",
       "      <td>55.642693</td>\n",
       "      <td>57.036251</td>\n",
       "      <td>21.031561</td>\n",
       "      <td>1842.812988</td>\n",
       "      <td>23.325747</td>\n",
       "      <td>22.700547</td>\n",
       "      <td>18.611057</td>\n",
       "      <td>18.136308</td>\n",
       "      <td>40.808029</td>\n",
       "      <td>49.881348</td>\n",
       "      <td>178232.000</td>\n",
       "      <td>26.623881</td>\n",
       "      <td>9.682713</td>\n",
       "      <td>25.584928</td>\n",
       "      <td>42.409385</td>\n",
       "      <td>95.440232</td>\n",
       "      <td>2507.340901</td>\n",
       "    </tr>\n",
       "    <tr>\n",
       "      <th>41</th>\n",
       "      <td>1991</td>\n",
       "      <td>11.634708</td>\n",
       "      <td>55.903973</td>\n",
       "      <td>56.090495</td>\n",
       "      <td>22.278898</td>\n",
       "      <td>1950.317993</td>\n",
       "      <td>21.817129</td>\n",
       "      <td>22.101084</td>\n",
       "      <td>19.922668</td>\n",
       "      <td>18.872046</td>\n",
       "      <td>44.674856</td>\n",
       "      <td>50.439297</td>\n",
       "      <td>181397.024</td>\n",
       "      <td>27.773114</td>\n",
       "      <td>9.868286</td>\n",
       "      <td>25.918527</td>\n",
       "      <td>38.290936</td>\n",
       "      <td>95.634259</td>\n",
       "      <td>2730.790761</td>\n",
       "    </tr>\n",
       "    <tr>\n",
       "      <th>42</th>\n",
       "      <td>1992</td>\n",
       "      <td>11.994114</td>\n",
       "      <td>55.613802</td>\n",
       "      <td>55.406078</td>\n",
       "      <td>22.541507</td>\n",
       "      <td>2029.921021</td>\n",
       "      <td>21.844690</td>\n",
       "      <td>21.809072</td>\n",
       "      <td>18.681734</td>\n",
       "      <td>18.264569</td>\n",
       "      <td>46.791006</td>\n",
       "      <td>53.788952</td>\n",
       "      <td>184556.192</td>\n",
       "      <td>27.256986</td>\n",
       "      <td>10.263489</td>\n",
       "      <td>25.633543</td>\n",
       "      <td>38.773022</td>\n",
       "      <td>95.558349</td>\n",
       "      <td>2940.683580</td>\n",
       "    </tr>\n",
       "    <tr>\n",
       "      <th>43</th>\n",
       "      <td>1993</td>\n",
       "      <td>12.257440</td>\n",
       "      <td>57.541468</td>\n",
       "      <td>57.122792</td>\n",
       "      <td>21.810318</td>\n",
       "      <td>2087.104004</td>\n",
       "      <td>20.648214</td>\n",
       "      <td>20.576140</td>\n",
       "      <td>18.836115</td>\n",
       "      <td>18.300495</td>\n",
       "      <td>45.661709</td>\n",
       "      <td>50.561457</td>\n",
       "      <td>187707.264</td>\n",
       "      <td>27.670133</td>\n",
       "      <td>11.783962</td>\n",
       "      <td>26.903760</td>\n",
       "      <td>41.136985</td>\n",
       "      <td>96.193477</td>\n",
       "      <td>3126.203625</td>\n",
       "    </tr>\n",
       "    <tr>\n",
       "      <th>44</th>\n",
       "      <td>1994</td>\n",
       "      <td>12.503539</td>\n",
       "      <td>57.925992</td>\n",
       "      <td>57.767273</td>\n",
       "      <td>22.240325</td>\n",
       "      <td>2160.753906</td>\n",
       "      <td>19.833683</td>\n",
       "      <td>19.685196</td>\n",
       "      <td>19.864967</td>\n",
       "      <td>19.531714</td>\n",
       "      <td>47.822245</td>\n",
       "      <td>50.352388</td>\n",
       "      <td>190847.968</td>\n",
       "      <td>28.447773</td>\n",
       "      <td>11.296534</td>\n",
       "      <td>27.688476</td>\n",
       "      <td>41.840504</td>\n",
       "      <td>97.318560</td>\n",
       "      <td>3355.214172</td>\n",
       "    </tr>\n",
       "    <tr>\n",
       "      <th>45</th>\n",
       "      <td>1995</td>\n",
       "      <td>12.507703</td>\n",
       "      <td>57.301824</td>\n",
       "      <td>56.111372</td>\n",
       "      <td>23.054071</td>\n",
       "      <td>2248.607910</td>\n",
       "      <td>19.644105</td>\n",
       "      <td>18.882025</td>\n",
       "      <td>24.373912</td>\n",
       "      <td>23.578667</td>\n",
       "      <td>50.385743</td>\n",
       "      <td>54.113506</td>\n",
       "      <td>193976.000</td>\n",
       "      <td>32.108882</td>\n",
       "      <td>11.908399</td>\n",
       "      <td>29.872051</td>\n",
       "      <td>39.091142</td>\n",
       "      <td>97.059277</td>\n",
       "      <td>3489.013586</td>\n",
       "    </tr>\n",
       "    <tr>\n",
       "      <th>46</th>\n",
       "      <td>1996</td>\n",
       "      <td>13.328841</td>\n",
       "      <td>61.491854</td>\n",
       "      <td>61.491854</td>\n",
       "      <td>20.630910</td>\n",
       "      <td>2342.295898</td>\n",
       "      <td>17.877236</td>\n",
       "      <td>17.877236</td>\n",
       "      <td>21.194502</td>\n",
       "      <td>21.194502</td>\n",
       "      <td>52.414052</td>\n",
       "      <td>52.414052</td>\n",
       "      <td>197156.480</td>\n",
       "      <td>30.045749</td>\n",
       "      <td>12.544900</td>\n",
       "      <td>29.622316</td>\n",
       "      <td>42.798341</td>\n",
       "      <td>97.320154</td>\n",
       "      <td>3891.209790</td>\n",
       "    </tr>\n",
       "    <tr>\n",
       "      <th>47</th>\n",
       "      <td>1997</td>\n",
       "      <td>13.431359</td>\n",
       "      <td>62.539280</td>\n",
       "      <td>63.595749</td>\n",
       "      <td>20.673192</td>\n",
       "      <td>2909.379883</td>\n",
       "      <td>16.787528</td>\n",
       "      <td>17.153953</td>\n",
       "      <td>20.992171</td>\n",
       "      <td>21.542164</td>\n",
       "      <td>56.042529</td>\n",
       "      <td>56.140351</td>\n",
       "      <td>200390.288</td>\n",
       "      <td>25.659063</td>\n",
       "      <td>10.620976</td>\n",
       "      <td>25.998617</td>\n",
       "      <td>39.307771</td>\n",
       "      <td>97.075809</td>\n",
       "      <td>4136.568304</td>\n",
       "    </tr>\n",
       "    <tr>\n",
       "      <th>48</th>\n",
       "      <td>1998</td>\n",
       "      <td>12.131535</td>\n",
       "      <td>62.155393</td>\n",
       "      <td>66.461365</td>\n",
       "      <td>22.956919</td>\n",
       "      <td>10013.620120</td>\n",
       "      <td>14.887687</td>\n",
       "      <td>16.146832</td>\n",
       "      <td>13.222776</td>\n",
       "      <td>14.625724</td>\n",
       "      <td>64.003682</td>\n",
       "      <td>96.190077</td>\n",
       "      <td>203678.368</td>\n",
       "      <td>13.073190</td>\n",
       "      <td>4.582021</td>\n",
       "      <td>11.980381</td>\n",
       "      <td>15.173393</td>\n",
       "      <td>94.361101</td>\n",
       "      <td>3910.016585</td>\n",
       "    </tr>\n",
       "    <tr>\n",
       "      <th>49</th>\n",
       "      <td>1999</td>\n",
       "      <td>11.361046</td>\n",
       "      <td>66.374206</td>\n",
       "      <td>68.444633</td>\n",
       "      <td>18.146429</td>\n",
       "      <td>7855.149902</td>\n",
       "      <td>15.479366</td>\n",
       "      <td>16.013671</td>\n",
       "      <td>10.125520</td>\n",
       "      <td>11.045912</td>\n",
       "      <td>40.345729</td>\n",
       "      <td>62.454939</td>\n",
       "      <td>207021.616</td>\n",
       "      <td>19.658069</td>\n",
       "      <td>7.527194</td>\n",
       "      <td>17.808039</td>\n",
       "      <td>21.397649</td>\n",
       "      <td>92.792793</td>\n",
       "      <td>3831.600211</td>\n",
       "    </tr>\n",
       "    <tr>\n",
       "      <th>50</th>\n",
       "      <td>2000</td>\n",
       "      <td>11.329085</td>\n",
       "      <td>64.775375</td>\n",
       "      <td>67.633409</td>\n",
       "      <td>18.564669</td>\n",
       "      <td>8421.775391</td>\n",
       "      <td>16.659956</td>\n",
       "      <td>16.280259</td>\n",
       "      <td>10.668710</td>\n",
       "      <td>11.456409</td>\n",
       "      <td>45.023145</td>\n",
       "      <td>69.205759</td>\n",
       "      <td>210420.992</td>\n",
       "      <td>18.738921</td>\n",
       "      <td>7.621612</td>\n",
       "      <td>18.064672</td>\n",
       "      <td>30.278536</td>\n",
       "      <td>93.023256</td>\n",
       "      <td>4035.268912</td>\n",
       "    </tr>\n",
       "  </tbody>\n",
       "</table>\n",
       "</div>"
      ],
      "text/plain": [
       "    YEAR  CGPD RELATIVE TO THE UNITED STATES (unit US=100)  \\\n",
       "0   1950                                               NaN   \n",
       "1   1951                                               NaN   \n",
       "2   1952                                               NaN   \n",
       "3   1953                                               NaN   \n",
       "4   1954                                               NaN   \n",
       "5   1955                                               NaN   \n",
       "6   1956                                               NaN   \n",
       "7   1957                                               NaN   \n",
       "8   1958                                               NaN   \n",
       "9   1959                                               NaN   \n",
       "10  1960                                          5.887753   \n",
       "11  1961                                          5.814377   \n",
       "12  1962                                          5.841028   \n",
       "13  1963                                          5.371324   \n",
       "14  1964                                          5.114259   \n",
       "15  1965                                          4.641238   \n",
       "16  1966                                          4.268339   \n",
       "17  1967                                          4.297588   \n",
       "18  1968                                          4.675378   \n",
       "19  1969                                          4.650220   \n",
       "20  1970                                          4.984585   \n",
       "21  1971                                          5.071932   \n",
       "22  1972                                          4.961598   \n",
       "23  1973                                          5.182688   \n",
       "24  1974                                          6.185585   \n",
       "25  1975                                          6.630017   \n",
       "26  1976                                          6.382866   \n",
       "27  1977                                          6.629557   \n",
       "28  1978                                          6.956468   \n",
       "29  1979                                          7.719537   \n",
       "30  1980                                          9.146857   \n",
       "31  1981                                         10.094542   \n",
       "32  1982                                         10.342884   \n",
       "33  1983                                         10.364895   \n",
       "34  1984                                         10.136832   \n",
       "35  1985                                         10.192932   \n",
       "36  1986                                          9.800024   \n",
       "37  1987                                          9.788227   \n",
       "38  1988                                          9.565734   \n",
       "39  1989                                         10.016958   \n",
       "40  1990                                         10.899137   \n",
       "41  1991                                         11.634708   \n",
       "42  1992                                         11.994114   \n",
       "43  1993                                         12.257440   \n",
       "44  1994                                         12.503539   \n",
       "45  1995                                         12.507703   \n",
       "46  1996                                         13.328841   \n",
       "47  1997                                         13.431359   \n",
       "48  1998                                         12.131535   \n",
       "49  1999                                         11.361046   \n",
       "50  2000                                         11.329085   \n",
       "\n",
       "    CONSUMPTION SHARE OF CGPD (unit %)  CONSUMPTION SHARE OF RGDPL (unit %)  \\\n",
       "0                                  NaN                                  NaN   \n",
       "1                                  NaN                                  NaN   \n",
       "2                                  NaN                                  NaN   \n",
       "3                                  NaN                                  NaN   \n",
       "4                                  NaN                                  NaN   \n",
       "5                                  NaN                                  NaN   \n",
       "6                                  NaN                                  NaN   \n",
       "7                                  NaN                                  NaN   \n",
       "8                                  NaN                                  NaN   \n",
       "9                                  NaN                                  NaN   \n",
       "10                           68.921894                            52.578840   \n",
       "11                           72.819287                            54.228581   \n",
       "12                           76.262849                            60.898943   \n",
       "13                           76.567356                            60.397768   \n",
       "14                           73.150816                            56.427812   \n",
       "15                           78.483885                            60.637495   \n",
       "16                           78.974127                            57.257860   \n",
       "17                           82.818497                            62.337551   \n",
       "18                           79.237819                            61.775907   \n",
       "19                           79.113852                            60.599894   \n",
       "20                           72.644703                            56.197556   \n",
       "21                           70.293533                            54.722564   \n",
       "22                           65.617180                            50.107024   \n",
       "23                           61.200556                            47.499688   \n",
       "24                           60.046171                            53.094398   \n",
       "25                           61.499537                            54.078284   \n",
       "26                           60.522373                            52.028167   \n",
       "27                           55.917335                            49.007305   \n",
       "28                           56.918235                            51.029219   \n",
       "29                           52.007179                            50.525864   \n",
       "30                           45.216228                            47.830725   \n",
       "31                           55.269047                            61.267740   \n",
       "32                           56.264991                            61.610685   \n",
       "33                           58.538011                            62.887350   \n",
       "34                           57.989609                            62.041366   \n",
       "35                           59.072938                            63.704002   \n",
       "36                           60.235408                            61.674159   \n",
       "37                           58.864387                            59.833441   \n",
       "38                           55.254969                            54.638672   \n",
       "39                           53.749797                            53.570070   \n",
       "40                           55.642693                            57.036251   \n",
       "41                           55.903973                            56.090495   \n",
       "42                           55.613802                            55.406078   \n",
       "43                           57.541468                            57.122792   \n",
       "44                           57.925992                            57.767273   \n",
       "45                           57.301824                            56.111372   \n",
       "46                           61.491854                            61.491854   \n",
       "47                           62.539280                            63.595749   \n",
       "48                           62.155393                            66.461365   \n",
       "49                           66.374206                            68.444633   \n",
       "50                           64.775375                            67.633409   \n",
       "\n",
       "    CURRENT SAVINGS (unit %)  EXCHANGE RATE (unit US=1)  \\\n",
       "0                        NaN                        NaN   \n",
       "1                        NaN                        NaN   \n",
       "2                        NaN                        NaN   \n",
       "3                        NaN                        NaN   \n",
       "4                        NaN                        NaN   \n",
       "5                        NaN                        NaN   \n",
       "6                        NaN                        NaN   \n",
       "7                        NaN                        NaN   \n",
       "8                        NaN                        NaN   \n",
       "9                        NaN                        NaN   \n",
       "10                  9.874070                   0.075444   \n",
       "11                  7.273200                   0.088475   \n",
       "12                  8.514918                   0.243304   \n",
       "13                  7.449730                   0.575852   \n",
       "14                  8.227310                   1.227225   \n",
       "15                  7.366814                   4.005756   \n",
       "16                  0.690156                  75.901094   \n",
       "17                 -0.392070                 149.583298   \n",
       "18                  3.303143                 296.291687   \n",
       "19                  3.547496                 326.000000   \n",
       "20                  8.293018                 362.833313   \n",
       "21                 10.001993                 391.875000   \n",
       "22                 13.729979                 415.000000   \n",
       "23                 15.205957                 415.000000   \n",
       "24                 22.218274                 415.000000   \n",
       "25                 16.969068                 415.000000   \n",
       "26                 17.155887                 415.000000   \n",
       "27                 20.220539                 415.000000   \n",
       "28                 18.218793                 442.045410   \n",
       "29                 24.118745                 623.055481   \n",
       "30                 30.541610                 626.994019   \n",
       "31                 21.366092                 631.756714   \n",
       "32                 18.563977                 661.420715   \n",
       "33                 18.009802                 909.264771   \n",
       "34                 19.161999                1025.944946   \n",
       "35                 17.514217                1110.579956   \n",
       "36                 15.850593                1282.560059   \n",
       "37                 18.555206                1643.848022   \n",
       "38                 21.071401                1685.703979   \n",
       "39                 22.058818                1770.058960   \n",
       "40                 21.031561                1842.812988   \n",
       "41                 22.278898                1950.317993   \n",
       "42                 22.541507                2029.921021   \n",
       "43                 21.810318                2087.104004   \n",
       "44                 22.240325                2160.753906   \n",
       "45                 23.054071                2248.607910   \n",
       "46                 20.630910                2342.295898   \n",
       "47                 20.673192                2909.379883   \n",
       "48                 22.956919               10013.620120   \n",
       "49                 18.146429                7855.149902   \n",
       "50                 18.564669                8421.775391   \n",
       "\n",
       "    GOVERNMENT SHARE OF CGDP (unit %)  GOVERNMENT SHARE OF RGDPL (unit %)  \\\n",
       "0                                 NaN                                 NaN   \n",
       "1                                 NaN                                 NaN   \n",
       "2                                 NaN                                 NaN   \n",
       "3                                 NaN                                 NaN   \n",
       "4                                 NaN                                 NaN   \n",
       "5                                 NaN                                 NaN   \n",
       "6                                 NaN                                 NaN   \n",
       "7                                 NaN                                 NaN   \n",
       "8                                 NaN                                 NaN   \n",
       "9                                 NaN                                 NaN   \n",
       "10                          21.204036                           20.812269   \n",
       "11                          19.907513                           18.611372   \n",
       "12                          15.222233                           15.021035   \n",
       "13                          15.982914                           15.351258   \n",
       "14                          18.621874                           17.300336   \n",
       "15                          14.149301                           12.793235   \n",
       "16                          20.335717                           16.928238   \n",
       "17                          17.573573                           14.930198   \n",
       "18                          17.459038                           15.099493   \n",
       "19                          17.338652                           14.514019   \n",
       "20                          19.062279                           15.650123   \n",
       "21                          19.704474                           15.851283   \n",
       "22                          20.652841                           15.962832   \n",
       "23                          23.593487                           18.305734   \n",
       "24                          17.735555                           15.423272   \n",
       "25                          21.531395                           18.554406   \n",
       "26                          22.321740                           18.818716   \n",
       "27                          23.862125                           20.081447   \n",
       "28                          24.862972                           21.476436   \n",
       "29                          23.874076                           22.507761   \n",
       "30                          24.242162                           24.634674   \n",
       "31                          23.364861                           24.790119   \n",
       "32                          25.171032                           26.560996   \n",
       "33                          23.452187                           24.322897   \n",
       "34                          22.848392                           23.527161   \n",
       "35                          23.412846                           24.302318   \n",
       "36                          23.913999                           23.720988   \n",
       "37                          22.580407                           22.745422   \n",
       "38                          23.673631                           23.176892   \n",
       "39                          24.191385                           23.486039   \n",
       "40                          23.325747                           22.700547   \n",
       "41                          21.817129                           22.101084   \n",
       "42                          21.844690                           21.809072   \n",
       "43                          20.648214                           20.576140   \n",
       "44                          19.833683                           19.685196   \n",
       "45                          19.644105                           18.882025   \n",
       "46                          17.877236                           17.877236   \n",
       "47                          16.787528                           17.153953   \n",
       "48                          14.887687                           16.146832   \n",
       "49                          15.479366                           16.013671   \n",
       "50                          16.659956                           16.280259   \n",
       "\n",
       "    INVESTMENT SHARE OF CGDP (unit %)  INVESTMENT SHARE OF RGDPL (unit %)  \\\n",
       "0                                 NaN                                 NaN   \n",
       "1                                 NaN                                 NaN   \n",
       "2                                 NaN                                 NaN   \n",
       "3                                 NaN                                 NaN   \n",
       "4                                 NaN                                 NaN   \n",
       "5                                 NaN                                 NaN   \n",
       "6                                 NaN                                 NaN   \n",
       "7                                 NaN                                 NaN   \n",
       "8                                 NaN                                 NaN   \n",
       "9                                 NaN                                 NaN   \n",
       "10                           6.723281                            4.254822   \n",
       "11                           9.465380                            5.880665   \n",
       "12                           7.812022                            5.349433   \n",
       "13                           6.143844                            4.153576   \n",
       "14                           6.849006                            4.531765   \n",
       "15                           7.262896                            4.806221   \n",
       "16                           8.211723                            5.132356   \n",
       "17                           6.396626                            4.166943   \n",
       "18                           6.647020                            4.532774   \n",
       "19                           8.113547                            5.407723   \n",
       "20                           9.824499                            6.637288   \n",
       "21                          11.009484                            7.538414   \n",
       "22                          12.338494                            8.372182   \n",
       "23                          12.817646                            8.791281   \n",
       "24                          12.845209                            9.875014   \n",
       "25                          13.972813                           10.507592   \n",
       "26                          14.158945                           10.485514   \n",
       "27                          14.607027                           11.133595   \n",
       "28                          15.005103                           11.637648   \n",
       "29                          16.115253                           13.621683   \n",
       "30                          16.632296                           15.508777   \n",
       "31                          16.233500                           15.966514   \n",
       "32                          17.286634                           16.596180   \n",
       "33                          16.851202                           16.108364   \n",
       "34                          14.708648                           14.350795   \n",
       "35                          14.934237                           14.702077   \n",
       "36                          16.143562                           15.230410   \n",
       "37                          16.225889                           15.409941   \n",
       "38                          17.597787                           16.175071   \n",
       "39                          18.328306                           17.019138   \n",
       "40                          18.611057                           18.136308   \n",
       "41                          19.922668                           18.872046   \n",
       "42                          18.681734                           18.264569   \n",
       "43                          18.836115                           18.300495   \n",
       "44                          19.864967                           19.531714   \n",
       "45                          24.373912                           23.578667   \n",
       "46                          21.194502                           21.194502   \n",
       "47                          20.992171                           21.542164   \n",
       "48                          13.222776                           14.625724   \n",
       "49                          10.125520                           11.045912   \n",
       "50                          10.668710                           11.456409   \n",
       "\n",
       "    OPENNESS IN CONSTANT PRICES (unit %)  OPENNESS IN CURRENT PRICES (unit %)  \\\n",
       "0                                    NaN                                  NaN   \n",
       "1                                    NaN                                  NaN   \n",
       "2                                    NaN                                  NaN   \n",
       "3                                    NaN                                  NaN   \n",
       "4                                    NaN                                  NaN   \n",
       "5                                    NaN                                  NaN   \n",
       "6                                    NaN                                  NaN   \n",
       "7                                    NaN                                  NaN   \n",
       "8                                    NaN                                  NaN   \n",
       "9                                    NaN                                  NaN   \n",
       "10                             39.279293                            26.937197   \n",
       "11                             43.250152                            23.614272   \n",
       "12                             40.273071                            10.922910   \n",
       "13                             36.162813                            19.025910   \n",
       "14                             38.490892                            26.086061   \n",
       "15                             37.451981                            10.951239   \n",
       "16                             34.932694                            34.266115   \n",
       "17                             36.741739                            25.177308   \n",
       "18                             35.961352                            26.118391   \n",
       "19                             39.210321                            23.457651   \n",
       "20                             41.968285                            28.417470   \n",
       "21                             47.021983                            31.128907   \n",
       "22                             52.286516                            33.624091   \n",
       "23                             57.464010                            39.758359   \n",
       "24                             61.523123                            50.225484   \n",
       "25                             58.207987                            44.943820   \n",
       "26                             64.044239                            45.932722   \n",
       "27                             63.288490                            43.964232   \n",
       "28                             60.375120                            42.696160   \n",
       "29                             59.658621                            53.114086   \n",
       "30                             58.587349                            54.309641   \n",
       "31                             55.034682                            53.036784   \n",
       "32                             52.168723                            49.497046   \n",
       "33                             48.227605                            51.622039   \n",
       "34                             44.695165                            48.541527   \n",
       "35                             42.328375                            43.446852   \n",
       "36                             44.046610                            40.722656   \n",
       "37                             45.692964                            47.309237   \n",
       "38                             39.595038                            45.691383   \n",
       "39                             40.368139                            46.492205   \n",
       "40                             40.808029                            49.881348   \n",
       "41                             44.674856                            50.439297   \n",
       "42                             46.791006                            53.788952   \n",
       "43                             45.661709                            50.561457   \n",
       "44                             47.822245                            50.352388   \n",
       "45                             50.385743                            54.113506   \n",
       "46                             52.414052                            52.414052   \n",
       "47                             56.042529                            56.140351   \n",
       "48                             64.003682                            96.190077   \n",
       "49                             40.345729                            62.454939   \n",
       "50                             45.023145                            69.205759   \n",
       "\n",
       "    POPULATION (unit 000S)  PRICE LEVEL OF CONSUMPTION (unit PPP/XRATE)  \\\n",
       "0                      NaN                                          NaN   \n",
       "1                      NaN                                          NaN   \n",
       "2                      NaN                                          NaN   \n",
       "3                      NaN                                          NaN   \n",
       "4                      NaN                                          NaN   \n",
       "5                      NaN                                          NaN   \n",
       "6                      NaN                                          NaN   \n",
       "7                      NaN                                          NaN   \n",
       "8                      NaN                                          NaN   \n",
       "9                      NaN                                          NaN   \n",
       "10               93996.000                                    38.260746   \n",
       "11               95922.280                                    37.343916   \n",
       "12               97951.360                                    37.220552   \n",
       "13              100078.800                                    36.541149   \n",
       "14              102300.160                                    36.499118   \n",
       "15              104611.000                                    38.756891   \n",
       "16              107014.280                                    28.803106   \n",
       "17              109512.960                                    33.599107   \n",
       "18              112102.600                                    34.619430   \n",
       "19              114778.760                                    36.547247   \n",
       "20              117537.000                                    35.484814   \n",
       "21              120389.288                                    31.809241   \n",
       "22              123360.064                                    33.940633   \n",
       "23              126409.904                                    44.463182   \n",
       "24              129499.352                                    52.193000   \n",
       "25              132589.000                                    51.054725   \n",
       "26              135902.704                                    57.663882   \n",
       "27              139096.288                                    62.941934   \n",
       "28              142204.432                                    58.582296   \n",
       "29              145261.776                                    48.207785   \n",
       "30              148303.008                                    53.841689   \n",
       "31              151304.976                                    46.400863   \n",
       "32              154244.608                                    45.068212   \n",
       "33              157156.544                                    36.504879   \n",
       "34              160075.456                                    34.060317   \n",
       "35              163036.000                                    30.234139   \n",
       "36              166015.056                                    27.820940   \n",
       "37              168989.536                                    24.443004   \n",
       "38              171994.064                                    28.305815   \n",
       "39              175063.344                                    28.621710   \n",
       "40              178232.000                                    26.623881   \n",
       "41              181397.024                                    27.773114   \n",
       "42              184556.192                                    27.256986   \n",
       "43              187707.264                                    27.670133   \n",
       "44              190847.968                                    28.447773   \n",
       "45              193976.000                                    32.108882   \n",
       "46              197156.480                                    30.045749   \n",
       "47              200390.288                                    25.659063   \n",
       "48              203678.368                                    13.073190   \n",
       "49              207021.616                                    19.658069   \n",
       "50              210420.992                                    18.738921   \n",
       "\n",
       "    PRICE LEVEL OF GOVERNMENT (unit PPP/XRATE)  \\\n",
       "0                                          NaN   \n",
       "1                                          NaN   \n",
       "2                                          NaN   \n",
       "3                                          NaN   \n",
       "4                                          NaN   \n",
       "5                                          NaN   \n",
       "6                                          NaN   \n",
       "7                                          NaN   \n",
       "8                                          NaN   \n",
       "9                                          NaN   \n",
       "10                                   16.815424   \n",
       "11                                   18.727792   \n",
       "12                                   12.157068   \n",
       "13                                   13.692718   \n",
       "14                                   11.929260   \n",
       "15                                   12.631834   \n",
       "16                                    9.521414   \n",
       "17                                   11.717863   \n",
       "18                                   12.339285   \n",
       "19                                   13.161636   \n",
       "20                                   13.917788   \n",
       "21                                   12.968680   \n",
       "22                                   13.005493   \n",
       "23                                   16.600620   \n",
       "24                                   19.772566   \n",
       "25                                   20.565236   \n",
       "26                                   23.001166   \n",
       "27                                   23.982934   \n",
       "28                                   23.041910   \n",
       "29                                   17.396527   \n",
       "30                                   20.523355   \n",
       "31                                   21.196203   \n",
       "32                                   19.579560   \n",
       "33                                   15.565237   \n",
       "34                                   14.705333   \n",
       "35                                   15.071657   \n",
       "36                                   12.353552   \n",
       "37                                    9.932569   \n",
       "38                                    9.438089   \n",
       "39                                    9.508719   \n",
       "40                                    9.682713   \n",
       "41                                    9.868286   \n",
       "42                                   10.263489   \n",
       "43                                   11.783962   \n",
       "44                                   11.296534   \n",
       "45                                   11.908399   \n",
       "46                                   12.544900   \n",
       "47                                   10.620976   \n",
       "48                                    4.582021   \n",
       "49                                    7.527194   \n",
       "50                                    7.621612   \n",
       "\n",
       "    PRICE LEVEL OF GROSS DOMESTIC PRODUCT (unit US=100)  \\\n",
       "0                                                 NaN     \n",
       "1                                                 NaN     \n",
       "2                                                 NaN     \n",
       "3                                                 NaN     \n",
       "4                                                 NaN     \n",
       "5                                                 NaN     \n",
       "6                                                 NaN     \n",
       "7                                                 NaN     \n",
       "8                                                 NaN     \n",
       "9                                                 NaN     \n",
       "10                                          34.162932     \n",
       "11                                          34.244554     \n",
       "12                                          32.593291     \n",
       "13                                          33.836737     \n",
       "14                                          34.198546     \n",
       "15                                          34.963762     \n",
       "16                                          24.139190     \n",
       "17                                          30.660323     \n",
       "18                                          31.783409     \n",
       "19                                          34.278545     \n",
       "20                                          33.172502     \n",
       "21                                          30.158515     \n",
       "22                                          32.495248     \n",
       "23                                          40.521545     \n",
       "24                                          49.021149     \n",
       "25                                          48.854184     \n",
       "26                                          54.866119     \n",
       "27                                          57.600362     \n",
       "28                                          53.618957     \n",
       "29                                          43.507932     \n",
       "30                                          47.299209     \n",
       "31                                          44.879300     \n",
       "32                                          42.692153     \n",
       "33                                          35.094329     \n",
       "34                                          32.732007     \n",
       "35                                          29.993982     \n",
       "36                                          26.771061     \n",
       "37                                          23.663592     \n",
       "38                                          26.131287     \n",
       "39                                          26.314155     \n",
       "40                                          25.584928     \n",
       "41                                          25.918527     \n",
       "42                                          25.633543     \n",
       "43                                          26.903760     \n",
       "44                                          27.688476     \n",
       "45                                          29.872051     \n",
       "46                                          29.622316     \n",
       "47                                          25.998617     \n",
       "48                                          11.980381     \n",
       "49                                          17.808039     \n",
       "50                                          18.064672     \n",
       "\n",
       "    PRICE LEVEL OF INVESTMENT (unit PPP/XRATE)  \\\n",
       "0                                          NaN   \n",
       "1                                          NaN   \n",
       "2                                          NaN   \n",
       "3                                          NaN   \n",
       "4                                          NaN   \n",
       "5                                          NaN   \n",
       "6                                          NaN   \n",
       "7                                          NaN   \n",
       "8                                          NaN   \n",
       "9                                          NaN   \n",
       "10                                   46.866257   \n",
       "11                                   43.035198   \n",
       "12                                   27.242162   \n",
       "13                                   52.536833   \n",
       "14                                   70.175600   \n",
       "15                                   37.480895   \n",
       "16                                   15.485013   \n",
       "17                                   44.652239   \n",
       "18                                   49.047622   \n",
       "19                                   57.283646   \n",
       "20                                   53.434250   \n",
       "21                                   50.384831   \n",
       "22                                   57.431572   \n",
       "23                                   65.732699   \n",
       "24                                   74.577942   \n",
       "25                                   82.760618   \n",
       "26                                   93.142552   \n",
       "27                                   92.069855   \n",
       "28                                   85.456909   \n",
       "29                                   67.023515   \n",
       "30                                   68.539709   \n",
       "31                                   73.786003   \n",
       "32                                   68.612692   \n",
       "33                                   57.373403   \n",
       "34                                   55.497683   \n",
       "35                                   52.438207   \n",
       "36                                   44.210855   \n",
       "37                                   39.944520   \n",
       "38                                   41.760245   \n",
       "39                                   41.728357   \n",
       "40                                   42.409385   \n",
       "41                                   38.290936   \n",
       "42                                   38.773022   \n",
       "43                                   41.136985   \n",
       "44                                   41.840504   \n",
       "45                                   39.091142   \n",
       "46                                   42.798341   \n",
       "47                                   39.307771   \n",
       "48                                   15.173393   \n",
       "49                                   21.397649   \n",
       "50                                   30.278536   \n",
       "\n",
       "    RATIO OF GNP TO GDP (CURRENT PRICES) (unit %)  \\\n",
       "0                                             NaN   \n",
       "1                                             NaN   \n",
       "2                                             NaN   \n",
       "3                                             NaN   \n",
       "4                                             NaN   \n",
       "5                                             NaN   \n",
       "6                                             NaN   \n",
       "7                                             NaN   \n",
       "8                                             NaN   \n",
       "9                                             NaN   \n",
       "10                                     100.970874   \n",
       "11                                     100.806452   \n",
       "12                                     101.277511   \n",
       "13                                     100.679262   \n",
       "14                                     100.239106   \n",
       "15                                     101.215024   \n",
       "16                                     100.379781   \n",
       "17                                     100.806812   \n",
       "18                                     100.560899   \n",
       "19                                     100.652266   \n",
       "20                                     100.425851   \n",
       "21                                     100.073293   \n",
       "22                                      98.744422   \n",
       "23                                      98.262148   \n",
       "24                                      97.209611   \n",
       "25                                      97.469531   \n",
       "26                                      98.777066   \n",
       "27                                      98.329051   \n",
       "28                                      98.074784   \n",
       "29                                      95.677936   \n",
       "30                                      95.889274   \n",
       "31                                      96.705140   \n",
       "32                                      95.153919   \n",
       "33                                      95.908553   \n",
       "34                                      92.969919   \n",
       "35                                      93.418626   \n",
       "36                                      90.727176   \n",
       "37                                      91.245243   \n",
       "38                                      95.375796   \n",
       "39                                      95.504004   \n",
       "40                                      95.440232   \n",
       "41                                      95.634259   \n",
       "42                                      95.558349   \n",
       "43                                      96.193477   \n",
       "44                                      97.318560   \n",
       "45                                      97.059277   \n",
       "46                                      97.320154   \n",
       "47                                      97.075809   \n",
       "48                                      94.361101   \n",
       "49                                      92.792793   \n",
       "50                                      93.023256   \n",
       "\n",
       "    REAL GROSS DOMESTIC PRODUCT PER CAPITA (CURRENT PRICES) (unit $ CURRENT)  \n",
       "0                                                 NaN                         \n",
       "1                                                 NaN                         \n",
       "2                                                 NaN                         \n",
       "3                                                 NaN                         \n",
       "4                                                 NaN                         \n",
       "5                                                 NaN                         \n",
       "6                                                 NaN                         \n",
       "7                                                 NaN                         \n",
       "8                                                 NaN                         \n",
       "9                                                 NaN                         \n",
       "10                                         170.062972                         \n",
       "11                                         170.667181                         \n",
       "12                                         181.394139                         \n",
       "13                                         173.638372                         \n",
       "14                                         175.336121                         \n",
       "15                                         170.768317                         \n",
       "16                                         169.947870                         \n",
       "17                                         178.136260                         \n",
       "18                                         209.626310                         \n",
       "19                                         223.680973                         \n",
       "20                                         249.242629                         \n",
       "21                                         272.068219                         \n",
       "22                                         289.436806                         \n",
       "23                                         334.844211                         \n",
       "24                                         429.264551                         \n",
       "25                                         496.619660                         \n",
       "26                                         528.368993                         \n",
       "27                                         605.417433                         \n",
       "28                                         710.867137                         \n",
       "29                                         872.582790                         \n",
       "30                                        1113.202506                         \n",
       "31                                        1362.496392                         \n",
       "32                                        1437.959219                         \n",
       "33                                        1548.992936                         \n",
       "34                                        1670.904452                         \n",
       "35                                        1784.252451                         \n",
       "36                                        1796.425380                         \n",
       "37                                        1893.944276                         \n",
       "38                                        1975.905800                         \n",
       "39                                        2202.591422                         \n",
       "40                                        2507.340901                         \n",
       "41                                        2730.790761                         \n",
       "42                                        2940.683580                         \n",
       "43                                        3126.203625                         \n",
       "44                                        3355.214172                         \n",
       "45                                        3489.013586                         \n",
       "46                                        3891.209790                         \n",
       "47                                        4136.568304                         \n",
       "48                                        3910.016585                         \n",
       "49                                        3831.600211                         \n",
       "50                                        4035.268912                         "
      ]
     },
     "execution_count": 4,
     "metadata": {},
     "output_type": "execute_result"
    }
   ],
   "source": [
    "dataset"
   ]
  },
  {
   "cell_type": "markdown",
   "metadata": {
    "pycharm": {
     "name": "#%% md\n"
    }
   },
   "source": [
    "Plot the GDP as a function of year."
   ]
  },
  {
   "cell_type": "code",
   "execution_count": 5,
   "metadata": {
    "pycharm": {
     "name": "#%%\n"
    }
   },
   "outputs": [
    {
     "data": {
      "image/png": "[encoded data removed]",
      "text/plain": [
       "<Figure size 432x288 with 1 Axes>"
      ]
     },
     "metadata": {
      "needs_background": "light"
     },
     "output_type": "display_data"
    }
   ],
   "source": [
    "plt.plot(dataset[\"YEAR\"], dataset[\"REAL GROSS DOMESTIC PRODUCT PER CAPITA (CURRENT PRICES) (unit $ CURRENT)\"])\n",
    "plt.xlabel(\"Year\")\n",
    "plt.ylabel(\"GDP\")\n",
    "plt.title(\"The evolution of the Indonesian GDP from the 50's to the 00's\")\n",
    "plt.show()"
   ]
  },
  {
   "cell_type": "markdown",
   "metadata": {
    "pycharm": {
     "name": "#%% md\n"
    }
   },
   "source": [
    "Split the dataset into a matrix `X` for the features and a vector `y` for the labels."
   ]
  },
  {
   "cell_type": "code",
   "execution_count": 6,
   "metadata": {},
   "outputs": [
    {
     "name": "stdout",
     "output_type": "stream",
     "text": [
      "We have 41 data points and 17 features\n"
     ]
    }
   ],
   "source": [
    "ds = dataset.drop(columns=[\"YEAR\"])\n",
    "X, y = X_y_from_dataset(dataset.drop(columns=[\"YEAR\"]))\n",
    "print(\"We have\", X.shape[0], \"data points and\", X.shape[1], \"features\")"
   ]
  },
  {
   "cell_type": "code",
   "execution_count": 7,
   "metadata": {},
   "outputs": [
    {
     "data": {
      "text/plain": [
       "Index(['CGPD RELATIVE TO THE UNITED STATES (unit US=100)',\n",
       "       'CONSUMPTION SHARE OF CGPD (unit %)',\n",
       "       'CONSUMPTION SHARE OF RGDPL (unit %)', 'CURRENT SAVINGS (unit %)',\n",
       "       'EXCHANGE RATE (unit US=1)', 'GOVERNMENT SHARE OF CGDP (unit %)',\n",
       "       'GOVERNMENT SHARE OF RGDPL (unit %)',\n",
       "       'INVESTMENT SHARE OF CGDP (unit %)',\n",
       "       'INVESTMENT SHARE OF RGDPL (unit %)',\n",
       "       'OPENNESS IN CONSTANT PRICES (unit %)',\n",
       "       'OPENNESS IN CURRENT PRICES (unit %)', 'POPULATION (unit 000S)',\n",
       "       'PRICE LEVEL OF CONSUMPTION (unit PPP/XRATE)',\n",
       "       'PRICE LEVEL OF GOVERNMENT (unit PPP/XRATE)',\n",
       "       'PRICE LEVEL OF GROSS DOMESTIC PRODUCT (unit US=100)',\n",
       "       'PRICE LEVEL OF INVESTMENT (unit PPP/XRATE)',\n",
       "       'RATIO OF GNP TO GDP (CURRENT PRICES) (unit %)',\n",
       "       'REAL GROSS DOMESTIC PRODUCT PER CAPITA (CURRENT PRICES) (unit $ CURRENT)'],\n",
       "      dtype='object')"
      ]
     },
     "execution_count": 7,
     "metadata": {},
     "output_type": "execute_result"
    }
   ],
   "source": [
    "ds.columns"
   ]
  },
  {
   "cell_type": "markdown",
   "metadata": {
    "pycharm": {
     "name": "#%% md\n"
    }
   },
   "source": [
    "Verify whether there are highly correlated features."
   ]
  },
  {
   "cell_type": "code",
   "execution_count": 8,
   "metadata": {},
   "outputs": [
    {
     "data": {
      "image/png": "[encoded data removed]",
      "text/plain": [
       "<Figure size 432x288 with 2 Axes>"
      ]
     },
     "metadata": {
      "needs_background": "light"
     },
     "output_type": "display_data"
    },
    {
     "name": "stdout",
     "output_type": "stream",
     "text": [
      "CGPD RELATIVE TO THE UNITED STATES (unit US=100) is highly correlated with:  INVESTMENT SHARE OF CGDP (unit %), INVESTMENT SHARE OF RGDPL (unit %), POPULATION (unit 000S) \n",
      "\n",
      "CONSUMPTION SHARE OF CGPD (unit %) is highly correlated with:  CURRENT SAVINGS (unit %), INVESTMENT SHARE OF CGDP (unit %) \n",
      "\n",
      "CURRENT SAVINGS (unit %) is highly correlated with:  CONSUMPTION SHARE OF CGPD (unit %), INVESTMENT SHARE OF CGDP (unit %), INVESTMENT SHARE OF RGDPL (unit %) \n",
      "\n",
      "GOVERNMENT SHARE OF CGDP (unit %) is highly correlated with:  GOVERNMENT SHARE OF RGDPL (unit %) \n",
      "\n",
      "GOVERNMENT SHARE OF RGDPL (unit %) is highly correlated with:  GOVERNMENT SHARE OF CGDP (unit %) \n",
      "\n",
      "INVESTMENT SHARE OF CGDP (unit %) is highly correlated with:  CGPD RELATIVE TO THE UNITED STATES (unit US=100), CONSUMPTION SHARE OF CGPD (unit %), CURRENT SAVINGS (unit %), INVESTMENT SHARE OF RGDPL (unit %) \n",
      "\n",
      "INVESTMENT SHARE OF RGDPL (unit %) is highly correlated with:  CGPD RELATIVE TO THE UNITED STATES (unit US=100), CURRENT SAVINGS (unit %), INVESTMENT SHARE OF CGDP (unit %), POPULATION (unit 000S) \n",
      "\n",
      "OPENNESS IN CURRENT PRICES (unit %) is highly correlated with:  POPULATION (unit 000S) \n",
      "\n",
      "POPULATION (unit 000S) is highly correlated with:  CGPD RELATIVE TO THE UNITED STATES (unit US=100), INVESTMENT SHARE OF RGDPL (unit %), OPENNESS IN CURRENT PRICES (unit %) \n",
      "\n",
      "PRICE LEVEL OF CONSUMPTION (unit PPP/XRATE) is highly correlated with:  PRICE LEVEL OF GOVERNMENT (unit PPP/XRATE), PRICE LEVEL OF GROSS DOMESTIC PRODUCT (unit US=100), PRICE LEVEL OF INVESTMENT (unit PPP/XRATE) \n",
      "\n",
      "PRICE LEVEL OF GOVERNMENT (unit PPP/XRATE) is highly correlated with:  PRICE LEVEL OF CONSUMPTION (unit PPP/XRATE), PRICE LEVEL OF GROSS DOMESTIC PRODUCT (unit US=100), PRICE LEVEL OF INVESTMENT (unit PPP/XRATE) \n",
      "\n",
      "PRICE LEVEL OF GROSS DOMESTIC PRODUCT (unit US=100) is highly correlated with:  PRICE LEVEL OF CONSUMPTION (unit PPP/XRATE), PRICE LEVEL OF GOVERNMENT (unit PPP/XRATE), PRICE LEVEL OF INVESTMENT (unit PPP/XRATE) \n",
      "\n",
      "PRICE LEVEL OF INVESTMENT (unit PPP/XRATE) is highly correlated with:  PRICE LEVEL OF CONSUMPTION (unit PPP/XRATE), PRICE LEVEL OF GOVERNMENT (unit PPP/XRATE), PRICE LEVEL OF GROSS DOMESTIC PRODUCT (unit US=100) \n",
      "\n"
     ]
    }
   ],
   "source": [
    "correlation_matrix = np.abs(np.corrcoef(X, rowvar=False))\n",
    "\n",
    "sns.heatmap(correlation_matrix)\n",
    "plt.title(\"correlation matrix\")\n",
    "plt.show()\n",
    "\n",
    "mask = correlation_matrix > 0.8\n",
    "np.fill_diagonal(mask, False)\n",
    "for i, m in enumerate(mask): \n",
    "    if (sum(m) != 0):\n",
    "        print(ds.columns[i], \"is highly correlated with: \",\n",
    "              \", \".join(ds.columns[np.append(m, [False])]), \"\\n\")"
   ]
  },
  {
   "cell_type": "markdown",
   "metadata": {},
   "source": [
    "Plot the population evolution through time. It's clear they're highly correlated features."
   ]
  },
  {
   "cell_type": "code",
   "execution_count": 9,
   "metadata": {
    "pycharm": {
     "name": "#%%\n"
    }
   },
   "outputs": [
    {
     "data": {
      "text/plain": [
       "<AxesSubplot:xlabel='YEAR', ylabel='POPULATION (unit 000S)'>"
      ]
     },
     "execution_count": 9,
     "metadata": {},
     "output_type": "execute_result"
    },
    {
     "data": {
      "image/png": "[encoded data removed]",
      "text/plain": [
       "<Figure size 432x288 with 1 Axes>"
      ]
     },
     "metadata": {
      "needs_background": "light"
     },
     "output_type": "display_data"
    }
   ],
   "source": [
    "sns.lineplot(x=\"YEAR\", y=\"POPULATION (unit 000S)\", data=dataset)"
   ]
  },
  {
   "cell_type": "code",
   "execution_count": 10,
   "metadata": {
    "pycharm": {
     "name": "#%%\n"
    }
   },
   "outputs": [
    {
     "name": "stdout",
     "output_type": "stream",
     "text": [
      "The condition number is 1412337.5214179868\n"
     ]
    }
   ],
   "source": [
    "print(\"The condition number is\", condition_number(X))"
   ]
  },
  {
   "cell_type": "code",
   "execution_count": 11,
   "metadata": {
    "pycharm": {
     "name": "#%%\n"
    }
   },
   "outputs": [
    {
     "name": "stdout",
     "output_type": "stream",
     "text": [
      "The VIF is: [ 154.05892039  352.11852442   48.3992196   135.12507229   58.96771527\n",
      "  199.00790508  187.92924288  604.41314445 1044.75789812   17.14474442\n",
      "   20.74436827  226.36963116 1218.34324407   46.7707481  2107.30317543\n",
      "   56.00731037   14.29586349] \n",
      " The column with the highest VIF is PRICE LEVEL OF GOVERNMENT (unit PPP/XRATE)\n"
     ]
    }
   ],
   "source": [
    "VIF_X = VIF(X)\n",
    "print(\"The VIF is:\", VIF_X, \"\\n The column with the highest VIF is\", dataset.columns[np.argmax(VIF_X)])"
   ]
  },
  {
   "cell_type": "markdown",
   "metadata": {
    "pycharm": {
     "name": "#%% md\n"
    }
   },
   "source": [
    "The condition number, VIF and correlation matrix all tend to indicate that our data is kind off ill conditionned. We have to perform at least either some model selection, or filter out some predictors."
   ]
  },
  {
   "cell_type": "markdown",
   "metadata": {},
   "source": [
    "Now let us verify homoskedasticity with the Breusch–Pagan test. "
   ]
  },
  {
   "cell_type": "code",
   "execution_count": 12,
   "metadata": {},
   "outputs": [
    {
     "name": "stdout",
     "output_type": "stream",
     "text": [
      "No significant heteroskedasticity. because the p-value is:  0.2994293281659991\n"
     ]
    }
   ],
   "source": [
    "_, p_value, s = breusch_pagan_test(X, y)\n",
    "print(s, \"because the p-value is: \", p_value)"
   ]
  },
  {
   "cell_type": "markdown",
   "metadata": {
    "pycharm": {
     "name": "#%% md\n"
    }
   },
   "source": [
    "## The models"
   ]
  },
  {
   "cell_type": "markdown",
   "metadata": {
    "pycharm": {
     "name": "#%% md\n"
    }
   },
   "source": [
    "Split the data into 80% training and 20% testing sets."
   ]
  },
  {
   "cell_type": "code",
   "execution_count": 13,
   "metadata": {},
   "outputs": [],
   "source": [
    "X_train, X_test, y_train, y_test = train_test_split(X, y)\n",
    "year = dataset.dropna()[\"YEAR\"]"
   ]
  },
  {
   "cell_type": "markdown",
   "metadata": {
    "pycharm": {
     "name": "#%% md\n"
    }
   },
   "source": [
    "### Least Squares"
   ]
  },
  {
   "cell_type": "markdown",
   "metadata": {
    "pycharm": {
     "name": "#%% md\n"
    },
    "scrolled": true
   },
   "source": [
    "Train with the least squares estimator."
   ]
  },
  {
   "cell_type": "code",
   "execution_count": 14,
   "metadata": {
    "pycharm": {
     "name": "#%%\n"
    }
   },
   "outputs": [
    {
     "data": {
      "text/plain": [
       "1"
      ]
     },
     "execution_count": 14,
     "metadata": {},
     "output_type": "execute_result"
    },
    {
     "data": {
      "image/png": "[encoded data removed]",
      "text/plain": [
       "<Figure size 432x288 with 1 Axes>"
      ]
     },
     "metadata": {
      "needs_background": "light"
     },
     "output_type": "display_data"
    }
   ],
   "source": [
    "# Degree of zero means we leave the data set the way it is degree of 1 means we simply add a bias degree > 1\n",
    "# We compute the polynomial expansion associated with that degree.\n",
    "d = degree_cross_val(X_train, y_train, 10)\n",
    "d"
   ]
  },
  {
   "cell_type": "markdown",
   "metadata": {
    "pycharm": {
     "name": "#%% md\n"
    }
   },
   "source": [
    "Augment the dataset."
   ]
  },
  {
   "cell_type": "code",
   "execution_count": 15,
   "metadata": {},
   "outputs": [],
   "source": [
    "# We split the dataset as instructed: the first 80% as train and the next 20% as test.\n",
    "X_ls = build_poly(X, d)\n",
    "X_train_ls, X_test_ls, _, _ = train_test_split(X_ls, y)"
   ]
  },
  {
   "cell_type": "code",
   "execution_count": 16,
   "metadata": {},
   "outputs": [],
   "source": [
    "LS_w = least_squares(X_train_ls, y_train)\n",
    "\n",
    "LS_prediction_data = predict(X_ls, LS_w)\n",
    "LS_prediction_test = predict(X_test_ls, LS_w)"
   ]
  },
  {
   "cell_type": "code",
   "execution_count": 17,
   "metadata": {},
   "outputs": [
    {
     "name": "stdout",
     "output_type": "stream",
     "text": [
      "Testing R^2:  -1.397911892307067 \n",
      "Full data R^2: 0.9535143994461232\n"
     ]
    }
   ],
   "source": [
    "print(\"Testing R^2: \", R_squared(y_test, LS_prediction_test),\n",
    "      \"\\nFull data R^2:\", R_squared(y, LS_prediction_data))"
   ]
  },
  {
   "cell_type": "code",
   "execution_count": 18,
   "metadata": {
    "pycharm": {
     "name": "#%%\n"
    }
   },
   "outputs": [
    {
     "name": "stdout",
     "output_type": "stream",
     "text": [
      "Full data adjusted R^2: 0.9191554772976055\n"
     ]
    }
   ],
   "source": [
    "print(\"Full data adjusted R^2:\", adjusted_R_squared(y, LS_prediction_data, X.shape[1]))"
   ]
  },
  {
   "cell_type": "code",
   "execution_count": 19,
   "metadata": {},
   "outputs": [
    {
     "name": "stdout",
     "output_type": "stream",
     "text": [
      "Testing RMSE:  617.7400049710559 \n",
      "Full data RMSE: 290.46100439515055\n",
      "This implies only 0.169938184407162 error rate on the test and 0.07990483914070833 on the full dataset\n"
     ]
    }
   ],
   "source": [
    "print(\"Testing RMSE: \", RMSE(y_test, LS_prediction_test),\n",
    "      \"\\nFull data RMSE:\", RMSE(y, LS_prediction_data))\n",
    "\n",
    "tot = np.mean(y_test)\n",
    "\n",
    "print(\"This implies only\", RMSE(y_test, LS_prediction_test)/tot, \"error rate on the test and\", RMSE(y, LS_prediction_data)/tot, \"on the full dataset\")"
   ]
  },
  {
   "cell_type": "code",
   "execution_count": 20,
   "metadata": {},
   "outputs": [
    {
     "data": {
      "text/plain": [
       "0.16892401989289169"
      ]
     },
     "execution_count": 20,
     "metadata": {},
     "output_type": "execute_result"
    }
   ],
   "source": [
    "theil_U(y_test, LS_prediction_test)"
   ]
  },
  {
   "cell_type": "markdown",
   "metadata": {},
   "source": [
    "Compute the CI for the coefficients."
   ]
  },
  {
   "cell_type": "code",
   "execution_count": 21,
   "metadata": {
    "pycharm": {
     "name": "#%%\n"
    }
   },
   "outputs": [],
   "source": [
    "X_for_var, w_for_var = (X_ls[:, 1:], LS_w[1:]) if d > 0 else (X, LS_w)\n",
    "var = variance_least_squares_weights(X_for_var, y, LS_prediction_data)\n",
    "lower_CI, upper_CI = confidence_interval(X_for_var.shape[0], X_for_var.shape[1], w_for_var, var)"
   ]
  },
  {
   "cell_type": "markdown",
   "metadata": {
    "pycharm": {
     "name": "#%% md\n"
    }
   },
   "source": [
    "Plot the coefficients with their CI intervals."
   ]
  },
  {
   "cell_type": "code",
   "execution_count": 22,
   "metadata": {},
   "outputs": [
    {
     "data": {
      "image/png": "[encoded data removed]",
      "text/plain": [
       "<Figure size 1080x576 with 1 Axes>"
      ]
     },
     "metadata": {
      "needs_background": "light"
     },
     "output_type": "display_data"
    }
   ],
   "source": [
    "plt.figure(figsize=(15,8))\n",
    "plt.errorbar(np.arange(X_for_var.shape[1]), w_for_var,\n",
    "             yerr=np.vstack([np.squeeze(w_for_var-lower_CI), np.squeeze(upper_CI-w_for_var)]),\n",
    "             fmt=\".\", ecolor='orange', lolims=True, uplims=True, label=\"Coefficients\")\n",
    "plt.xticks(np.arange(X.shape[1]), [\"β\"+str(i) for i in np.arange(X_for_var.shape[1])])\n",
    "plt.title(\"95% CI around the regression coefficients\")\n",
    "plt.xlabel(\"The model coefficients\")\n",
    "plt.legend()\n",
    "plt.grid(which='both', linestyle='-.', linewidth=0.5)\n",
    "plt.show()"
   ]
  },
  {
   "cell_type": "markdown",
   "metadata": {
    "pycharm": {
     "name": "#%% md\n"
    }
   },
   "source": [
    "Compute the CI for the predictions."
   ]
  },
  {
   "cell_type": "code",
   "execution_count": 23,
   "metadata": {
    "scrolled": false
   },
   "outputs": [],
   "source": [
    "var_ = variance_least_squares_line(X_for_var, y, LS_prediction_data)\n",
    "lower_CI_line, upper_CI_line = confidence_interval(X_for_var.shape[0], X_for_var.shape[1], LS_prediction_data,\n",
    "                                                   var_)"
   ]
  },
  {
   "cell_type": "markdown",
   "metadata": {},
   "source": [
    "Plot the CI for the predictions."
   ]
  },
  {
   "cell_type": "code",
   "execution_count": 24,
   "metadata": {},
   "outputs": [
    {
     "data": {
      "image/png": "[encoded data removed]",
      "text/plain": [
       "<Figure size 1080x576 with 1 Axes>"
      ]
     },
     "metadata": {
      "needs_background": "light"
     },
     "output_type": "display_data"
    }
   ],
   "source": [
    "plt.figure(figsize=(15,8))\n",
    "plt.scatter(year, y, label=\"GDP\")\n",
    "plt.plot(year, LS_prediction_data, color=\"g\", lw=1, ls='--', label=\"Prediction using least squares\")\n",
    "plt.gca().fill_between(year, np.squeeze(lower_CI_line), np.squeeze(upper_CI_line),\n",
    "                       label=\"95% CI\",\n",
    "                       #color=\"#b9cfe7\",\n",
    "                       color=\"orange\",\n",
    "                       alpha=0.5,\n",
    "                       edgecolor=None)\n",
    "plt.xlabel(\"Year\")\n",
    "plt.ylabel(\"GDP\")\n",
    "plt.title(\"GDP prediction as a function of Year\")\n",
    "plt.legend()\n",
    "plt.show()"
   ]
  },
  {
   "cell_type": "markdown",
   "metadata": {
    "pycharm": {
     "name": "#%% md\n"
    }
   },
   "source": [
    "### Ridge Regression"
   ]
  },
  {
   "cell_type": "markdown",
   "metadata": {
    "pycharm": {
     "name": "#%% md\n"
    }
   },
   "source": [
    "Train the ridge regression model."
   ]
  },
  {
   "cell_type": "code",
   "execution_count": 25,
   "metadata": {},
   "outputs": [
    {
     "name": "stdout",
     "output_type": "stream",
     "text": [
      "The optimal hyper-parameters for the polynomial expansion and l2 regularization term are respectively: 0.73 2\n"
     ]
    }
   ],
   "source": [
    "lambda_r, d_r = cross_val_ridge(X_train, y_train, plot=False)\n",
    "X_rr = build_poly(X, d_r)\n",
    "X_train_rr, X_test_rr, _, _ = train_test_split(X_rr, y)\n",
    "print(\"The optimal hyper-parameters for the polynomial expansion and l2 regularization term are respectively:\",\n",
    "      lambda_r, d_r)"
   ]
  },
  {
   "cell_type": "code",
   "execution_count": 26,
   "metadata": {
    "pycharm": {
     "name": "#%%\n"
    }
   },
   "outputs": [],
   "source": [
    "Ridge_w = ridge_regression(X_train_rr, y_train, lambda_r)\n",
    "Ridge_prediction_data = predict(X_rr, Ridge_w)\n",
    "Ridge_prediction_test = predict(X_test_rr, Ridge_w)"
   ]
  },
  {
   "cell_type": "code",
   "execution_count": 27,
   "metadata": {
    "pycharm": {
     "name": "#%%\n"
    }
   },
   "outputs": [
    {
     "name": "stdout",
     "output_type": "stream",
     "text": [
      "Testing R^2:  -4.309421682982658 \n",
      "Full data R^2: 0.8977888915057016\n"
     ]
    }
   ],
   "source": [
    "print(\"Testing R^2: \", R_squared(y_test, Ridge_prediction_test),\n",
    "      \"\\nFull data R^2:\", R_squared(y, Ridge_prediction_data))"
   ]
  },
  {
   "cell_type": "code",
   "execution_count": 28,
   "metadata": {
    "pycharm": {
     "name": "#%%\n"
    }
   },
   "outputs": [
    {
     "name": "stdout",
     "output_type": "stream",
     "text": [
      "Full data adjusted R^2: 0.182311132045613\n"
     ]
    }
   ],
   "source": [
    "print(\"Full data adjusted R^2:\", adjusted_R_squared(y, Ridge_prediction_data, X_rr.shape[1]))"
   ]
  },
  {
   "cell_type": "code",
   "execution_count": 29,
   "metadata": {},
   "outputs": [
    {
     "name": "stdout",
     "output_type": "stream",
     "text": [
      "Testing RMSE:  919.2057365463775 \n",
      "Full data RMSE: 430.70276607973835\n",
      "This implies only 0.252870386745729 error rate on the test and 0.11848487308210315 on the full dataset\n"
     ]
    }
   ],
   "source": [
    "print(\"Testing RMSE: \", RMSE(y_test, Ridge_prediction_test),\n",
    "      \"\\nFull data RMSE:\", RMSE(y, Ridge_prediction_data))\n",
    "\n",
    "print(\"This implies only\", RMSE(y_test, Ridge_prediction_test)/tot, \"error rate on the test and\", RMSE(y, Ridge_prediction_data)/tot, \"on the full dataset\")"
   ]
  },
  {
   "cell_type": "code",
   "execution_count": 30,
   "metadata": {},
   "outputs": [
    {
     "name": "stdout",
     "output_type": "stream",
     "text": [
      "0.251361295814565\n"
     ]
    }
   ],
   "source": [
    "print(theil_U(y_test, Ridge_prediction_test))"
   ]
  },
  {
   "cell_type": "code",
   "execution_count": 31,
   "metadata": {
    "pycharm": {
     "name": "#%%\n"
    }
   },
   "outputs": [],
   "source": [
    "X_for_var_rr, w_for_var_rr = (X_rr[:, 1:], Ridge_w[1:]) if d_r > 0 else (X, Ridge_w)\n",
    "var = variance_least_squares_weights(X_for_var_rr, y, Ridge_prediction_data)\n",
    "lower_CI_r, upper_CI_r = confidence_interval(X_for_var_rr.shape[0], X_for_var_rr.shape[1], w_for_var_rr, var)"
   ]
  },
  {
   "cell_type": "markdown",
   "metadata": {
    "pycharm": {
     "name": "#%% md\n"
    }
   },
   "source": [
    "Plot the coefficients with their CI intervals."
   ]
  },
  {
   "cell_type": "code",
   "execution_count": 32,
   "metadata": {},
   "outputs": [
    {
     "data": {
      "image/png": "[encoded data removed]",
      "text/plain": [
       "<Figure size 1080x576 with 1 Axes>"
      ]
     },
     "metadata": {
      "needs_background": "light"
     },
     "output_type": "display_data"
    }
   ],
   "source": [
    "plt.figure(figsize=(15,8))\n",
    "\n",
    "plt.errorbar(np.arange(X_for_var_rr.shape[1]), w_for_var_rr,\n",
    "             yerr=np.vstack([np.squeeze(w_for_var_rr-lower_CI_r), np.squeeze(upper_CI_r-w_for_var_rr)]),\n",
    "             fmt=\".\", ecolor='orange', lolims=True, uplims=True, label=\"Coefficients\")\n",
    "\n",
    "plt.xticks(np.arange(X_for_var_rr.shape[1]), [\"β\"+str(i) for i in np.arange(X_for_var_rr.shape[1])])\n",
    "\n",
    "plt.title(\"95% CI around the regression coefficients\")\n",
    "plt.xlabel(\"The model coefficients\")\n",
    "plt.legend()\n",
    "plt.grid(which='both', linestyle='-.', linewidth=0.5)\n",
    "plt.show()"
   ]
  },
  {
   "cell_type": "markdown",
   "metadata": {
    "pycharm": {
     "name": "#%% md\n"
    }
   },
   "source": [
    "Compute the CI for the predictions."
   ]
  },
  {
   "cell_type": "code",
   "execution_count": 33,
   "metadata": {},
   "outputs": [],
   "source": [
    "var_ = variance_least_squares_line(X_for_var_rr, y, Ridge_prediction_data)\n",
    "lower_CI_line_r, upper_CI_line_r = confidence_interval(X_for_var_rr.shape[0], X_for_var_rr.shape[1], Ridge_prediction_data, var_)"
   ]
  },
  {
   "cell_type": "markdown",
   "metadata": {
    "pycharm": {
     "name": "#%% md\n"
    },
    "scrolled": true
   },
   "source": [
    "Plot the CI for the predictions."
   ]
  },
  {
   "cell_type": "code",
   "execution_count": 34,
   "metadata": {},
   "outputs": [
    {
     "data": {
      "image/png": "[encoded data removed]",
      "text/plain": [
       "<Figure size 1080x576 with 1 Axes>"
      ]
     },
     "metadata": {
      "needs_background": "light"
     },
     "output_type": "display_data"
    }
   ],
   "source": [
    "plt.figure(figsize=(15,8))\n",
    "plt.scatter(year, y, label=\"GDP\")\n",
    "plt.plot(year, Ridge_prediction_data, color=\"g\", lw=1, ls='--', label=\"Prediction using ridge regression\")\n",
    "plt.gca().fill_between(year, np.squeeze(lower_CI_line_r), np.squeeze(upper_CI_line_r),\n",
    "                       label=\"95% CI\",\n",
    "                       #color=\"#b9cfe7\",\n",
    "                       color=\"orange\",\n",
    "                       alpha=0.5,\n",
    "                       edgecolor=None)\n",
    "plt.xlabel(\"Year\")\n",
    "plt.ylabel(\"GDP\")\n",
    "plt.title(\"GDP prediction as a function of Year\")\n",
    "plt.legend()\n",
    "plt.show()"
   ]
  },
  {
   "cell_type": "markdown",
   "metadata": {
    "pycharm": {
     "name": "#%% md\n"
    }
   },
   "source": [
    "### Subset selection"
   ]
  },
  {
   "cell_type": "markdown",
   "metadata": {},
   "source": [
    "Find the optimal combination of features in terms of $r^2$."
   ]
  },
  {
   "cell_type": "code",
   "execution_count": 35,
   "metadata": {
    "pycharm": {
     "name": "#%%\n"
    }
   },
   "outputs": [],
   "source": [
    "scores, subsets = best_subset_ls(X_train, y_train)"
   ]
  },
  {
   "cell_type": "code",
   "execution_count": 36,
   "metadata": {
    "pycharm": {
     "name": "#%%\n"
    }
   },
   "outputs": [
    {
     "name": "stdout",
     "output_type": "stream",
     "text": [
      "Best performance on the test:  0.997861422546142 the subset is:  (0, 2, 5, 6, 7, 9, 12, 14, 15)\n",
      "This corresponds to the following variables:\n",
      "\t- YEAR\n",
      "\t- CONSUMPTION SHARE OF CGPD (unit %)\n",
      "\t- EXCHANGE RATE (unit US=1)\n",
      "\t- GOVERNMENT SHARE OF CGDP (unit %)\n",
      "\t- GOVERNMENT SHARE OF RGDPL (unit %)\n",
      "\t- INVESTMENT SHARE OF RGDPL (unit %)\n",
      "\t- POPULATION (unit 000S)\n",
      "\t- PRICE LEVEL OF GOVERNMENT (unit PPP/XRATE)\n",
      "\t- PRICE LEVEL OF GROSS DOMESTIC PRODUCT (unit US=100)\n"
     ]
    }
   ],
   "source": [
    "i = np.argmax(scores)\n",
    "sub = subsets[i]\n",
    "variables = \"\\n\\t- \".join(dataset.columns[list(sub)])\n",
    "print(\"Best performance on the test: \", scores[i], \"the subset is: \", sub)\n",
    "print(\"This corresponds to the following variables:\\n\\t- \" + variables)"
   ]
  },
  {
   "cell_type": "code",
   "execution_count": 37,
   "metadata": {
    "pycharm": {
     "name": "#%%\n"
    }
   },
   "outputs": [],
   "source": [
    "X_ss = X[:, sub]\n",
    "X_train_ss, X_test_ss, _, _ = train_test_split(X_ss, y)"
   ]
  },
  {
   "cell_type": "markdown",
   "metadata": {},
   "source": [
    "Compute lest squares estimator using subset of features."
   ]
  },
  {
   "cell_type": "code",
   "execution_count": 40,
   "metadata": {
    "pycharm": {
     "name": "#%%\n"
    }
   },
   "outputs": [
    {
     "data": {
      "image/png": "[encoded data removed]",
      "text/plain": [
       "<Figure size 432x288 with 1 Axes>"
      ]
     },
     "metadata": {
      "needs_background": "light"
     },
     "output_type": "display_data"
    }
   ],
   "source": [
    "d_ss = degree_cross_val(X_train_ss, y_train, 10)\n",
    "X_ls_ss = build_poly(X_ss, d_ss)\n",
    "X_train_ls_ss, X_test_ls_ss, _, _ = train_test_split(X_ls_ss, y)"
   ]
  },
  {
   "cell_type": "code",
   "execution_count": 41,
   "metadata": {
    "pycharm": {
     "name": "#%%\n"
    }
   },
   "outputs": [],
   "source": [
    "LS_w_ss = least_squares(X_train_ls_ss, y_train)\n",
    "\n",
    "LS_ss_prediction_data = predict(X_ls_ss, LS_w_ss)\n",
    "LS_ss_prediction_test = predict(X_test_ls_ss, LS_w_ss)"
   ]
  },
  {
   "cell_type": "code",
   "execution_count": 42,
   "metadata": {
    "pycharm": {
     "name": "#%%\n"
    }
   },
   "outputs": [
    {
     "name": "stdout",
     "output_type": "stream",
     "text": [
      "Testing R^2:   -1.3389558483027146 \n",
      "Full data R^2: 0.9542306158692097\n"
     ]
    }
   ],
   "source": [
    "print(\"Testing R^2:  \", R_squared(y_test, LS_ss_prediction_test),\n",
    "      \"\\nFull data R^2:\", R_squared(y, LS_ss_prediction_data))"
   ]
  },
  {
   "cell_type": "code",
   "execution_count": 43,
   "metadata": {
    "pycharm": {
     "name": "#%%\n"
    }
   },
   "outputs": [
    {
     "name": "stdout",
     "output_type": "stream",
     "text": [
      "Full data adjusted R^2: 0.9204010710768864\n"
     ]
    }
   ],
   "source": [
    "print(\"Full data adjusted R^2:\", adjusted_R_squared(y, LS_ss_prediction_data, X.shape[1]))"
   ]
  },
  {
   "cell_type": "code",
   "execution_count": 44,
   "metadata": {},
   "outputs": [
    {
     "name": "stdout",
     "output_type": "stream",
     "text": [
      "Testing RMSE:  610.0987404604981 \n",
      "Full data RMSE: 288.2147122384655\n",
      "This implies only 0.1678360984048803 error rate on the test and 0.07928689177177761 on the full dataset\n"
     ]
    }
   ],
   "source": [
    "print(\"Testing RMSE: \", RMSE(y_test, LS_ss_prediction_test),\n",
    "      \"\\nFull data RMSE:\", RMSE(y, LS_ss_prediction_data))\n",
    "\n",
    "print(\"This implies only\", RMSE(y_test, LS_ss_prediction_test)/tot, \"error rate on the test and\", RMSE(y, LS_ss_prediction_data)/tot, \"on the full dataset\")"
   ]
  },
  {
   "cell_type": "code",
   "execution_count": 45,
   "metadata": {},
   "outputs": [
    {
     "data": {
      "text/plain": [
       "0.1668344788112051"
      ]
     },
     "execution_count": 45,
     "metadata": {},
     "output_type": "execute_result"
    }
   ],
   "source": [
    "theil_U(y_test, LS_ss_prediction_test)"
   ]
  },
  {
   "cell_type": "code",
   "execution_count": 46,
   "metadata": {},
   "outputs": [
    {
     "data": {
      "image/png": "[encoded data removed]",
      "text/plain": [
       "<Figure size 1080x576 with 1 Axes>"
      ]
     },
     "metadata": {
      "needs_background": "light"
     },
     "output_type": "display_data"
    }
   ],
   "source": [
    "X_for_var_ls_ss, w_for_var_ls_ss = (X_ls_ss[:, 1:], LS_w_ss[1:]) if d_ss > 0 else (X_ls_ss, LS_w_ss)\n",
    "var_ = variance_least_squares_line(X_for_var_ls_ss, y, LS_ss_prediction_data)\n",
    "lower_CI_line_ls_ss, upper_CI_line_ls_ss = confidence_interval(X_for_var_ls_ss.shape[0], X_for_var_ls_ss.shape[1], LS_ss_prediction_data, var_)\n",
    "plt.figure(figsize=(15,8))\n",
    "plt.scatter(year, y, label=\"GDP\")\n",
    "plt.plot(year, LS_ss_prediction_data, color=\"g\", lw=1, ls='--', label=\"Prediction using ridge regression\")\n",
    "plt.gca().fill_between(year, np.squeeze(lower_CI_line_ls_ss), np.squeeze(upper_CI_line_ls_ss),\n",
    "                       label=\"95% CI\",\n",
    "                       #color=\"#b9cfe7\",\n",
    "                       color=\"orange\",\n",
    "                       alpha=0.5,\n",
    "                       edgecolor=None)\n",
    "plt.xlabel(\"Year\")\n",
    "plt.ylabel(\"GDP\")\n",
    "plt.title(\"GDP prediction as a function of Year\")\n",
    "plt.legend()\n",
    "plt.show()"
   ]
  },
  {
   "cell_type": "code",
   "execution_count": 47,
   "metadata": {
    "pycharm": {
     "name": "#%%\n"
    }
   },
   "outputs": [
    {
     "name": "stdout",
     "output_type": "stream",
     "text": [
      "The optimal hyper-parameters for the polynomial expansion and l2 regularization term are respectively: 0.42 2\n"
     ]
    }
   ],
   "source": [
    "lambda_r_ss, d_r_ss = cross_val_ridge(X_train_ss, y_train, max_lambda=2, plot=False)\n",
    "print(\"The optimal hyper-parameters for the polynomial expansion and l2 regularization term are respectively:\",\n",
    "      lambda_r_ss, d_r_ss)"
   ]
  },
  {
   "cell_type": "code",
   "execution_count": 48,
   "metadata": {
    "pycharm": {
     "name": "#%%\n"
    }
   },
   "outputs": [],
   "source": [
    "X_r_ss = build_poly(X_ss, d_ss)\n",
    "X_train_r_ss, X_test_r_ss, _, _ = train_test_split(X_r_ss, y)"
   ]
  },
  {
   "cell_type": "code",
   "execution_count": 49,
   "metadata": {
    "pycharm": {
     "name": "#%%\n"
    }
   },
   "outputs": [],
   "source": [
    "Ridge_w_lambda_ss = ridge_regression(X_train_r_ss, y_train, lambda_r_ss)\n",
    "\n",
    "Ridge_prediction_lambda_ss_data = predict(X_r_ss, Ridge_w_lambda_ss)\n",
    "Ridge_prediction_lambda_ss_test = predict(X_test_r_ss, Ridge_w_lambda_ss)"
   ]
  },
  {
   "cell_type": "code",
   "execution_count": 50,
   "metadata": {
    "pycharm": {
     "name": "#%%\n"
    }
   },
   "outputs": [
    {
     "name": "stdout",
     "output_type": "stream",
     "text": [
      "Testing R^2:  -2.8250262799254373 \n",
      "Full data R^2: 0.9253798499255848\n"
     ]
    }
   ],
   "source": [
    "print(\"Testing R^2: \", R_squared(y_test, Ridge_prediction_lambda_ss_test),\n",
    "      \"\\nFull data R^2:\", R_squared(y, Ridge_prediction_lambda_ss_data))"
   ]
  },
  {
   "cell_type": "code",
   "execution_count": 51,
   "metadata": {
    "pycharm": {
     "name": "#%%\n"
    }
   },
   "outputs": [
    {
     "name": "stdout",
     "output_type": "stream",
     "text": [
      "Full data adjusted R^2: 0.8702258259575387\n"
     ]
    }
   ],
   "source": [
    "print(\"Full data adjusted R^2:\", adjusted_R_squared(y, Ridge_prediction_lambda_ss_data, X.shape[1]))"
   ]
  },
  {
   "cell_type": "code",
   "execution_count": 52,
   "metadata": {},
   "outputs": [
    {
     "name": "stdout",
     "output_type": "stream",
     "text": [
      "Testing RMSE:  780.2006865445742 \n",
      "Full data RMSE: 368.00750097384343\n",
      "This implies only 0.2146305680021784 error rate on the test and 0.10123761786585617 on the full dataset\n"
     ]
    }
   ],
   "source": [
    "print(\"Testing RMSE: \", RMSE(y_test, Ridge_prediction_lambda_ss_test),\n",
    "      \"\\nFull data RMSE:\", RMSE(y, Ridge_prediction_lambda_ss_data))\n",
    "\n",
    "print(\"This implies only\", RMSE(y_test, Ridge_prediction_lambda_ss_test)/tot, \"error rate on the test and\", RMSE(y, Ridge_prediction_lambda_ss_data)/tot, \"on the full dataset\")"
   ]
  },
  {
   "cell_type": "code",
   "execution_count": 53,
   "metadata": {},
   "outputs": [
    {
     "name": "stdout",
     "output_type": "stream",
     "text": [
      "0.21334968633038204\n"
     ]
    }
   ],
   "source": [
    "print(theil_U(y_test, Ridge_prediction_lambda_ss_test))"
   ]
  },
  {
   "cell_type": "code",
   "execution_count": 54,
   "metadata": {},
   "outputs": [
    {
     "data": {
      "image/png": "[encoded data removed]",
      "text/plain": [
       "<Figure size 1080x576 with 1 Axes>"
      ]
     },
     "metadata": {
      "needs_background": "light"
     },
     "output_type": "display_data"
    }
   ],
   "source": [
    "X_for_var_r_ss, w_for_var_r_ss = (X_r_ss[:, 1:], Ridge_w_lambda_ss[1:]) if d_r_ss > 0 else (X_r_ss, Ridge_w_lambda_ss)\n",
    "var_ = variance_least_squares_line(X_for_var_r_ss, y, Ridge_prediction_lambda_ss_data)\n",
    "lower_CI_line_r_ss, upper_CI_line_r_ss = confidence_interval(X_for_var_r_ss.shape[0], X_for_var_r_ss.shape[1], Ridge_prediction_lambda_ss_data, var_)\n",
    "plt.figure(figsize=(15,8))\n",
    "plt.scatter(year, y, label=\"GDP\")\n",
    "plt.plot(year, Ridge_prediction_lambda_ss_data, color=\"g\", lw=1, ls='--', label=\"Prediction using ridge regression\")\n",
    "plt.gca().fill_between(year, np.squeeze(lower_CI_line_r_ss), np.squeeze(upper_CI_line_r_ss),\n",
    "                       label=\"95% CI\",\n",
    "                       #color=\"#b9cfe7\",\n",
    "                       color=\"orange\",\n",
    "                       alpha=0.5,\n",
    "                       edgecolor=None)\n",
    "plt.xlabel(\"Year\")\n",
    "plt.ylabel(\"GDP\")\n",
    "plt.title(\"GDP prediction as a function of Year\")\n",
    "plt.legend()\n",
    "plt.show()"
   ]
  },
  {
   "cell_type": "markdown",
   "metadata": {},
   "source": [
    "### General to simple"
   ]
  },
  {
   "cell_type": "code",
   "execution_count": 55,
   "metadata": {},
   "outputs": [],
   "source": [
    "idx = general_to_simple(X_train, y_train)"
   ]
  },
  {
   "cell_type": "code",
   "execution_count": 56,
   "metadata": {},
   "outputs": [],
   "source": [
    "X_g2s = X[:, idx]\n",
    "X_train_g2s, X_test_g2s, _, _ = train_test_split(X_ss, y)"
   ]
  },
  {
   "cell_type": "code",
   "execution_count": 57,
   "metadata": {},
   "outputs": [
    {
     "data": {
      "image/png": "[encoded data removed]",
      "text/plain": [
       "<Figure size 432x288 with 1 Axes>"
      ]
     },
     "metadata": {
      "needs_background": "light"
     },
     "output_type": "display_data"
    }
   ],
   "source": [
    "d_g2s = degree_cross_val(X_train_g2s, y_train, 10)\n",
    "X_ls_g2s = build_poly(X_g2s, d_g2s)\n",
    "X_train_ls_g2s, X_test_ls_g2s, _, _ = train_test_split(X_ls_g2s, y)"
   ]
  },
  {
   "cell_type": "code",
   "execution_count": 58,
   "metadata": {},
   "outputs": [],
   "source": [
    "LS_w_g2s = least_squares(X_train_ls_g2s, y_train)\n",
    "\n",
    "LS_g2s_prediction_data = predict(X_ls_g2s, LS_w_g2s)\n",
    "LS_g2s_prediction_test = predict(X_test_ls_g2s, LS_w_g2s)"
   ]
  },
  {
   "cell_type": "code",
   "execution_count": 59,
   "metadata": {},
   "outputs": [
    {
     "name": "stdout",
     "output_type": "stream",
     "text": [
      "Testing R^2:   0.16452358765511144 \n",
      "Full data R^2: 0.983500669556891\n"
     ]
    }
   ],
   "source": [
    "print(\"Testing R^2:  \", R_squared(y_test, LS_g2s_prediction_test),\n",
    "      \"\\nFull data R^2:\", R_squared(y, LS_g2s_prediction_data))"
   ]
  },
  {
   "cell_type": "code",
   "execution_count": 60,
   "metadata": {},
   "outputs": [
    {
     "name": "stdout",
     "output_type": "stream",
     "text": [
      "Full data adjusted R^2: 0.9713055122728539\n"
     ]
    }
   ],
   "source": [
    "print(\"Full data adjusted R^2:\", adjusted_R_squared(y, LS_g2s_prediction_data, X.shape[1]))"
   ]
  },
  {
   "cell_type": "code",
   "execution_count": 61,
   "metadata": {},
   "outputs": [
    {
     "name": "stdout",
     "output_type": "stream",
     "text": [
      "Testing RMSE:  364.6332035596531 \n",
      "Full data RMSE: 173.04608252341833\n",
      "This implies only 0.10030936006872006 error rate on the test and 0.04760439156628605 on the full dataset\n"
     ]
    }
   ],
   "source": [
    "print(\"Testing RMSE: \", RMSE(y_test, LS_g2s_prediction_test),\n",
    "      \"\\nFull data RMSE:\", RMSE(y, LS_g2s_prediction_data))\n",
    "\n",
    "print(\"This implies only\", RMSE(y_test, LS_g2s_prediction_test)/tot, \"error rate on the test and\", RMSE(y, LS_g2s_prediction_data)/tot, \"on the full dataset\")"
   ]
  },
  {
   "cell_type": "code",
   "execution_count": 62,
   "metadata": {},
   "outputs": [
    {
     "data": {
      "text/plain": [
       "0.09971072949145604"
      ]
     },
     "execution_count": 62,
     "metadata": {},
     "output_type": "execute_result"
    }
   ],
   "source": [
    "theil_U(y_test, LS_g2s_prediction_test)"
   ]
  },
  {
   "cell_type": "code",
   "execution_count": 63,
   "metadata": {},
   "outputs": [
    {
     "name": "stdout",
     "output_type": "stream",
     "text": [
      "aic is equal to [[10.89248172]]\n",
      "bic is equal to [[11.39401501]]\n"
     ]
    }
   ],
   "source": [
    "## AIC\n",
    "e = y - LS_g2s_prediction_data\n",
    "n = len(e)\n",
    "n_features=int(np.size(idx))\n",
    "aic=np.log(np.dot(e.T, e) / n) + 2 * n_features / n\n",
    "## BIC\n",
    "bic=np.log(np.dot(e.T, e) / n) + n_features * np.log(n) / n\n",
    "print('aic is equal to',aic)\n",
    "print('bic is equal to',bic)"
   ]
  },
  {
   "cell_type": "code",
   "execution_count": 64,
   "metadata": {},
   "outputs": [
    {
     "name": "stdout",
     "output_type": "stream",
     "text": [
      "b'/home/ayman/Documents/ma1/econometrics/GDP/notebooks'\n"
     ]
    }
   ],
   "source": [
    "from importlib import reload\n",
    "print(os.getcwdb())\n",
    "#os.chdir(\"econometrics/GDP/src\")\n",
    "#reload(statistical_analysis)\n",
    "os.chdir(\"../notebooks\")"
   ]
  },
  {
   "cell_type": "code",
   "execution_count": 65,
   "metadata": {},
   "outputs": [],
   "source": [
    "idx = general_to_simple_ridge(X_train, y_train)"
   ]
  },
  {
   "cell_type": "code",
   "execution_count": 66,
   "metadata": {},
   "outputs": [],
   "source": [
    "X_g2s = X[:, idx]\n",
    "X_train_g2s, X_test_g2s, _, _ = train_test_split(X_ss, y)"
   ]
  },
  {
   "cell_type": "code",
   "execution_count": 67,
   "metadata": {
    "pycharm": {
     "name": "#%%\n"
    }
   },
   "outputs": [
    {
     "name": "stdout",
     "output_type": "stream",
     "text": [
      "The optimal hyper-parameters for the polynomial expansion and l2 regularization term are respectively: 0.17 2\n"
     ]
    }
   ],
   "source": [
    "lambda_r_g2s, d_r_g2s = cross_val_ridge(X_train_g2s, y_train, plot=False)\n",
    "print(\"The optimal hyper-parameters for the polynomial expansion and l2 regularization term are respectively:\",\n",
    "      lambda_r_g2s, d_r_g2s)"
   ]
  },
  {
   "cell_type": "code",
   "execution_count": 68,
   "metadata": {
    "pycharm": {
     "name": "#%%\n"
    }
   },
   "outputs": [],
   "source": [
    "X_r_g2s = build_poly(X_g2s, d_g2s)\n",
    "X_train_r_g2s, X_test_r_g2s, _, _ = train_test_split(X_r_g2s, y)"
   ]
  },
  {
   "cell_type": "code",
   "execution_count": 69,
   "metadata": {
    "pycharm": {
     "name": "#%%\n"
    }
   },
   "outputs": [],
   "source": [
    "Ridge_w_lambda_g2s = ridge_regression(X_train_r_g2s, y_train, lambda_r_g2s)\n",
    "\n",
    "Ridge_prediction_lambda_g2s_data = predict(X_r_g2s, Ridge_w_lambda_g2s)\n",
    "Ridge_prediction_lambda_g2s_test = predict(X_test_r_g2s, Ridge_w_lambda_g2s)"
   ]
  },
  {
   "cell_type": "code",
   "execution_count": 70,
   "metadata": {
    "pycharm": {
     "name": "#%%\n"
    }
   },
   "outputs": [
    {
     "name": "stdout",
     "output_type": "stream",
     "text": [
      "Testing R^2:  0.10947547527000534 \n",
      "Full data R^2: 0.9824259460423761\n"
     ]
    }
   ],
   "source": [
    "print(\"Testing R^2: \", R_squared(y_test, Ridge_prediction_lambda_g2s_test),\n",
    "      \"\\nFull data R^2:\", R_squared(y, Ridge_prediction_lambda_g2s_data))"
   ]
  },
  {
   "cell_type": "code",
   "execution_count": 71,
   "metadata": {
    "pycharm": {
     "name": "#%%\n"
    }
   },
   "outputs": [
    {
     "name": "stdout",
     "output_type": "stream",
     "text": [
      "Full data adjusted R^2: 0.9694364278997846\n"
     ]
    }
   ],
   "source": [
    "print(\"Full data adjusted R^2:\", adjusted_R_squared(y, Ridge_prediction_lambda_g2s_data, X.shape[1]))"
   ]
  },
  {
   "cell_type": "code",
   "execution_count": 72,
   "metadata": {},
   "outputs": [
    {
     "name": "stdout",
     "output_type": "stream",
     "text": [
      "Testing RMSE:  376.4541235468056 \n",
      "Full data RMSE: 178.593064525619\n",
      "This implies only 0.10356125514508499 error rate on the test and 0.049130347539361414 on the full dataset\n"
     ]
    }
   ],
   "source": [
    "print(\"Testing RMSE: \", RMSE(y_test, Ridge_prediction_lambda_g2s_test),\n",
    "      \"\\nFull data RMSE:\", RMSE(y, Ridge_prediction_lambda_g2s_data))\n",
    "\n",
    "print(\"This implies only\", RMSE(y_test, Ridge_prediction_lambda_g2s_test)/tot, \"error rate on the test and\", RMSE(y, Ridge_prediction_lambda_g2s_data)/tot, \"on the full dataset\")"
   ]
  },
  {
   "cell_type": "code",
   "execution_count": null,
   "metadata": {},
   "outputs": [],
   "source": []
  },
  {
   "cell_type": "code",
   "execution_count": 73,
   "metadata": {},
   "outputs": [
    {
     "name": "stdout",
     "output_type": "stream",
     "text": [
      "0.10294321776644738\n"
     ]
    }
   ],
   "source": [
    "print(theil_U(y_test, Ridge_prediction_lambda_g2s_test))"
   ]
  },
  {
   "cell_type": "code",
   "execution_count": null,
   "metadata": {},
   "outputs": [],
   "source": []
  },
  {
   "cell_type": "code",
   "execution_count": null,
   "metadata": {},
   "outputs": [],
   "source": []
  },
  {
   "cell_type": "code",
   "execution_count": null,
   "metadata": {},
   "outputs": [],
   "source": []
  },
  {
   "cell_type": "code",
   "execution_count": null,
   "metadata": {},
   "outputs": [],
   "source": []
  },
  {
   "cell_type": "code",
   "execution_count": null,
   "metadata": {},
   "outputs": [],
   "source": []
  },
  {
   "cell_type": "code",
   "execution_count": null,
   "metadata": {},
   "outputs": [],
   "source": []
  },
  {
   "cell_type": "code",
   "execution_count": null,
   "metadata": {},
   "outputs": [],
   "source": []
  },
  {
   "cell_type": "code",
   "execution_count": null,
   "metadata": {},
   "outputs": [],
   "source": []
  },
  {
   "cell_type": "code",
   "execution_count": null,
   "metadata": {},
   "outputs": [],
   "source": []
  },
  {
   "cell_type": "code",
   "execution_count": null,
   "metadata": {},
   "outputs": [],
   "source": []
  },
  {
   "cell_type": "code",
   "execution_count": null,
   "metadata": {},
   "outputs": [],
   "source": []
  },
  {
   "cell_type": "code",
   "execution_count": null,
   "metadata": {},
   "outputs": [],
   "source": []
  },
  {
   "cell_type": "code",
   "execution_count": null,
   "metadata": {},
   "outputs": [],
   "source": []
  },
  {
   "cell_type": "code",
   "execution_count": null,
   "metadata": {},
   "outputs": [],
   "source": []
  },
  {
   "cell_type": "code",
   "execution_count": null,
   "metadata": {},
   "outputs": [],
   "source": []
  },
  {
   "cell_type": "code",
   "execution_count": null,
   "metadata": {},
   "outputs": [],
   "source": []
  },
  {
   "cell_type": "code",
   "execution_count": null,
   "metadata": {},
   "outputs": [],
   "source": []
  },
  {
   "cell_type": "code",
   "execution_count": null,
   "metadata": {},
   "outputs": [],
   "source": []
  },
  {
   "cell_type": "code",
   "execution_count": null,
   "metadata": {},
   "outputs": [],
   "source": []
  },
  {
   "cell_type": "code",
   "execution_count": null,
   "metadata": {},
   "outputs": [],
   "source": []
  },
  {
   "cell_type": "code",
   "execution_count": null,
   "metadata": {},
   "outputs": [],
   "source": []
  }
 ],
 "metadata": {
  "kernelspec": {
   "display_name": "ada-venv",
   "language": "python",
   "name": "ada-venv"
  },
  "language_info": {
   "codemirror_mode": {
    "name": "ipython",
    "version": 3
   },
   "file_extension": ".py",
   "mimetype": "text/x-python",
   "name": "python",
   "nbconvert_exporter": "python",
   "pygments_lexer": "ipython3",
   "version": "3.8.6"
  }
 },
 "nbformat": 4,
 "nbformat_minor": 4
}
